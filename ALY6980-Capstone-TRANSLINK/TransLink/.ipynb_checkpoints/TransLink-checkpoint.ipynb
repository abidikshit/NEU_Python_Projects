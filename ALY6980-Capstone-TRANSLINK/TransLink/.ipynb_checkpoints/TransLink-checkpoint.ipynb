{
 "cells": [
  {
   "cell_type": "code",
   "execution_count": null,
   "id": "3ea334e1-a3ed-439f-b99f-c141d6e17242",
   "metadata": {},
   "outputs": [],
   "source": [
    "setuptools\n",
    "tilapya\n",
    "fastkml\n",
    "geojson\n",
    "requests\n",
    "urllib3\n",
    "click"
   ]
  }
 ],
 "metadata": {
  "kernelspec": {
   "display_name": "Python 3 (ipykernel)",
   "language": "python",
   "name": "python3"
  },
  "language_info": {
   "codemirror_mode": {
    "name": "ipython",
    "version": 3
   },
   "file_extension": ".py",
   "mimetype": "text/x-python",
   "name": "python",
   "nbconvert_exporter": "python",
   "pygments_lexer": "ipython3",
   "version": "3.9.16"
  }
 },
 "nbformat": 4,
 "nbformat_minor": 5
}
