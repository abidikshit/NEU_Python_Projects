{
 "cells": [
  {
   "cell_type": "markdown",
   "id": "09b6d92a-7f55-49da-ade3-f6549bf4421a",
   "metadata": {},
   "source": [
    "# <center>ONLINE PAYMENT FRAUD DETECTION</center>\n",
    "# <center>Assignment 4: SVM</center>\n",
    "\n",
    "| Course | Instructor | Full Name | Date       | Term   |\n",
    "|--------|------------|-----------|------------|--------|\n",
    "| ALY6040 | Dr Chinthaka Pathum Dinesh, Prof Herath Gedara, Faculty Lecturer | Abhilash Dikshit | May 10, 2023 | Winter |\n"
   ]
  },
  {
   "cell_type": "code",
   "execution_count": 44,
   "id": "a2e39677-c3a1-453c-be29-42937aa7477f",
   "metadata": {
    "tags": []
   },
   "outputs": [],
   "source": [
    "# Basic Libraries\n",
    "import numpy as np\n",
    "import pandas as pd\n",
    "from sklearn.model_selection import train_test_split\n",
    "from tabulate import tabulate\n",
    "import matplotlib.pyplot as plt\n",
    "import seaborn as sns\n",
    "import warnings\n",
    "from scipy import stats\n",
    "from sklearn.compose import make_column_selector as selector\n",
    "from sklearn.metrics import confusion_matrix, recall_score, precision_score, f1_score, accuracy_score\n",
    "from sklearn.metrics import confusion_matrix, recall_score, precision_score, f1_score, accuracy_score\n",
    "from sklearn.model_selection import StratifiedKFold\n",
    "from sklearn.ensemble import RandomForestClassifier\n",
    "from sklearn.preprocessing import StandardScaler, RobustScaler\n",
    "from sklearn.model_selection import train_test_split\n",
    "from sklearn.model_selection import StratifiedShuffleSplit\n",
    "\n",
    "warnings.filterwarnings(action='ignore')"
   ]
  },
  {
   "cell_type": "code",
   "execution_count": 45,
   "id": "a5b8367d-0fa3-4f0b-a500-44ee5f294901",
   "metadata": {},
   "outputs": [],
   "source": [
    "# Read in the CSV file\n",
    "path = '~/GitProjects/Datasets/online_payment_fraud_detection.csv'\n",
    "df_raw = pd.read_csv(path)"
   ]
  },
  {
   "cell_type": "code",
   "execution_count": 76,
   "id": "01509822-1465-482c-b6ed-a93c381a281d",
   "metadata": {},
   "outputs": [
    {
     "data": {
      "text/html": [
       "<div>\n",
       "<style scoped>\n",
       "    .dataframe tbody tr th:only-of-type {\n",
       "        vertical-align: middle;\n",
       "    }\n",
       "\n",
       "    .dataframe tbody tr th {\n",
       "        vertical-align: top;\n",
       "    }\n",
       "\n",
       "    .dataframe thead th {\n",
       "        text-align: right;\n",
       "    }\n",
       "</style>\n",
       "<table border=\"1\" class=\"dataframe\">\n",
       "  <thead>\n",
       "    <tr style=\"text-align: right;\">\n",
       "      <th></th>\n",
       "      <th>step</th>\n",
       "      <th>type</th>\n",
       "      <th>amount</th>\n",
       "      <th>nameOrig</th>\n",
       "      <th>oldbalanceOrg</th>\n",
       "      <th>newbalanceOrig</th>\n",
       "      <th>nameDest</th>\n",
       "      <th>oldbalanceDest</th>\n",
       "      <th>newbalanceDest</th>\n",
       "      <th>isFraud</th>\n",
       "      <th>isFlaggedFraud</th>\n",
       "    </tr>\n",
       "  </thead>\n",
       "  <tbody>\n",
       "    <tr>\n",
       "      <th>0</th>\n",
       "      <td>1</td>\n",
       "      <td>PAYMENT</td>\n",
       "      <td>9839.64</td>\n",
       "      <td>C1231006815</td>\n",
       "      <td>170136.00</td>\n",
       "      <td>160296.36</td>\n",
       "      <td>M1979787155</td>\n",
       "      <td>0.00</td>\n",
       "      <td>0.00</td>\n",
       "      <td>0</td>\n",
       "      <td>0</td>\n",
       "    </tr>\n",
       "    <tr>\n",
       "      <th>1</th>\n",
       "      <td>1</td>\n",
       "      <td>PAYMENT</td>\n",
       "      <td>1864.28</td>\n",
       "      <td>C1666544295</td>\n",
       "      <td>21249.00</td>\n",
       "      <td>19384.72</td>\n",
       "      <td>M2044282225</td>\n",
       "      <td>0.00</td>\n",
       "      <td>0.00</td>\n",
       "      <td>0</td>\n",
       "      <td>0</td>\n",
       "    </tr>\n",
       "    <tr>\n",
       "      <th>2</th>\n",
       "      <td>1</td>\n",
       "      <td>TRANSFER</td>\n",
       "      <td>181.00</td>\n",
       "      <td>C1305486145</td>\n",
       "      <td>181.00</td>\n",
       "      <td>0.00</td>\n",
       "      <td>C553264065</td>\n",
       "      <td>0.00</td>\n",
       "      <td>0.00</td>\n",
       "      <td>1</td>\n",
       "      <td>0</td>\n",
       "    </tr>\n",
       "    <tr>\n",
       "      <th>3</th>\n",
       "      <td>1</td>\n",
       "      <td>CASH_OUT</td>\n",
       "      <td>181.00</td>\n",
       "      <td>C840083671</td>\n",
       "      <td>181.00</td>\n",
       "      <td>0.00</td>\n",
       "      <td>C38997010</td>\n",
       "      <td>21182.00</td>\n",
       "      <td>0.00</td>\n",
       "      <td>1</td>\n",
       "      <td>0</td>\n",
       "    </tr>\n",
       "    <tr>\n",
       "      <th>4</th>\n",
       "      <td>1</td>\n",
       "      <td>PAYMENT</td>\n",
       "      <td>11668.14</td>\n",
       "      <td>C2048537720</td>\n",
       "      <td>41554.00</td>\n",
       "      <td>29885.86</td>\n",
       "      <td>M1230701703</td>\n",
       "      <td>0.00</td>\n",
       "      <td>0.00</td>\n",
       "      <td>0</td>\n",
       "      <td>0</td>\n",
       "    </tr>\n",
       "    <tr>\n",
       "      <th>...</th>\n",
       "      <td>...</td>\n",
       "      <td>...</td>\n",
       "      <td>...</td>\n",
       "      <td>...</td>\n",
       "      <td>...</td>\n",
       "      <td>...</td>\n",
       "      <td>...</td>\n",
       "      <td>...</td>\n",
       "      <td>...</td>\n",
       "      <td>...</td>\n",
       "      <td>...</td>\n",
       "    </tr>\n",
       "    <tr>\n",
       "      <th>6362615</th>\n",
       "      <td>743</td>\n",
       "      <td>CASH_OUT</td>\n",
       "      <td>339682.13</td>\n",
       "      <td>C786484425</td>\n",
       "      <td>339682.13</td>\n",
       "      <td>0.00</td>\n",
       "      <td>C776919290</td>\n",
       "      <td>0.00</td>\n",
       "      <td>339682.13</td>\n",
       "      <td>1</td>\n",
       "      <td>0</td>\n",
       "    </tr>\n",
       "    <tr>\n",
       "      <th>6362616</th>\n",
       "      <td>743</td>\n",
       "      <td>TRANSFER</td>\n",
       "      <td>6311409.28</td>\n",
       "      <td>C1529008245</td>\n",
       "      <td>6311409.28</td>\n",
       "      <td>0.00</td>\n",
       "      <td>C1881841831</td>\n",
       "      <td>0.00</td>\n",
       "      <td>0.00</td>\n",
       "      <td>1</td>\n",
       "      <td>0</td>\n",
       "    </tr>\n",
       "    <tr>\n",
       "      <th>6362617</th>\n",
       "      <td>743</td>\n",
       "      <td>CASH_OUT</td>\n",
       "      <td>6311409.28</td>\n",
       "      <td>C1162922333</td>\n",
       "      <td>6311409.28</td>\n",
       "      <td>0.00</td>\n",
       "      <td>C1365125890</td>\n",
       "      <td>68488.84</td>\n",
       "      <td>6379898.11</td>\n",
       "      <td>1</td>\n",
       "      <td>0</td>\n",
       "    </tr>\n",
       "    <tr>\n",
       "      <th>6362618</th>\n",
       "      <td>743</td>\n",
       "      <td>TRANSFER</td>\n",
       "      <td>850002.52</td>\n",
       "      <td>C1685995037</td>\n",
       "      <td>850002.52</td>\n",
       "      <td>0.00</td>\n",
       "      <td>C2080388513</td>\n",
       "      <td>0.00</td>\n",
       "      <td>0.00</td>\n",
       "      <td>1</td>\n",
       "      <td>0</td>\n",
       "    </tr>\n",
       "    <tr>\n",
       "      <th>6362619</th>\n",
       "      <td>743</td>\n",
       "      <td>CASH_OUT</td>\n",
       "      <td>850002.52</td>\n",
       "      <td>C1280323807</td>\n",
       "      <td>850002.52</td>\n",
       "      <td>0.00</td>\n",
       "      <td>C873221189</td>\n",
       "      <td>6510099.11</td>\n",
       "      <td>7360101.63</td>\n",
       "      <td>1</td>\n",
       "      <td>0</td>\n",
       "    </tr>\n",
       "  </tbody>\n",
       "</table>\n",
       "<p>6362620 rows × 11 columns</p>\n",
       "</div>"
      ],
      "text/plain": [
       "         step      type      amount     nameOrig  oldbalanceOrg  \\\n",
       "0           1   PAYMENT     9839.64  C1231006815      170136.00   \n",
       "1           1   PAYMENT     1864.28  C1666544295       21249.00   \n",
       "2           1  TRANSFER      181.00  C1305486145         181.00   \n",
       "3           1  CASH_OUT      181.00   C840083671         181.00   \n",
       "4           1   PAYMENT    11668.14  C2048537720       41554.00   \n",
       "...       ...       ...         ...          ...            ...   \n",
       "6362615   743  CASH_OUT   339682.13   C786484425      339682.13   \n",
       "6362616   743  TRANSFER  6311409.28  C1529008245     6311409.28   \n",
       "6362617   743  CASH_OUT  6311409.28  C1162922333     6311409.28   \n",
       "6362618   743  TRANSFER   850002.52  C1685995037      850002.52   \n",
       "6362619   743  CASH_OUT   850002.52  C1280323807      850002.52   \n",
       "\n",
       "         newbalanceOrig     nameDest  oldbalanceDest  newbalanceDest  isFraud  \\\n",
       "0             160296.36  M1979787155            0.00            0.00        0   \n",
       "1              19384.72  M2044282225            0.00            0.00        0   \n",
       "2                  0.00   C553264065            0.00            0.00        1   \n",
       "3                  0.00    C38997010        21182.00            0.00        1   \n",
       "4              29885.86  M1230701703            0.00            0.00        0   \n",
       "...                 ...          ...             ...             ...      ...   \n",
       "6362615            0.00   C776919290            0.00       339682.13        1   \n",
       "6362616            0.00  C1881841831            0.00            0.00        1   \n",
       "6362617            0.00  C1365125890        68488.84      6379898.11        1   \n",
       "6362618            0.00  C2080388513            0.00            0.00        1   \n",
       "6362619            0.00   C873221189      6510099.11      7360101.63        1   \n",
       "\n",
       "         isFlaggedFraud  \n",
       "0                     0  \n",
       "1                     0  \n",
       "2                     0  \n",
       "3                     0  \n",
       "4                     0  \n",
       "...                 ...  \n",
       "6362615               0  \n",
       "6362616               0  \n",
       "6362617               0  \n",
       "6362618               0  \n",
       "6362619               0  \n",
       "\n",
       "[6362620 rows x 11 columns]"
      ]
     },
     "metadata": {},
     "output_type": "display_data"
    }
   ],
   "source": [
    "display(df_raw)"
   ]
  },
  {
   "cell_type": "markdown",
   "id": "b2bde7ec-a3ac-4ee4-8908-90bccd45e25b",
   "metadata": {},
   "source": [
    "### Exploratory Data Analysis"
   ]
  },
  {
   "cell_type": "code",
   "execution_count": 47,
   "id": "e42d5069-ff15-47b2-8a2b-69d5b86b4ac9",
   "metadata": {},
   "outputs": [
    {
     "name": "stdout",
     "output_type": "stream",
     "text": [
      "\u001b[1mOnline payment fraud detection:\n",
      "================================\u001b[0m\n",
      "╒═══════════════════════════════════════╤══════════╤═══════════════╕\n",
      "│ Type                                  │   Length │ Shape         │\n",
      "╞═══════════════════════════════════════╪══════════╪═══════════════╡\n",
      "│ <class 'pandas.core.frame.DataFrame'> │  6362620 │ (6362620, 11) │\n",
      "╘═══════════════════════════════════════╧══════════╧═══════════════╛\n"
     ]
    }
   ],
   "source": [
    "print('\\033[1mOnline payment fraud detection:\\n' + '='*32 + '\\033[0m')\n",
    "table = [['Type', 'Length', 'Shape'], [type(df_raw), len(df_raw), df_raw.shape]]\n",
    "print(tabulate(table, headers='firstrow', tablefmt='fancy_grid'))"
   ]
  },
  {
   "cell_type": "code",
   "execution_count": 48,
   "id": "3e1acbf8-febd-4454-bbc7-7dc1bab16889",
   "metadata": {},
   "outputs": [
    {
     "name": "stdout",
     "output_type": "stream",
     "text": [
      "Length of training set: 5090096\n",
      "Length of testing set: 1272524\n"
     ]
    }
   ],
   "source": [
    "# Split the dataset into training and testing sets (80:20)\n",
    "train, test = train_test_split(df_raw, test_size=0.2, random_state=42)\n",
    "\n",
    "# Print the lengths of the training and testing sets\n",
    "print(\"Length of training set:\", len(train))\n",
    "print(\"Length of testing set:\", len(test))"
   ]
  },
  {
   "cell_type": "code",
   "execution_count": 49,
   "id": "ef0653f2-cd36-4962-be66-3d989ebb7064",
   "metadata": {},
   "outputs": [],
   "source": [
    "df = test # we are using test dataset as the train dataset is huge and it is crashing local machine\n",
    "#print(\"Length of training set:\", len(df))"
   ]
  },
  {
   "cell_type": "code",
   "execution_count": 50,
   "id": "5bdbee35-d92a-4169-ba96-cd317fe9cdf3",
   "metadata": {},
   "outputs": [
    {
     "name": "stdout",
     "output_type": "stream",
     "text": [
      "\u001b[1mEDA on test dataset due to large data:\n",
      "======================================\u001b[0m\n",
      "               Datatype  Null_Count  Unique_Value\n",
      "step              int64           0           697\n",
      "type             object           0             5\n",
      "amount          float64           0       1219164\n",
      "nameOrig         object           0       1272160\n",
      "oldbalanceOrg   float64           0        460453\n",
      "newbalanceOrig  float64           0        548278\n",
      "nameDest         object           0        777464\n",
      "oldbalanceDest  float64           0        729323\n",
      "newbalanceDest  float64           0        765658\n",
      "isFraud           int64           0             2\n",
      "isFlaggedFraud    int64           0             2\n",
      "\n",
      "\u001b[1mDisplay Dataset:\u001b[0m \n",
      "\n"
     ]
    },
    {
     "data": {
      "text/html": [
       "<div>\n",
       "<style scoped>\n",
       "    .dataframe tbody tr th:only-of-type {\n",
       "        vertical-align: middle;\n",
       "    }\n",
       "\n",
       "    .dataframe tbody tr th {\n",
       "        vertical-align: top;\n",
       "    }\n",
       "\n",
       "    .dataframe thead th {\n",
       "        text-align: right;\n",
       "    }\n",
       "</style>\n",
       "<table border=\"1\" class=\"dataframe\">\n",
       "  <thead>\n",
       "    <tr style=\"text-align: right;\">\n",
       "      <th></th>\n",
       "      <th>step</th>\n",
       "      <th>type</th>\n",
       "      <th>amount</th>\n",
       "      <th>nameOrig</th>\n",
       "      <th>oldbalanceOrg</th>\n",
       "      <th>newbalanceOrig</th>\n",
       "      <th>nameDest</th>\n",
       "      <th>oldbalanceDest</th>\n",
       "      <th>newbalanceDest</th>\n",
       "      <th>isFraud</th>\n",
       "      <th>isFlaggedFraud</th>\n",
       "    </tr>\n",
       "  </thead>\n",
       "  <tbody>\n",
       "    <tr>\n",
       "      <th>3737323</th>\n",
       "      <td>278</td>\n",
       "      <td>CASH_IN</td>\n",
       "      <td>330218.42</td>\n",
       "      <td>C632336343</td>\n",
       "      <td>20866.00</td>\n",
       "      <td>351084.42</td>\n",
       "      <td>C834976624</td>\n",
       "      <td>452419.57</td>\n",
       "      <td>122201.15</td>\n",
       "      <td>0</td>\n",
       "      <td>0</td>\n",
       "    </tr>\n",
       "    <tr>\n",
       "      <th>264914</th>\n",
       "      <td>15</td>\n",
       "      <td>PAYMENT</td>\n",
       "      <td>11647.08</td>\n",
       "      <td>C1264712553</td>\n",
       "      <td>30370.00</td>\n",
       "      <td>18722.92</td>\n",
       "      <td>M215391829</td>\n",
       "      <td>0.00</td>\n",
       "      <td>0.00</td>\n",
       "      <td>0</td>\n",
       "      <td>0</td>\n",
       "    </tr>\n",
       "    <tr>\n",
       "      <th>85647</th>\n",
       "      <td>10</td>\n",
       "      <td>CASH_IN</td>\n",
       "      <td>152264.21</td>\n",
       "      <td>C1746846248</td>\n",
       "      <td>106589.00</td>\n",
       "      <td>258853.21</td>\n",
       "      <td>C1607284477</td>\n",
       "      <td>201303.01</td>\n",
       "      <td>49038.80</td>\n",
       "      <td>0</td>\n",
       "      <td>0</td>\n",
       "    </tr>\n",
       "    <tr>\n",
       "      <th>5899326</th>\n",
       "      <td>403</td>\n",
       "      <td>TRANSFER</td>\n",
       "      <td>1551760.63</td>\n",
       "      <td>C333676753</td>\n",
       "      <td>0.00</td>\n",
       "      <td>0.00</td>\n",
       "      <td>C1564353608</td>\n",
       "      <td>3198359.45</td>\n",
       "      <td>4750120.08</td>\n",
       "      <td>0</td>\n",
       "      <td>0</td>\n",
       "    </tr>\n",
       "    <tr>\n",
       "      <th>2544263</th>\n",
       "      <td>206</td>\n",
       "      <td>CASH_IN</td>\n",
       "      <td>78172.30</td>\n",
       "      <td>C813403091</td>\n",
       "      <td>2921331.58</td>\n",
       "      <td>2999503.88</td>\n",
       "      <td>C1091768874</td>\n",
       "      <td>415821.90</td>\n",
       "      <td>337649.60</td>\n",
       "      <td>0</td>\n",
       "      <td>0</td>\n",
       "    </tr>\n",
       "    <tr>\n",
       "      <th>...</th>\n",
       "      <td>...</td>\n",
       "      <td>...</td>\n",
       "      <td>...</td>\n",
       "      <td>...</td>\n",
       "      <td>...</td>\n",
       "      <td>...</td>\n",
       "      <td>...</td>\n",
       "      <td>...</td>\n",
       "      <td>...</td>\n",
       "      <td>...</td>\n",
       "      <td>...</td>\n",
       "    </tr>\n",
       "    <tr>\n",
       "      <th>2210524</th>\n",
       "      <td>186</td>\n",
       "      <td>PAYMENT</td>\n",
       "      <td>917.99</td>\n",
       "      <td>C409548237</td>\n",
       "      <td>9606.00</td>\n",
       "      <td>8688.01</td>\n",
       "      <td>M1829204703</td>\n",
       "      <td>0.00</td>\n",
       "      <td>0.00</td>\n",
       "      <td>0</td>\n",
       "      <td>0</td>\n",
       "    </tr>\n",
       "    <tr>\n",
       "      <th>956542</th>\n",
       "      <td>44</td>\n",
       "      <td>PAYMENT</td>\n",
       "      <td>480.58</td>\n",
       "      <td>C1374108622</td>\n",
       "      <td>4683.00</td>\n",
       "      <td>4202.42</td>\n",
       "      <td>M1285472891</td>\n",
       "      <td>0.00</td>\n",
       "      <td>0.00</td>\n",
       "      <td>0</td>\n",
       "      <td>0</td>\n",
       "    </tr>\n",
       "    <tr>\n",
       "      <th>5474798</th>\n",
       "      <td>379</td>\n",
       "      <td>CASH_OUT</td>\n",
       "      <td>248511.67</td>\n",
       "      <td>C1966155172</td>\n",
       "      <td>507.00</td>\n",
       "      <td>0.00</td>\n",
       "      <td>C1465953419</td>\n",
       "      <td>23807.93</td>\n",
       "      <td>272319.61</td>\n",
       "      <td>0</td>\n",
       "      <td>0</td>\n",
       "    </tr>\n",
       "    <tr>\n",
       "      <th>878120</th>\n",
       "      <td>42</td>\n",
       "      <td>CASH_OUT</td>\n",
       "      <td>200008.65</td>\n",
       "      <td>C1490328004</td>\n",
       "      <td>0.00</td>\n",
       "      <td>0.00</td>\n",
       "      <td>C2003672404</td>\n",
       "      <td>589973.64</td>\n",
       "      <td>789982.29</td>\n",
       "      <td>0</td>\n",
       "      <td>0</td>\n",
       "    </tr>\n",
       "    <tr>\n",
       "      <th>1592828</th>\n",
       "      <td>156</td>\n",
       "      <td>CASH_IN</td>\n",
       "      <td>48066.50</td>\n",
       "      <td>C1849687610</td>\n",
       "      <td>202207.00</td>\n",
       "      <td>250273.50</td>\n",
       "      <td>C1649143897</td>\n",
       "      <td>594770.06</td>\n",
       "      <td>546703.55</td>\n",
       "      <td>0</td>\n",
       "      <td>0</td>\n",
       "    </tr>\n",
       "  </tbody>\n",
       "</table>\n",
       "<p>1272524 rows × 11 columns</p>\n",
       "</div>"
      ],
      "text/plain": [
       "         step      type      amount     nameOrig  oldbalanceOrg  \\\n",
       "3737323   278   CASH_IN   330218.42   C632336343       20866.00   \n",
       "264914     15   PAYMENT    11647.08  C1264712553       30370.00   \n",
       "85647      10   CASH_IN   152264.21  C1746846248      106589.00   \n",
       "5899326   403  TRANSFER  1551760.63   C333676753           0.00   \n",
       "2544263   206   CASH_IN    78172.30   C813403091     2921331.58   \n",
       "...       ...       ...         ...          ...            ...   \n",
       "2210524   186   PAYMENT      917.99   C409548237        9606.00   \n",
       "956542     44   PAYMENT      480.58  C1374108622        4683.00   \n",
       "5474798   379  CASH_OUT   248511.67  C1966155172         507.00   \n",
       "878120     42  CASH_OUT   200008.65  C1490328004           0.00   \n",
       "1592828   156   CASH_IN    48066.50  C1849687610      202207.00   \n",
       "\n",
       "         newbalanceOrig     nameDest  oldbalanceDest  newbalanceDest  isFraud  \\\n",
       "3737323       351084.42   C834976624       452419.57       122201.15        0   \n",
       "264914         18722.92   M215391829            0.00            0.00        0   \n",
       "85647         258853.21  C1607284477       201303.01        49038.80        0   \n",
       "5899326            0.00  C1564353608      3198359.45      4750120.08        0   \n",
       "2544263      2999503.88  C1091768874       415821.90       337649.60        0   \n",
       "...                 ...          ...             ...             ...      ...   \n",
       "2210524         8688.01  M1829204703            0.00            0.00        0   \n",
       "956542          4202.42  M1285472891            0.00            0.00        0   \n",
       "5474798            0.00  C1465953419        23807.93       272319.61        0   \n",
       "878120             0.00  C2003672404       589973.64       789982.29        0   \n",
       "1592828       250273.50  C1649143897       594770.06       546703.55        0   \n",
       "\n",
       "         isFlaggedFraud  \n",
       "3737323               0  \n",
       "264914                0  \n",
       "85647                 0  \n",
       "5899326               0  \n",
       "2544263               0  \n",
       "...                 ...  \n",
       "2210524               0  \n",
       "956542                0  \n",
       "5474798               0  \n",
       "878120                0  \n",
       "1592828               0  \n",
       "\n",
       "[1272524 rows x 11 columns]"
      ]
     },
     "metadata": {},
     "output_type": "display_data"
    },
    {
     "name": "stdout",
     "output_type": "stream",
     "text": [
      "\n",
      "\u001b[1mDataset Description:\u001b[0m \n",
      "                step        amount  oldbalanceOrg  newbalanceOrig  \\\n",
      "count  1.272524e+06  1.272524e+06   1.272524e+06    1.272524e+06   \n",
      "mean   2.434153e+02  1.802790e+05   8.358581e+05    8.573116e+05   \n",
      "std    1.423745e+02  6.127373e+05   2.893421e+06    2.929707e+06   \n",
      "min    1.000000e+00  0.000000e+00   0.000000e+00    0.000000e+00   \n",
      "25%    1.560000e+02  1.336609e+04   0.000000e+00    0.000000e+00   \n",
      "50%    2.390000e+02  7.489837e+04   1.432206e+04    0.000000e+00   \n",
      "75%    3.350000e+02  2.090111e+05   1.073550e+05    1.446149e+05   \n",
      "max    7.420000e+02  6.933732e+07   4.489219e+07    3.894623e+07   \n",
      "\n",
      "       oldbalanceDest  newbalanceDest       isFraud  isFlaggedFraud  \n",
      "count    1.272524e+06    1.272524e+06  1.272524e+06    1.272524e+06  \n",
      "mean     1.105138e+06    1.229909e+06  1.273060e-03    2.357519e-06  \n",
      "std      3.428096e+06    3.704978e+06  3.565727e-02    1.535420e-03  \n",
      "min      0.000000e+00    0.000000e+00  0.000000e+00    0.000000e+00  \n",
      "25%      0.000000e+00    0.000000e+00  0.000000e+00    0.000000e+00  \n",
      "50%      1.327846e+05    2.152613e+05  0.000000e+00    0.000000e+00  \n",
      "75%      9.483279e+05    1.115401e+06  0.000000e+00    0.000000e+00  \n",
      "max      3.553805e+08    3.560159e+08  1.000000e+00    1.000000e+00  \n"
     ]
    }
   ],
   "source": [
    "print('\\033[1mEDA on test dataset due to large data:\\n' + '='*38 + '\\033[0m')\n",
    "\n",
    "# Display the data types of each column along with their null values\n",
    "dtypes= df.dtypes\n",
    "\n",
    "# Check for null values in each column\n",
    "null_counts = df.isnull().sum()\n",
    "\n",
    "# number of unique values in each column\n",
    "uniq= df.nunique()\n",
    "\n",
    "# Rename columns\n",
    "combine_details = pd.concat([dtypes, null_counts, uniq], axis=1)\n",
    "combine_details = combine_details.rename(columns={0: 'Datatype', 1: 'Null_Count', 2: 'Unique_Value'})\n",
    "\n",
    "# Print result\n",
    "print(combine_details)\n",
    "\n",
    "print('\\n\\033[1mDisplay Dataset:\\033[0m \\n')\n",
    "display(df)\n",
    "\n",
    "print('\\n\\033[1mDataset Description:\\033[0m \\n', df.describe())\n"
   ]
  },
  {
   "cell_type": "code",
   "execution_count": 51,
   "id": "f1899927-9575-4611-af92-fd8597c0fd56",
   "metadata": {},
   "outputs": [
    {
     "name": "stdout",
     "output_type": "stream",
     "text": [
      "No Frauds 99.87 % of the dataset\n",
      "Frauds 0.13 % of the dataset\n"
     ]
    }
   ],
   "source": [
    "# To check the total fraud in the dataset\n",
    "print('No Frauds', round(df['isFraud'].value_counts()[0]/len(df) * 100,2), '% of the dataset')\n",
    "print('Frauds', round(df['isFraud'].value_counts()[1]/len(df) * 100,2), '% of the dataset')"
   ]
  },
  {
   "cell_type": "code",
   "execution_count": 52,
   "id": "98fb74e4-5aae-4cb3-9d10-dd1a6d068739",
   "metadata": {},
   "outputs": [
    {
     "data": {
      "image/png": "[encoded data removed]",
      "text/plain": [
       "<Figure size 1800x400 with 2 Axes>"
      ]
     },
     "metadata": {},
     "output_type": "display_data"
    }
   ],
   "source": [
    "fig, ax = plt.subplots(1, 2, figsize=(18,4))\n",
    "\n",
    "amount_val = df['amount'].values\n",
    "time_val = df['step'].values\n",
    "\n",
    "sns.distplot(amount_val, ax=ax[0], color='g')\n",
    "sns.distplot(time_val, ax=ax[1], color='orange')\n",
    "\n",
    "ax[0].set_title('Distribution of Transaction Amount', fontsize=14)\n",
    "ax[0].set_xlim([min(amount_val), max(amount_val)])\n",
    "\n",
    "ax[1].set_title('Distribution of Transaction Step', fontsize=14)\n",
    "ax[1].set_xlim([min(time_val), max(time_val)])\n",
    "\n",
    "plt.show()"
   ]
  },
  {
   "cell_type": "markdown",
   "id": "86d32667-0ef6-452b-bea1-3f614bc31971",
   "metadata": {},
   "source": [
    "### Countplot to show Payment Type vs Count:"
   ]
  },
  {
   "cell_type": "code",
   "execution_count": 53,
   "id": "448d0657-52ba-473d-a94b-9386f0161914",
   "metadata": {},
   "outputs": [
    {
     "data": {
      "image/png": "[encoded data removed]",
      "text/plain": [
       "<Figure size 700x300 with 1 Axes>"
      ]
     },
     "metadata": {},
     "output_type": "display_data"
    }
   ],
   "source": [
    "# Countplot of 'type'\n",
    "plt.figure(figsize=(7,3))\n",
    "plt.title('Payment Type vs Count')\n",
    "\n",
    "# Set the color palette\n",
    "colors = ['#4c72b0', '#55a868', '#c44e52', '#8172b2', '#ccb974', '#64b5cd']\n",
    "\n",
    "ax = sns.countplot(df, x='type', palette=colors)\n",
    "plt.xlabel('Payment Type')\n",
    "plt.ylabel('Count')\n",
    "plt.ylim(0, 1e6)\n",
    "\n",
    "\n",
    "# Add count labels to the plot\n",
    "for p in ax.patches:\n",
    "    ax.annotate(format(p.get_height(), '.0f'), \n",
    "                (p.get_x() + p.get_width() / 2., p.get_height()), \n",
    "                ha='center', va='center', \n",
    "                xytext=(0, 9), \n",
    "                textcoords='offset points')\n",
    "    \n",
    "plt.show()\n"
   ]
  },
  {
   "cell_type": "markdown",
   "id": "ff6f0c40-3b2e-4459-b83c-1ac5da6b7ad8",
   "metadata": {},
   "source": [
    "### Countplot to show the Frequency of Transaction Types where Fraud happened:"
   ]
  },
  {
   "cell_type": "code",
   "execution_count": 54,
   "id": "24127254-a0a6-4fed-b578-f055631623fc",
   "metadata": {},
   "outputs": [
    {
     "data": {
      "image/png": "[encoded data removed]",
      "text/plain": [
       "<Figure size 700x500 with 1 Axes>"
      ]
     },
     "metadata": {},
     "output_type": "display_data"
    }
   ],
   "source": [
    "# Create a subset of the data where isFraud is true\n",
    "fraud_data = df[df['isFraud'] == 1]\n",
    "\n",
    "# Create a countplot to show the frequency of each transaction type\n",
    "plt.figure(figsize=(7,5))\n",
    "ax = sns.countplot(data=fraud_data, x='type')\n",
    "plt.title('Frequency of Transaction Types where isFraud is True')\n",
    "plt.xlabel('Transaction Type')\n",
    "plt.ylim(0, 6000)\n",
    "plt.ylabel('Frequency')\n",
    "\n",
    "# Add count values to each bar\n",
    "for p in ax.patches:\n",
    "    ax.annotate(format(p.get_height(), '.0f'),\n",
    "                (p.get_x() + p.get_width() / 2., p.get_height()),\n",
    "                ha = 'center', va = 'center',\n",
    "                xytext = (0, 9),\n",
    "                textcoords = 'offset points',\n",
    "                fontsize=12)\n",
    "\n",
    "plt.show()\n"
   ]
  },
  {
   "cell_type": "code",
   "execution_count": 55,
   "id": "d3559f34-9814-4130-a6b8-64ce205cc4eb",
   "metadata": {},
   "outputs": [],
   "source": [
    "# Separate data into numerical and categorical data\n",
    "numerical_columns_selector = selector(dtype_exclude=object)\n",
    "categorical_columns_selector = selector(dtype_include=object)\n",
    "\n",
    "numerical_columns = numerical_columns_selector(df)\n",
    "categorical_columns = categorical_columns_selector(df)"
   ]
  },
  {
   "cell_type": "code",
   "execution_count": 56,
   "id": "d39dd785-04b4-4fb7-aa12-7dbb8f77c7cc",
   "metadata": {},
   "outputs": [],
   "source": [
    "numerical = ['step',\n",
    " 'amount',\n",
    " 'oldbalanceOrg',\n",
    " 'newbalanceOrig',\n",
    " 'oldbalanceDest',\n",
    " 'newbalanceDest']\n",
    "\n",
    "categorical = ['type', 'nameOrig', 'nameDest', 'isFlaggedFraud']"
   ]
  },
  {
   "cell_type": "code",
   "execution_count": 57,
   "id": "4d13ef60-2eb4-43f8-a20b-9fe36b6d7e70",
   "metadata": {},
   "outputs": [
    {
     "data": {
      "image/png": "[encoded data removed]",
      "text/plain": [
       "<Figure size 1600x500 with 6 Axes>"
      ]
     },
     "metadata": {},
     "output_type": "display_data"
    }
   ],
   "source": [
    "# checking boxplots\n",
    "def boxplots_custom(dataset, columns_list, rows, cols, suptitle):\n",
    "    fig, axs = plt.subplots(rows, cols, sharey=True, figsize=(16,5))\n",
    "    fig.suptitle(suptitle,y=1, size=25)\n",
    "    axs = axs.flatten()\n",
    "    for i, data in enumerate(columns_list):\n",
    "        sns.boxplot(data=dataset[data], orient='h', ax=axs[i])\n",
    "        axs[i].set_title(data + ', skewness is: '+str(round(dataset[data].skew(axis = 0, skipna = True),2)))\n",
    "        \n",
    "boxplots_custom(dataset=df, columns_list=numerical, rows=2, cols=3, suptitle='Boxplots for each variable')\n",
    "plt.tight_layout()"
   ]
  },
  {
   "cell_type": "code",
   "execution_count": 58,
   "id": "903c613b-e78f-437e-8c02-0bec4adb02ee",
   "metadata": {},
   "outputs": [
    {
     "data": {
      "text/plain": [
       "[Text(0, 0.5, 'step'),\n",
       " Text(0, 1.5, 'amount'),\n",
       " Text(0, 2.5, 'oldbalanceOrg'),\n",
       " Text(0, 3.5, 'newbalanceOrig'),\n",
       " Text(0, 4.5, 'oldbalanceDest'),\n",
       " Text(0, 5.5, 'newbalanceDest'),\n",
       " Text(0, 6.5, 'isFraud'),\n",
       " Text(0, 7.5, 'isFlaggedFraud')]"
      ]
     },
     "execution_count": 58,
     "metadata": {},
     "output_type": "execute_result"
    },
    {
     "data": {
      "image/png": "[encoded data removed]",
      "text/plain": [
       "<Figure size 2400x2000 with 2 Axes>"
      ]
     },
     "metadata": {},
     "output_type": "display_data"
    }
   ],
   "source": [
    "# correlation\n",
    "f, ax1 = plt.subplots(1, 1, figsize=(24,20))\n",
    "\n",
    "# Test DataFrame\n",
    "corr = df.corr()\n",
    "mask = np.triu(np.ones_like(corr, dtype=bool))\n",
    "sns.heatmap(corr, cmap='YlGnBu', annot_kws={'size':20}, ax=ax1, mask=mask, cbar=True, \n",
    "            xticklabels=corr.columns, yticklabels=corr.columns, linewidths=.5)\n",
    "\n",
    "ax1.set_title(\"Imbalanced Correlation Matrix \\n\", fontsize=25)\n",
    "ax1.set_yticklabels(ax1.get_yticklabels(), rotation=0)\n"
   ]
  },
  {
   "cell_type": "markdown",
   "id": "66fbe054-10ec-4e2a-85b0-b68f42cd228b",
   "metadata": {},
   "source": [
    "### CLUSTERING TECHNIQUE: KMeans\n",
    "We want to cluster based on the transaction amount, transaction type, and whether the transaction is fraudulent or not. We can drop the other columns from the dataset and proceed with clustering."
   ]
  },
  {
   "cell_type": "code",
   "execution_count": 59,
   "id": "33970638-140c-4b8a-b3e5-442cb0c2d1e2",
   "metadata": {},
   "outputs": [
    {
     "data": {
      "image/png": "[encoded data removed]",
      "text/plain": [
       "<Figure size 640x480 with 1 Axes>"
      ]
     },
     "metadata": {},
     "output_type": "display_data"
    }
   ],
   "source": [
    "# Select relevant columns for clustering\n",
    "df_clustering = df[['type', 'amount', 'isFraud']]\n",
    "\n",
    "# Convert transaction type to categorical variable\n",
    "df_clustering['type'] = pd.Categorical(df_clustering['type']).codes\n",
    "\n",
    "# Standardize the data\n",
    "from sklearn.preprocessing import StandardScaler\n",
    "scaler = StandardScaler()\n",
    "df_clustering_std = scaler.fit_transform(df_clustering)\n",
    "\n",
    "# Perform clustering using KMeans\n",
    "from sklearn.cluster import KMeans\n",
    "kmeans = KMeans(n_clusters=2, random_state=42)\n",
    "kmeans.fit(df_clustering_std)\n",
    "\n",
    "# Visualize the clusters\n",
    "import matplotlib.pyplot as plt\n",
    "%matplotlib inline\n",
    "\n",
    "plt.scatter(df_clustering['amount'], df_clustering['type'], c=kmeans.labels_)\n",
    "plt.xlabel('Transaction Amount')\n",
    "plt.ylabel('Transaction Type')\n",
    "plt.title('KMeans Clustering')\n",
    "plt.show()\n"
   ]
  },
  {
   "cell_type": "markdown",
   "id": "e27b11af-4870-46ba-b346-f58a31204964",
   "metadata": {},
   "source": [
    "Here, I added the mask parameter to hide the upper triangular part of the plot, set cbar=True to add a color bar, and set xticklabels and yticklabels to the column names of the correlation matrix for better readability. Finally, I also set linewidths=.5 to make the lines between the cells of the heatmap thinner.\n",
    "\n",
    "This will perform clustering using KMeans with 2 clusters based on the transaction amount and type, and visualize the clusters. "
   ]
  },
  {
   "cell_type": "code",
   "execution_count": 60,
   "id": "29c75223-fff5-4039-8508-8a72c6a9eb43",
   "metadata": {},
   "outputs": [],
   "source": [
    "from sklearn.preprocessing import StandardScaler, RobustScaler\n",
    "\n",
    "# RobustScaler is less prone to outliers.\n",
    "\n",
    "std_scaler = StandardScaler()\n",
    "rob_scaler = RobustScaler()\n",
    "\n",
    "for e in numerical:\n",
    "    df[f'scaled_{e}'] = rob_scaler.fit_transform(df[e].values.reshape(-1,1))\n",
    "    df.drop([e], axis=1, inplace=True)"
   ]
  },
  {
   "cell_type": "code",
   "execution_count": 61,
   "id": "8a2b2c01-5f38-44ec-a6c0-6b50d4f07ac4",
   "metadata": {},
   "outputs": [],
   "source": [
    "df['type'] = df['type'].map({'CASH_OUT':1, 'PAYMENT':2, 'CASH_IN':3, 'TRANSFER':4, 'DEBIT':5})"
   ]
  },
  {
   "cell_type": "code",
   "execution_count": 62,
   "id": "8ff53049-0230-40b0-a0d8-9117c24b2794",
   "metadata": {},
   "outputs": [],
   "source": [
    "df.drop(['nameOrig', 'nameDest'], axis=1, inplace=True)"
   ]
  },
  {
   "cell_type": "code",
   "execution_count": 63,
   "id": "632ef495-7f96-45c5-bade-77b75c3f0982",
   "metadata": {},
   "outputs": [
    {
     "name": "stdout",
     "output_type": "stream",
     "text": [
      "No Frauds 99.87 % of the dataset\n",
      "Frauds 0.13 % of the dataset\n",
      "Train: [  42269 1242564  815807 ...  441438 1018259  429576] Test: [  87203  393763  726936 ... 1149777 1036252 1151809]\n",
      "Train: [ 295612  571934  519396 ...  491822 1265619 1130127] Test: [ 912113 1117705 1114575 ...  779949  990358  261181]\n",
      "Train: [ 85080 239827 654749 ... 779520 780019  12810] Test: [1068313  872145  419327 ...  156234  927214  564885]\n",
      "Train: [1234217 1143953  205931 ... 1241555 1070199  188439] Test: [1173815 1271362  170750 ...  718126  654850  319072]\n",
      "Train: [ 690132 1222849 1003388 ...  836950  320576  579345] Test: [979676 434107  37023 ... 983402  81015 480941]\n"
     ]
    }
   ],
   "source": [
    "print('No Frauds', round(df['isFraud'].value_counts()[0]/len(df) * 100,2), '% of the dataset')\n",
    "print('Frauds', round(df['isFraud'].value_counts()[1]/len(df) * 100,2), '% of the dataset')\n",
    "\n",
    "X = df.drop('isFraud', axis=1)\n",
    "y = df['isFraud']\n",
    "\n",
    "sss = StratifiedShuffleSplit(n_splits=5, random_state=None)\n",
    "\n",
    "for train_index, test_index in sss.split(X, y):\n",
    "    print(\"Train:\", train_index, \"Test:\", test_index)\n",
    "    original_Xtrain, original_Xtest = X.iloc[train_index], X.iloc[test_index]\n",
    "    original_ytrain, original_ytest = y.iloc[train_index], y.iloc[test_index]"
   ]
  },
  {
   "cell_type": "code",
   "execution_count": 64,
   "id": "ca891630-51de-4b49-9a71-051088225126",
   "metadata": {},
   "outputs": [
    {
     "name": "stdout",
     "output_type": "stream",
     "text": [
      "Label Distributions: \n",
      "\n",
      "[0.99872694 0.00127306]\n",
      "[0.99872695 0.00127305]\n"
     ]
    }
   ],
   "source": [
    "# Turn into an array\n",
    "original_Xtrain = original_Xtrain.values\n",
    "original_Xtest = original_Xtest.values\n",
    "original_ytrain = original_ytrain.values\n",
    "original_ytest = original_ytest.values\n",
    "\n",
    "# See if both the train and test label distribution are similarly distributed\n",
    "train_unique_label, train_counts_label = np.unique(original_ytrain, return_counts=True)\n",
    "test_unique_label, test_counts_label = np.unique(original_ytest, return_counts=True)\n",
    "\n",
    "print('Label Distributions: \\n')\n",
    "print(train_counts_label/ len(original_ytrain))\n",
    "print(test_counts_label/ len(original_ytest))"
   ]
  },
  {
   "cell_type": "code",
   "execution_count": 65,
   "id": "009eb518-51c0-451f-a9d7-9702414f319a",
   "metadata": {},
   "outputs": [],
   "source": [
    "\n",
    "#We are going to ensure that we have the same splits of the data every time. \n",
    "#We can ensure this by creating a KFold object, kf, and passing cv=kf instead of the more common cv=5.\n",
    "\n",
    "kf = StratifiedKFold(n_splits=5, shuffle=False)"
   ]
  },
  {
   "cell_type": "code",
   "execution_count": 66,
   "id": "92b2472b-e860-4abb-8f29-3600bfbcb04a",
   "metadata": {},
   "outputs": [],
   "source": [
    "from sklearn.linear_model import LogisticRegression\n",
    "\n",
    "X_train = original_Xtrain.copy()\n",
    "y_train = original_ytrain.copy()\n",
    "X_test = original_Xtest.copy()\n",
    "y_test = original_ytest.copy()\n",
    "\n",
    "clf = LogisticRegression()\n",
    "\n",
    "# train the model on the training data\n",
    "clf.fit(X_train, y_train)\n",
    "\n",
    "# predict on the testing data\n",
    "y_pred = clf.predict(X_test)"
   ]
  },
  {
   "cell_type": "code",
   "execution_count": 67,
   "id": "a133e6e9-30b7-455a-97d8-72755408590a",
   "metadata": {},
   "outputs": [
    {
     "name": "stdout",
     "output_type": "stream",
     "text": [
      "[[127081     10]\n",
      " [    96     66]]\n"
     ]
    }
   ],
   "source": [
    "cm = confusion_matrix(y_test, y_pred)\n",
    "\n",
    "rf_Recall = recall_score(y_test, y_pred)\n",
    "rf_Precision = precision_score(y_test, y_pred)\n",
    "rf_f1 = f1_score(y_test, y_pred)\n",
    "rf_accuracy = accuracy_score(y_test, y_pred)\n",
    "\n",
    "print(cm)"
   ]
  },
  {
   "cell_type": "code",
   "execution_count": 68,
   "id": "88b41803-4fe1-4031-944b-bba504ce1705",
   "metadata": {},
   "outputs": [
    {
     "data": {
      "text/html": [
       "<div>\n",
       "<style scoped>\n",
       "    .dataframe tbody tr th:only-of-type {\n",
       "        vertical-align: middle;\n",
       "    }\n",
       "\n",
       "    .dataframe tbody tr th {\n",
       "        vertical-align: top;\n",
       "    }\n",
       "\n",
       "    .dataframe thead th {\n",
       "        text-align: right;\n",
       "    }\n",
       "</style>\n",
       "<table border=\"1\" class=\"dataframe\">\n",
       "  <thead>\n",
       "    <tr style=\"text-align: right;\">\n",
       "      <th></th>\n",
       "      <th>Random Forest with</th>\n",
       "      <th>Recall</th>\n",
       "      <th>Precision</th>\n",
       "      <th>F1 Score</th>\n",
       "      <th>Accuracy</th>\n",
       "    </tr>\n",
       "  </thead>\n",
       "  <tbody>\n",
       "    <tr>\n",
       "      <th>0</th>\n",
       "      <td>No Under/Oversampling</td>\n",
       "      <td>0.407407</td>\n",
       "      <td>0.868421</td>\n",
       "      <td>0.554622</td>\n",
       "      <td>0.999167</td>\n",
       "    </tr>\n",
       "  </tbody>\n",
       "</table>\n",
       "</div>"
      ],
      "text/plain": [
       "      Random Forest with    Recall  Precision  F1 Score  Accuracy\n",
       "0  No Under/Oversampling  0.407407   0.868421  0.554622  0.999167"
      ]
     },
     "execution_count": 68,
     "metadata": {},
     "output_type": "execute_result"
    }
   ],
   "source": [
    "ndf = [(rf_Recall, rf_Precision, rf_f1, rf_accuracy)]\n",
    "\n",
    "rf_score = pd.DataFrame(data = ndf, columns=['Recall','Precision','F1 Score', 'Accuracy'])\n",
    "rf_score.insert(0, 'Random Forest with', 'No Under/Oversampling')\n",
    "rf_score"
   ]
  },
  {
   "cell_type": "code",
   "execution_count": 69,
   "id": "bbc6ff43-790c-4b0b-93af-134236f50703",
   "metadata": {},
   "outputs": [],
   "source": [
    "clf = RandomForestClassifier(n_estimators=100, random_state=42)"
   ]
  },
  {
   "cell_type": "code",
   "execution_count": 70,
   "id": "4044a1fb-be76-49ec-b804-cb5b0b695241",
   "metadata": {},
   "outputs": [
    {
     "name": "stdout",
     "output_type": "stream",
     "text": [
      "Accuracy: 0.9996306570375552\n"
     ]
    }
   ],
   "source": [
    "clf.fit(X_train, y_train)\n",
    "\n",
    "y_pred = clf.predict(X_test)\n",
    "\n",
    "\n",
    "accuracy = accuracy_score(y_test, y_pred)\n",
    "print(\"Accuracy:\", accuracy)"
   ]
  },
  {
   "cell_type": "code",
   "execution_count": 28,
   "id": "b9d6b1c4-fcc2-487c-9bc4-1632890a25e8",
   "metadata": {},
   "outputs": [
    {
     "name": "stdout",
     "output_type": "stream",
     "text": [
      "[[127089      2]\n",
      " [    41    121]]\n"
     ]
    }
   ],
   "source": [
    "cm = confusion_matrix(y_test, y_pred)\n",
    "\n",
    "rf_Recall = recall_score(y_test, y_pred)\n",
    "rf_Precision = precision_score(y_test, y_pred)\n",
    "rf_f1 = f1_score(y_test, y_pred)\n",
    "rf_accuracy = accuracy_score(y_test, y_pred)\n",
    "\n",
    "print(cm)"
   ]
  },
  {
   "cell_type": "code",
   "execution_count": 29,
   "id": "ea485692-d82c-4907-a04f-f65412936e58",
   "metadata": {},
   "outputs": [
    {
     "data": {
      "text/html": [
       "<div>\n",
       "<style scoped>\n",
       "    .dataframe tbody tr th:only-of-type {\n",
       "        vertical-align: middle;\n",
       "    }\n",
       "\n",
       "    .dataframe tbody tr th {\n",
       "        vertical-align: top;\n",
       "    }\n",
       "\n",
       "    .dataframe thead th {\n",
       "        text-align: right;\n",
       "    }\n",
       "</style>\n",
       "<table border=\"1\" class=\"dataframe\">\n",
       "  <thead>\n",
       "    <tr style=\"text-align: right;\">\n",
       "      <th></th>\n",
       "      <th>Random Forest with</th>\n",
       "      <th>Recall</th>\n",
       "      <th>Precision</th>\n",
       "      <th>F1 Score</th>\n",
       "      <th>Accuracy</th>\n",
       "    </tr>\n",
       "  </thead>\n",
       "  <tbody>\n",
       "    <tr>\n",
       "      <th>0</th>\n",
       "      <td>No Under/Oversampling</td>\n",
       "      <td>0.746914</td>\n",
       "      <td>0.98374</td>\n",
       "      <td>0.849123</td>\n",
       "      <td>0.999662</td>\n",
       "    </tr>\n",
       "  </tbody>\n",
       "</table>\n",
       "</div>"
      ],
      "text/plain": [
       "      Random Forest with    Recall  Precision  F1 Score  Accuracy\n",
       "0  No Under/Oversampling  0.746914    0.98374  0.849123  0.999662"
      ]
     },
     "execution_count": 29,
     "metadata": {},
     "output_type": "execute_result"
    }
   ],
   "source": [
    "ndf = [(rf_Recall, rf_Precision, rf_f1, rf_accuracy)]\n",
    "\n",
    "rf_score = pd.DataFrame(data = ndf, columns=['Recall','Precision','F1 Score', 'Accuracy'])\n",
    "rf_score.insert(0, 'Random Forest with', 'No Under/Oversampling')\n",
    "rf_score"
   ]
  },
  {
   "cell_type": "markdown",
   "id": "4edfcbc9-2547-4d68-af9d-06130f10d958",
   "metadata": {},
   "source": [
    "### SVM (Support Vector Machines)"
   ]
  },
  {
   "cell_type": "code",
   "execution_count": 77,
   "id": "d5c00131-068b-46b7-bea4-f1fe88bac60b",
   "metadata": {},
   "outputs": [
    {
     "name": "stdout",
     "output_type": "stream",
     "text": [
      "Index(['step', 'type', 'amount', 'nameOrig', 'oldbalanceOrg', 'newbalanceOrig',\n",
      "       'nameDest', 'oldbalanceDest', 'newbalanceDest', 'isFraud',\n",
      "       'isFlaggedFraud'],\n",
      "      dtype='object')\n"
     ]
    }
   ],
   "source": [
    "train, test = train_test_split(df_raw, test_size=0.2, random_state=42)\n",
    "df = test\n",
    "print(df.columns)"
   ]
  },
  {
   "cell_type": "markdown",
   "id": "456de964-b89b-4471-af42-dfc1ba4e5eca",
   "metadata": {},
   "source": [
    "#### Select the columns of interest and create a new dataframe:"
   ]
  },
  {
   "cell_type": "code",
   "execution_count": 78,
   "id": "3908c8b4-004b-48db-a580-13acb315b902",
   "metadata": {},
   "outputs": [],
   "source": [
    "cols = ['step', 'amount', 'oldbalanceOrg', 'newbalanceOrig', 'oldbalanceDest', 'newbalanceDest', 'isFraud']\n",
    "\n",
    "df_new = df[cols]\n"
   ]
  },
  {
   "cell_type": "code",
   "execution_count": 79,
   "id": "718c0338-35fb-4328-815c-e868ef37970c",
   "metadata": {},
   "outputs": [
    {
     "data": {
      "text/html": [
       "<div>\n",
       "<style scoped>\n",
       "    .dataframe tbody tr th:only-of-type {\n",
       "        vertical-align: middle;\n",
       "    }\n",
       "\n",
       "    .dataframe tbody tr th {\n",
       "        vertical-align: top;\n",
       "    }\n",
       "\n",
       "    .dataframe thead th {\n",
       "        text-align: right;\n",
       "    }\n",
       "</style>\n",
       "<table border=\"1\" class=\"dataframe\">\n",
       "  <thead>\n",
       "    <tr style=\"text-align: right;\">\n",
       "      <th></th>\n",
       "      <th>step</th>\n",
       "      <th>amount</th>\n",
       "      <th>oldbalanceOrg</th>\n",
       "      <th>newbalanceOrig</th>\n",
       "      <th>oldbalanceDest</th>\n",
       "      <th>newbalanceDest</th>\n",
       "      <th>isFraud</th>\n",
       "    </tr>\n",
       "  </thead>\n",
       "  <tbody>\n",
       "    <tr>\n",
       "      <th>3737323</th>\n",
       "      <td>278</td>\n",
       "      <td>330218.42</td>\n",
       "      <td>20866.00</td>\n",
       "      <td>351084.42</td>\n",
       "      <td>452419.57</td>\n",
       "      <td>122201.15</td>\n",
       "      <td>0</td>\n",
       "    </tr>\n",
       "    <tr>\n",
       "      <th>264914</th>\n",
       "      <td>15</td>\n",
       "      <td>11647.08</td>\n",
       "      <td>30370.00</td>\n",
       "      <td>18722.92</td>\n",
       "      <td>0.00</td>\n",
       "      <td>0.00</td>\n",
       "      <td>0</td>\n",
       "    </tr>\n",
       "    <tr>\n",
       "      <th>85647</th>\n",
       "      <td>10</td>\n",
       "      <td>152264.21</td>\n",
       "      <td>106589.00</td>\n",
       "      <td>258853.21</td>\n",
       "      <td>201303.01</td>\n",
       "      <td>49038.80</td>\n",
       "      <td>0</td>\n",
       "    </tr>\n",
       "    <tr>\n",
       "      <th>5899326</th>\n",
       "      <td>403</td>\n",
       "      <td>1551760.63</td>\n",
       "      <td>0.00</td>\n",
       "      <td>0.00</td>\n",
       "      <td>3198359.45</td>\n",
       "      <td>4750120.08</td>\n",
       "      <td>0</td>\n",
       "    </tr>\n",
       "    <tr>\n",
       "      <th>2544263</th>\n",
       "      <td>206</td>\n",
       "      <td>78172.30</td>\n",
       "      <td>2921331.58</td>\n",
       "      <td>2999503.88</td>\n",
       "      <td>415821.90</td>\n",
       "      <td>337649.60</td>\n",
       "      <td>0</td>\n",
       "    </tr>\n",
       "    <tr>\n",
       "      <th>...</th>\n",
       "      <td>...</td>\n",
       "      <td>...</td>\n",
       "      <td>...</td>\n",
       "      <td>...</td>\n",
       "      <td>...</td>\n",
       "      <td>...</td>\n",
       "      <td>...</td>\n",
       "    </tr>\n",
       "    <tr>\n",
       "      <th>2210524</th>\n",
       "      <td>186</td>\n",
       "      <td>917.99</td>\n",
       "      <td>9606.00</td>\n",
       "      <td>8688.01</td>\n",
       "      <td>0.00</td>\n",
       "      <td>0.00</td>\n",
       "      <td>0</td>\n",
       "    </tr>\n",
       "    <tr>\n",
       "      <th>956542</th>\n",
       "      <td>44</td>\n",
       "      <td>480.58</td>\n",
       "      <td>4683.00</td>\n",
       "      <td>4202.42</td>\n",
       "      <td>0.00</td>\n",
       "      <td>0.00</td>\n",
       "      <td>0</td>\n",
       "    </tr>\n",
       "    <tr>\n",
       "      <th>5474798</th>\n",
       "      <td>379</td>\n",
       "      <td>248511.67</td>\n",
       "      <td>507.00</td>\n",
       "      <td>0.00</td>\n",
       "      <td>23807.93</td>\n",
       "      <td>272319.61</td>\n",
       "      <td>0</td>\n",
       "    </tr>\n",
       "    <tr>\n",
       "      <th>878120</th>\n",
       "      <td>42</td>\n",
       "      <td>200008.65</td>\n",
       "      <td>0.00</td>\n",
       "      <td>0.00</td>\n",
       "      <td>589973.64</td>\n",
       "      <td>789982.29</td>\n",
       "      <td>0</td>\n",
       "    </tr>\n",
       "    <tr>\n",
       "      <th>1592828</th>\n",
       "      <td>156</td>\n",
       "      <td>48066.50</td>\n",
       "      <td>202207.00</td>\n",
       "      <td>250273.50</td>\n",
       "      <td>594770.06</td>\n",
       "      <td>546703.55</td>\n",
       "      <td>0</td>\n",
       "    </tr>\n",
       "  </tbody>\n",
       "</table>\n",
       "<p>1272524 rows × 7 columns</p>\n",
       "</div>"
      ],
      "text/plain": [
       "         step      amount  oldbalanceOrg  newbalanceOrig  oldbalanceDest  \\\n",
       "3737323   278   330218.42       20866.00       351084.42       452419.57   \n",
       "264914     15    11647.08       30370.00        18722.92            0.00   \n",
       "85647      10   152264.21      106589.00       258853.21       201303.01   \n",
       "5899326   403  1551760.63           0.00            0.00      3198359.45   \n",
       "2544263   206    78172.30     2921331.58      2999503.88       415821.90   \n",
       "...       ...         ...            ...             ...             ...   \n",
       "2210524   186      917.99        9606.00         8688.01            0.00   \n",
       "956542     44      480.58        4683.00         4202.42            0.00   \n",
       "5474798   379   248511.67         507.00            0.00        23807.93   \n",
       "878120     42   200008.65           0.00            0.00       589973.64   \n",
       "1592828   156    48066.50      202207.00       250273.50       594770.06   \n",
       "\n",
       "         newbalanceDest  isFraud  \n",
       "3737323       122201.15        0  \n",
       "264914             0.00        0  \n",
       "85647          49038.80        0  \n",
       "5899326      4750120.08        0  \n",
       "2544263       337649.60        0  \n",
       "...                 ...      ...  \n",
       "2210524            0.00        0  \n",
       "956542             0.00        0  \n",
       "5474798       272319.61        0  \n",
       "878120        789982.29        0  \n",
       "1592828       546703.55        0  \n",
       "\n",
       "[1272524 rows x 7 columns]"
      ]
     },
     "metadata": {},
     "output_type": "display_data"
    }
   ],
   "source": [
    "display(df_new)"
   ]
  },
  {
   "cell_type": "markdown",
   "id": "4daa96e5-1ff8-435d-8701-a2f183205b4e",
   "metadata": {},
   "source": [
    "#### Preprocess the dataset by scaling the numeric features. For example, we will use the StandardScaler() function from scikit-learn to scale the numeric variables:"
   ]
  },
  {
   "cell_type": "code",
   "execution_count": 80,
   "id": "5e7e483f-3fe9-48ec-9f40-60cfade24167",
   "metadata": {},
   "outputs": [],
   "source": [
    "from sklearn.preprocessing import StandardScaler\n",
    "\n",
    "numeric_cols = ['step', 'amount', 'oldbalanceOrg', 'newbalanceOrig', 'oldbalanceDest', 'newbalanceDest']\n",
    "scaler = StandardScaler()\n",
    "df_new[numeric_cols] = scaler.fit_transform(df_new[numeric_cols])\n"
   ]
  },
  {
   "cell_type": "markdown",
   "id": "49681588-42ba-4f56-8a78-85bf4128f45d",
   "metadata": {},
   "source": [
    "#### Split the dataset into training and testing sets using the train_test_split() function from scikit-learn:"
   ]
  },
  {
   "cell_type": "code",
   "execution_count": 81,
   "id": "953abaa9-43fe-4f43-ad7d-2a9988af056d",
   "metadata": {},
   "outputs": [],
   "source": [
    "from sklearn.model_selection import train_test_split\n",
    "\n",
    "X = df_new.drop(['isFraud'], axis=1)\n",
    "y = df_new['isFraud']\n",
    "\n",
    "X_train, X_test, y_train, y_test = train_test_split(X, y, test_size=0.3, random_state=42)\n"
   ]
  },
  {
   "cell_type": "markdown",
   "id": "6dee44d7-dd6f-435b-a668-9f4b5fc3aa3e",
   "metadata": {},
   "source": [
    "#### Train the SVM model using the SVC() class from scikit-learn:"
   ]
  },
  {
   "cell_type": "code",
   "execution_count": 82,
   "id": "8a616102-8f51-43af-9c1c-ca30d0629270",
   "metadata": {},
   "outputs": [
    {
     "data": {
      "text/html": [
       "<style>#sk-container-id-2 {color: black;background-color: white;}#sk-container-id-2 pre{padding: 0;}#sk-container-id-2 div.sk-toggleable {background-color: white;}#sk-container-id-2 label.sk-toggleable__label {cursor: pointer;display: block;width: 100%;margin-bottom: 0;padding: 0.3em;box-sizing: border-box;text-align: center;}#sk-container-id-2 label.sk-toggleable__label-arrow:before {content: \"▸\";float: left;margin-right: 0.25em;color: #696969;}#sk-container-id-2 label.sk-toggleable__label-arrow:hover:before {color: black;}#sk-container-id-2 div.sk-estimator:hover label.sk-toggleable__label-arrow:before {color: black;}#sk-container-id-2 div.sk-toggleable__content {max-height: 0;max-width: 0;overflow: hidden;text-align: left;background-color: #f0f8ff;}#sk-container-id-2 div.sk-toggleable__content pre {margin: 0.2em;color: black;border-radius: 0.25em;background-color: #f0f8ff;}#sk-container-id-2 input.sk-toggleable__control:checked~div.sk-toggleable__content {max-height: 200px;max-width: 100%;overflow: auto;}#sk-container-id-2 input.sk-toggleable__control:checked~label.sk-toggleable__label-arrow:before {content: \"▾\";}#sk-container-id-2 div.sk-estimator input.sk-toggleable__control:checked~label.sk-toggleable__label {background-color: #d4ebff;}#sk-container-id-2 div.sk-label input.sk-toggleable__control:checked~label.sk-toggleable__label {background-color: #d4ebff;}#sk-container-id-2 input.sk-hidden--visually {border: 0;clip: rect(1px 1px 1px 1px);clip: rect(1px, 1px, 1px, 1px);height: 1px;margin: -1px;overflow: hidden;padding: 0;position: absolute;width: 1px;}#sk-container-id-2 div.sk-estimator {font-family: monospace;background-color: #f0f8ff;border: 1px dotted black;border-radius: 0.25em;box-sizing: border-box;margin-bottom: 0.5em;}#sk-container-id-2 div.sk-estimator:hover {background-color: #d4ebff;}#sk-container-id-2 div.sk-parallel-item::after {content: \"\";width: 100%;border-bottom: 1px solid gray;flex-grow: 1;}#sk-container-id-2 div.sk-label:hover label.sk-toggleable__label {background-color: #d4ebff;}#sk-container-id-2 div.sk-serial::before {content: \"\";position: absolute;border-left: 1px solid gray;box-sizing: border-box;top: 0;bottom: 0;left: 50%;z-index: 0;}#sk-container-id-2 div.sk-serial {display: flex;flex-direction: column;align-items: center;background-color: white;padding-right: 0.2em;padding-left: 0.2em;position: relative;}#sk-container-id-2 div.sk-item {position: relative;z-index: 1;}#sk-container-id-2 div.sk-parallel {display: flex;align-items: stretch;justify-content: center;background-color: white;position: relative;}#sk-container-id-2 div.sk-item::before, #sk-container-id-2 div.sk-parallel-item::before {content: \"\";position: absolute;border-left: 1px solid gray;box-sizing: border-box;top: 0;bottom: 0;left: 50%;z-index: -1;}#sk-container-id-2 div.sk-parallel-item {display: flex;flex-direction: column;z-index: 1;position: relative;background-color: white;}#sk-container-id-2 div.sk-parallel-item:first-child::after {align-self: flex-end;width: 50%;}#sk-container-id-2 div.sk-parallel-item:last-child::after {align-self: flex-start;width: 50%;}#sk-container-id-2 div.sk-parallel-item:only-child::after {width: 0;}#sk-container-id-2 div.sk-dashed-wrapped {border: 1px dashed gray;margin: 0 0.4em 0.5em 0.4em;box-sizing: border-box;padding-bottom: 0.4em;background-color: white;}#sk-container-id-2 div.sk-label label {font-family: monospace;font-weight: bold;display: inline-block;line-height: 1.2em;}#sk-container-id-2 div.sk-label-container {text-align: center;}#sk-container-id-2 div.sk-container {/* jupyter's `normalize.less` sets `[hidden] { display: none; }` but bootstrap.min.css set `[hidden] { display: none !important; }` so we also need the `!important` here to be able to override the default hidden behavior on the sphinx rendered scikit-learn.org. See: https://github.com/scikit-learn/scikit-learn/issues/21755 */display: inline-block !important;position: relative;}#sk-container-id-2 div.sk-text-repr-fallback {display: none;}</style><div id=\"sk-container-id-2\" class=\"sk-top-container\"><div class=\"sk-text-repr-fallback\"><pre>SVC(kernel=&#x27;linear&#x27;)</pre><b>In a Jupyter environment, please rerun this cell to show the HTML representation or trust the notebook. <br />On GitHub, the HTML representation is unable to render, please try loading this page with nbviewer.org.</b></div><div class=\"sk-container\" hidden><div class=\"sk-item\"><div class=\"sk-estimator sk-toggleable\"><input class=\"sk-toggleable__control sk-hidden--visually\" id=\"sk-estimator-id-2\" type=\"checkbox\" checked><label for=\"sk-estimator-id-2\" class=\"sk-toggleable__label sk-toggleable__label-arrow\">SVC</label><div class=\"sk-toggleable__content\"><pre>SVC(kernel=&#x27;linear&#x27;)</pre></div></div></div></div></div>"
      ],
      "text/plain": [
       "SVC(kernel='linear')"
      ]
     },
     "execution_count": 82,
     "metadata": {},
     "output_type": "execute_result"
    }
   ],
   "source": [
    "from sklearn.svm import SVC\n",
    "\n",
    "clf = SVC(kernel='linear')\n",
    "clf.fit(X_train, y_train)\n"
   ]
  },
  {
   "cell_type": "markdown",
   "id": "62d5c307-82b6-4b5e-9d21-37c51b7dfae5",
   "metadata": {},
   "source": [
    "#### Evaluate the performance of the model using appropriate evaluation metrics, such as accuracy, precision, recall, and F1 score. For example, we will use the classification_report() function from scikit-learn to calculate these metrics:"
   ]
  },
  {
   "cell_type": "code",
   "execution_count": 42,
   "id": "213eea7a-9835-41c7-b763-ace53eec8033",
   "metadata": {},
   "outputs": [
    {
     "name": "stdout",
     "output_type": "stream",
     "text": [
      "              precision    recall  f1-score   support\n",
      "\n",
      "           0       1.00      1.00      1.00    381286\n",
      "           1       0.99      0.32      0.48       472\n",
      "\n",
      "    accuracy                           1.00    381758\n",
      "   macro avg       0.99      0.66      0.74    381758\n",
      "weighted avg       1.00      1.00      1.00    381758\n",
      "\n"
     ]
    }
   ],
   "source": [
    "from sklearn.metrics import classification_report\n",
    "\n",
    "y_pred = clf.predict(X_test)\n",
    "print(classification_report(y_test, y_pred))\n"
   ]
  },
  {
   "cell_type": "markdown",
   "id": "4bae2d6e-214d-4545-9721-457dd25e210c",
   "metadata": {},
   "source": [
    "#### This will give us a report of the precision, recall, and F1 score for each label, as well as the overall accuracy of the model."
   ]
  },
  {
   "cell_type": "code",
   "execution_count": null,
   "id": "bc3aa449-9e99-4398-8167-eb21d96a4256",
   "metadata": {},
   "outputs": [],
   "source": []
  }
 ],
 "metadata": {
  "kernelspec": {
   "display_name": "Python 3 (ipykernel)",
   "language": "python",
   "name": "python3"
  },
  "language_info": {
   "codemirror_mode": {
    "name": "ipython",
    "version": 3
   },
   "file_extension": ".py",
   "mimetype": "text/x-python",
   "name": "python",
   "nbconvert_exporter": "python",
   "pygments_lexer": "ipython3",
   "version": "3.9.13"
  }
 },
 "nbformat": 4,
 "nbformat_minor": 5
}
