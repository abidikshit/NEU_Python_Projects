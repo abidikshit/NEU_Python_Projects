{
 "cells": [
  {
   "cell_type": "markdown",
   "id": "9ce0bda1-3c17-4b8a-8ad2-7bcc7400dab1",
   "metadata": {
    "tags": []
   },
   "source": [
    "# <center>Week 2: Building the Car of the Future</center>\n",
    "| **Course:** | **Instructor:** | **Full Name:**| **Student ID:** |**Date:**  |**Term**|\n",
    "| ----------- | -------------- | ---------------| ----------------|-------    |---------|\n",
    "| ALY6020     | Prof. Chinthaka Pathum Dinesh Herath Gedara  | Abhilash Dikshit| 002702209       |Jan 26, 2024|Winter |\n",
    "\n"
   ]
  },
  {
   "cell_type": "code",
   "execution_count": 45,
   "id": "33da9dcc-c766-45a9-b76f-497afba11b74",
   "metadata": {},
   "outputs": [],
   "source": [
    "# Import necessary libraries\n",
    "import matplotlib.pyplot as plt\n",
    "import numpy as np\n",
    "import pandas as pd\n",
    "from sklearn import linear_model\n",
    "from sklearn.metrics import mean_squared_error, r2_score\n",
    "from sklearn.model_selection import train_test_split\n",
    "from sklearn.model_selection import cross_val_score\n",
    "from sklearn.tree import DecisionTreeRegressor\n",
    "import statsmodels.api as sm\n",
    "from scipy import stats\n",
    "from sklearn.linear_model import LinearRegression\n",
    "from sklearn.feature_selection import RFE\n",
    "import seaborn as sns"
   ]
  },
  {
   "cell_type": "code",
   "execution_count": 46,
   "id": "e0b8996e-61d0-4084-adb9-f345378ce9b4",
   "metadata": {},
   "outputs": [
    {
     "data": {
      "text/html": [
       "<div>\n",
       "<style scoped>\n",
       "    .dataframe tbody tr th:only-of-type {\n",
       "        vertical-align: middle;\n",
       "    }\n",
       "\n",
       "    .dataframe tbody tr th {\n",
       "        vertical-align: top;\n",
       "    }\n",
       "\n",
       "    .dataframe thead th {\n",
       "        text-align: right;\n",
       "    }\n",
       "</style>\n",
       "<table border=\"1\" class=\"dataframe\">\n",
       "  <thead>\n",
       "    <tr style=\"text-align: right;\">\n",
       "      <th></th>\n",
       "      <th>MPG</th>\n",
       "      <th>Cylinders</th>\n",
       "      <th>Displacement</th>\n",
       "      <th>Horsepower</th>\n",
       "      <th>Weight</th>\n",
       "      <th>Acceleration</th>\n",
       "      <th>Model Year</th>\n",
       "      <th>US Made</th>\n",
       "    </tr>\n",
       "  </thead>\n",
       "  <tbody>\n",
       "    <tr>\n",
       "      <th>0</th>\n",
       "      <td>18.0</td>\n",
       "      <td>8</td>\n",
       "      <td>307.0</td>\n",
       "      <td>130</td>\n",
       "      <td>3504</td>\n",
       "      <td>12.0</td>\n",
       "      <td>70</td>\n",
       "      <td>1</td>\n",
       "    </tr>\n",
       "    <tr>\n",
       "      <th>1</th>\n",
       "      <td>15.0</td>\n",
       "      <td>8</td>\n",
       "      <td>350.0</td>\n",
       "      <td>165</td>\n",
       "      <td>3693</td>\n",
       "      <td>11.5</td>\n",
       "      <td>70</td>\n",
       "      <td>1</td>\n",
       "    </tr>\n",
       "    <tr>\n",
       "      <th>2</th>\n",
       "      <td>18.0</td>\n",
       "      <td>8</td>\n",
       "      <td>318.0</td>\n",
       "      <td>150</td>\n",
       "      <td>3436</td>\n",
       "      <td>11.0</td>\n",
       "      <td>70</td>\n",
       "      <td>1</td>\n",
       "    </tr>\n",
       "    <tr>\n",
       "      <th>3</th>\n",
       "      <td>16.0</td>\n",
       "      <td>8</td>\n",
       "      <td>304.0</td>\n",
       "      <td>150</td>\n",
       "      <td>3433</td>\n",
       "      <td>12.0</td>\n",
       "      <td>70</td>\n",
       "      <td>1</td>\n",
       "    </tr>\n",
       "    <tr>\n",
       "      <th>4</th>\n",
       "      <td>17.0</td>\n",
       "      <td>8</td>\n",
       "      <td>302.0</td>\n",
       "      <td>140</td>\n",
       "      <td>3449</td>\n",
       "      <td>10.5</td>\n",
       "      <td>70</td>\n",
       "      <td>1</td>\n",
       "    </tr>\n",
       "    <tr>\n",
       "      <th>...</th>\n",
       "      <td>...</td>\n",
       "      <td>...</td>\n",
       "      <td>...</td>\n",
       "      <td>...</td>\n",
       "      <td>...</td>\n",
       "      <td>...</td>\n",
       "      <td>...</td>\n",
       "      <td>...</td>\n",
       "    </tr>\n",
       "    <tr>\n",
       "      <th>393</th>\n",
       "      <td>27.0</td>\n",
       "      <td>4</td>\n",
       "      <td>140.0</td>\n",
       "      <td>86</td>\n",
       "      <td>2790</td>\n",
       "      <td>15.6</td>\n",
       "      <td>82</td>\n",
       "      <td>1</td>\n",
       "    </tr>\n",
       "    <tr>\n",
       "      <th>394</th>\n",
       "      <td>44.0</td>\n",
       "      <td>4</td>\n",
       "      <td>97.0</td>\n",
       "      <td>52</td>\n",
       "      <td>2130</td>\n",
       "      <td>24.6</td>\n",
       "      <td>82</td>\n",
       "      <td>0</td>\n",
       "    </tr>\n",
       "    <tr>\n",
       "      <th>395</th>\n",
       "      <td>32.0</td>\n",
       "      <td>4</td>\n",
       "      <td>135.0</td>\n",
       "      <td>84</td>\n",
       "      <td>2295</td>\n",
       "      <td>11.6</td>\n",
       "      <td>82</td>\n",
       "      <td>1</td>\n",
       "    </tr>\n",
       "    <tr>\n",
       "      <th>396</th>\n",
       "      <td>28.0</td>\n",
       "      <td>4</td>\n",
       "      <td>120.0</td>\n",
       "      <td>79</td>\n",
       "      <td>2625</td>\n",
       "      <td>18.6</td>\n",
       "      <td>82</td>\n",
       "      <td>1</td>\n",
       "    </tr>\n",
       "    <tr>\n",
       "      <th>397</th>\n",
       "      <td>31.0</td>\n",
       "      <td>4</td>\n",
       "      <td>119.0</td>\n",
       "      <td>82</td>\n",
       "      <td>2720</td>\n",
       "      <td>19.4</td>\n",
       "      <td>82</td>\n",
       "      <td>1</td>\n",
       "    </tr>\n",
       "  </tbody>\n",
       "</table>\n",
       "<p>398 rows × 8 columns</p>\n",
       "</div>"
      ],
      "text/plain": [
       "      MPG  Cylinders  Displacement Horsepower  Weight  Acceleration  \\\n",
       "0    18.0          8         307.0        130    3504          12.0   \n",
       "1    15.0          8         350.0        165    3693          11.5   \n",
       "2    18.0          8         318.0        150    3436          11.0   \n",
       "3    16.0          8         304.0        150    3433          12.0   \n",
       "4    17.0          8         302.0        140    3449          10.5   \n",
       "..    ...        ...           ...        ...     ...           ...   \n",
       "393  27.0          4         140.0         86    2790          15.6   \n",
       "394  44.0          4          97.0         52    2130          24.6   \n",
       "395  32.0          4         135.0         84    2295          11.6   \n",
       "396  28.0          4         120.0         79    2625          18.6   \n",
       "397  31.0          4         119.0         82    2720          19.4   \n",
       "\n",
       "     Model Year  US Made  \n",
       "0            70        1  \n",
       "1            70        1  \n",
       "2            70        1  \n",
       "3            70        1  \n",
       "4            70        1  \n",
       "..          ...      ...  \n",
       "393          82        1  \n",
       "394          82        0  \n",
       "395          82        1  \n",
       "396          82        1  \n",
       "397          82        1  \n",
       "\n",
       "[398 rows x 8 columns]"
      ]
     },
     "metadata": {},
     "output_type": "display_data"
    }
   ],
   "source": [
    "# Load the dataset\n",
    "path = '~/GitProjects/Datasets/car.csv'\n",
    "data = pd.read_csv(path)\n",
    "display(data)"
   ]
  },
  {
   "cell_type": "code",
   "execution_count": 47,
   "id": "4482effc-0e70-44ec-8bbb-d310e1d35ea1",
   "metadata": {},
   "outputs": [
    {
     "data": {
      "text/plain": [
       "MPG             0\n",
       "Cylinders       0\n",
       "Displacement    0\n",
       "Horsepower      0\n",
       "Weight          0\n",
       "Acceleration    0\n",
       "Model Year      0\n",
       "US Made         0\n",
       "dtype: int64"
      ]
     },
     "execution_count": 47,
     "metadata": {},
     "output_type": "execute_result"
    }
   ],
   "source": [
    "data.isna().sum()"
   ]
  },
  {
   "cell_type": "markdown",
   "id": "fca1af92-e6d5-438a-a262-82ba8fe3ec27",
   "metadata": {},
   "source": [
    "## Check for Outliers"
   ]
  },
  {
   "cell_type": "code",
   "execution_count": 48,
   "id": "c84a971a-061b-439a-adc3-d1b4cc6585dc",
   "metadata": {},
   "outputs": [
    {
     "data": {
      "text/html": [
       "<div>\n",
       "<style scoped>\n",
       "    .dataframe tbody tr th:only-of-type {\n",
       "        vertical-align: middle;\n",
       "    }\n",
       "\n",
       "    .dataframe tbody tr th {\n",
       "        vertical-align: top;\n",
       "    }\n",
       "\n",
       "    .dataframe thead th {\n",
       "        text-align: right;\n",
       "    }\n",
       "</style>\n",
       "<table border=\"1\" class=\"dataframe\">\n",
       "  <thead>\n",
       "    <tr style=\"text-align: right;\">\n",
       "      <th></th>\n",
       "      <th>MPG</th>\n",
       "      <th>Cylinders</th>\n",
       "      <th>Displacement</th>\n",
       "      <th>Weight</th>\n",
       "      <th>Acceleration</th>\n",
       "      <th>Model Year</th>\n",
       "      <th>US Made</th>\n",
       "    </tr>\n",
       "  </thead>\n",
       "  <tbody>\n",
       "    <tr>\n",
       "      <th>count</th>\n",
       "      <td>398.000000</td>\n",
       "      <td>398.000000</td>\n",
       "      <td>398.000000</td>\n",
       "      <td>398.000000</td>\n",
       "      <td>398.000000</td>\n",
       "      <td>398.000000</td>\n",
       "      <td>398.000000</td>\n",
       "    </tr>\n",
       "    <tr>\n",
       "      <th>mean</th>\n",
       "      <td>23.514573</td>\n",
       "      <td>5.454774</td>\n",
       "      <td>193.425879</td>\n",
       "      <td>2970.424623</td>\n",
       "      <td>15.568090</td>\n",
       "      <td>76.010050</td>\n",
       "      <td>0.625628</td>\n",
       "    </tr>\n",
       "    <tr>\n",
       "      <th>std</th>\n",
       "      <td>7.815984</td>\n",
       "      <td>1.701004</td>\n",
       "      <td>104.269838</td>\n",
       "      <td>846.841774</td>\n",
       "      <td>2.757689</td>\n",
       "      <td>3.697627</td>\n",
       "      <td>0.484569</td>\n",
       "    </tr>\n",
       "    <tr>\n",
       "      <th>min</th>\n",
       "      <td>9.000000</td>\n",
       "      <td>3.000000</td>\n",
       "      <td>68.000000</td>\n",
       "      <td>1613.000000</td>\n",
       "      <td>8.000000</td>\n",
       "      <td>70.000000</td>\n",
       "      <td>0.000000</td>\n",
       "    </tr>\n",
       "    <tr>\n",
       "      <th>25%</th>\n",
       "      <td>17.500000</td>\n",
       "      <td>4.000000</td>\n",
       "      <td>104.250000</td>\n",
       "      <td>2223.750000</td>\n",
       "      <td>13.825000</td>\n",
       "      <td>73.000000</td>\n",
       "      <td>0.000000</td>\n",
       "    </tr>\n",
       "    <tr>\n",
       "      <th>50%</th>\n",
       "      <td>23.000000</td>\n",
       "      <td>4.000000</td>\n",
       "      <td>148.500000</td>\n",
       "      <td>2803.500000</td>\n",
       "      <td>15.500000</td>\n",
       "      <td>76.000000</td>\n",
       "      <td>1.000000</td>\n",
       "    </tr>\n",
       "    <tr>\n",
       "      <th>75%</th>\n",
       "      <td>29.000000</td>\n",
       "      <td>8.000000</td>\n",
       "      <td>262.000000</td>\n",
       "      <td>3608.000000</td>\n",
       "      <td>17.175000</td>\n",
       "      <td>79.000000</td>\n",
       "      <td>1.000000</td>\n",
       "    </tr>\n",
       "    <tr>\n",
       "      <th>max</th>\n",
       "      <td>46.600000</td>\n",
       "      <td>8.000000</td>\n",
       "      <td>455.000000</td>\n",
       "      <td>5140.000000</td>\n",
       "      <td>24.800000</td>\n",
       "      <td>82.000000</td>\n",
       "      <td>1.000000</td>\n",
       "    </tr>\n",
       "  </tbody>\n",
       "</table>\n",
       "</div>"
      ],
      "text/plain": [
       "              MPG   Cylinders  Displacement       Weight  Acceleration  \\\n",
       "count  398.000000  398.000000    398.000000   398.000000    398.000000   \n",
       "mean    23.514573    5.454774    193.425879  2970.424623     15.568090   \n",
       "std      7.815984    1.701004    104.269838   846.841774      2.757689   \n",
       "min      9.000000    3.000000     68.000000  1613.000000      8.000000   \n",
       "25%     17.500000    4.000000    104.250000  2223.750000     13.825000   \n",
       "50%     23.000000    4.000000    148.500000  2803.500000     15.500000   \n",
       "75%     29.000000    8.000000    262.000000  3608.000000     17.175000   \n",
       "max     46.600000    8.000000    455.000000  5140.000000     24.800000   \n",
       "\n",
       "       Model Year     US Made  \n",
       "count  398.000000  398.000000  \n",
       "mean    76.010050    0.625628  \n",
       "std      3.697627    0.484569  \n",
       "min     70.000000    0.000000  \n",
       "25%     73.000000    0.000000  \n",
       "50%     76.000000    1.000000  \n",
       "75%     79.000000    1.000000  \n",
       "max     82.000000    1.000000  "
      ]
     },
     "execution_count": 48,
     "metadata": {},
     "output_type": "execute_result"
    }
   ],
   "source": [
    "data.describe()"
   ]
  },
  {
   "cell_type": "code",
   "execution_count": 52,
   "id": "02135b27-657e-49e8-9f72-fcb480d12762",
   "metadata": {},
   "outputs": [
    {
     "data": {
      "image/png": "[encoded data removed]",
      "text/plain": [
       "<Figure size 640x480 with 1 Axes>"
      ]
     },
     "metadata": {},
     "output_type": "display_data"
    }
   ],
   "source": [
    "# Check for any outliers in the 'Horsepower' column\n",
    "\n",
    "# Convert 'Horsepower' to numeric type\n",
    "data['Horsepower'] = pd.to_numeric(data['Horsepower'], errors='coerce')\n",
    "\n",
    "# Check for any outliers in the 'Horsepower' column\n",
    "sns.boxplot(x=data['Horsepower'])\n",
    "plt.show()"
   ]
  },
  {
   "cell_type": "code",
   "execution_count": 53,
   "id": "ae78e413-bdde-4141-97df-abb0452b4739",
   "metadata": {},
   "outputs": [],
   "source": [
    "# Remove outliers using the IQR method\n",
    "Q1 = data['Horsepower'].quantile(0.25)\n",
    "Q3 = data['Horsepower'].quantile(0.75)\n",
    "IQR = Q3 - Q1\n",
    "data = data[~((data['Horsepower'] < (Q1 - 1.5 * IQR)) | (data['Horsepower'] > (Q3 + 1.5 * IQR)))]\n"
   ]
  },
  {
   "cell_type": "code",
   "execution_count": 54,
   "id": "cdbb95e9-9e24-4081-ac4f-fefcf02c5e93",
   "metadata": {},
   "outputs": [
    {
     "data": {
      "image/png": "[encoded data removed]",
      "text/plain": [
       "<Figure size 640x480 with 1 Axes>"
      ]
     },
     "metadata": {},
     "output_type": "display_data"
    }
   ],
   "source": [
    "# Verify changes\n",
    "sns.boxplot(x=data['Horsepower'])\n",
    "plt.show()"
   ]
  },
  {
   "cell_type": "markdown",
   "id": "84082695-13f1-4641-a5c5-d93ecf02e913",
   "metadata": {},
   "source": [
    "## Exploratory Data Analysis"
   ]
  },
  {
   "cell_type": "markdown",
   "id": "dd7a5472-b342-4169-8097-bb3d6489a43f",
   "metadata": {},
   "source": [
    "### Visualize Data Distribution"
   ]
  },
  {
   "cell_type": "code",
   "execution_count": 55,
   "id": "aa8655e1-6492-4e5a-833d-c4a815dc24dc",
   "metadata": {},
   "outputs": [
    {
     "data": {
      "image/png": "[encoded data removed]",
      "text/plain": [
       "<Figure size 640x480 with 1 Axes>"
      ]
     },
     "metadata": {},
     "output_type": "display_data"
    }
   ],
   "source": [
    "import seaborn as sns\n",
    "import matplotlib.pyplot as plt\n",
    "\n",
    "# Assuming 'Horsepower' is a column in your dataframe\n",
    "sns.barplot(y=data['Horsepower'].value_counts().index, x=data['Horsepower'].value_counts())\n",
    "plt.xticks(rotation=0)\n",
    "plt.show()\n"
   ]
  },
  {
   "cell_type": "code",
   "execution_count": 56,
   "id": "24de5bc9-9a17-4665-8820-564708981c69",
   "metadata": {},
   "outputs": [
    {
     "data": {
      "image/png": "[encoded data removed]",
      "text/plain": [
       "<Figure size 640x480 with 1 Axes>"
      ]
     },
     "metadata": {},
     "output_type": "display_data"
    }
   ],
   "source": [
    "# For 'MPG'\n",
    "sns.histplot(data['MPG'])\n",
    "plt.xticks(rotation=90)  # Rotate x-axis labels vertically\n",
    "plt.show()\n"
   ]
  },
  {
   "cell_type": "markdown",
   "id": "88497196-9720-4aa5-bcbe-5ab446ffd574",
   "metadata": {},
   "source": [
    "### Correlation Analysis"
   ]
  },
  {
   "cell_type": "code",
   "execution_count": 43,
   "id": "99637336-5f39-4d6f-aa51-c30468f67832",
   "metadata": {},
   "outputs": [
    {
     "name": "stdout",
     "output_type": "stream",
     "text": [
      "MPG             1.000000\n",
      "Model Year      0.579267\n",
      "Acceleration    0.420289\n",
      "US Made        -0.568192\n",
      "Cylinders      -0.775396\n",
      "Displacement   -0.804203\n",
      "Weight         -0.831741\n",
      "Name: MPG, dtype: float64\n"
     ]
    }
   ],
   "source": [
    "correlation_matrix = data.corr()\n",
    "print(correlation_matrix['MPG'].sort_values(ascending=False))\n"
   ]
  },
  {
   "cell_type": "markdown",
   "id": "ab749b99-3e50-40c2-bff2-f7871d96fd03",
   "metadata": {},
   "source": [
    "## Part 2: Linear Regression Model"
   ]
  },
  {
   "cell_type": "markdown",
   "id": "4bf46c75-eadc-4e09-983c-1cc7a292d40c",
   "metadata": {},
   "source": [
    "Now, let's build a linear regression model to predict MPG based on the attributes."
   ]
  },
  {
   "cell_type": "markdown",
   "id": "9a471bab-0844-4643-939e-f624e21e6671",
   "metadata": {},
   "source": [
    "### Feature Selection"
   ]
  },
  {
   "cell_type": "code",
   "execution_count": 57,
   "id": "906acb02-c509-467c-a4bf-8cfbbb59ca72",
   "metadata": {},
   "outputs": [],
   "source": [
    "# Selecting features and target variable\n",
    "X = data[['Cylinders', 'Displacement', 'Horsepower', 'Weight', 'Acceleration', 'Model Year', 'US Made']]\n",
    "y = data['MPG']"
   ]
  },
  {
   "cell_type": "code",
   "execution_count": 58,
   "id": "ade398a4-e3c7-44fe-a0b3-b271d601a01a",
   "metadata": {},
   "outputs": [],
   "source": [
    "# Split the data into training and testing sets\n",
    "X_train, X_test, y_train, y_test = train_test_split(X, y, test_size=0.2, random_state=42)\n"
   ]
  },
  {
   "cell_type": "code",
   "execution_count": 59,
   "id": "a1f457ea-b56d-46df-aa62-9ad88e9e52a1",
   "metadata": {},
   "outputs": [],
   "source": [
    "# Create a linear regression model\n",
    "model = LinearRegression()"
   ]
  },
  {
   "cell_type": "code",
   "execution_count": 66,
   "id": "091fa4b4-af95-453b-ba95-2e0e842cf1c4",
   "metadata": {},
   "outputs": [
    {
     "name": "stdout",
     "output_type": "stream",
     "text": [
      "Missing Values:\n",
      "MPG             0\n",
      "Cylinders       0\n",
      "Displacement    0\n",
      "Horsepower      6\n",
      "Weight          0\n",
      "Acceleration    0\n",
      "Model Year      0\n",
      "US Made         0\n",
      "dtype: int64\n",
      "Mean Squared Error (Imputed): 11.34678760774077\n",
      "R2 Score (Imputed): 0.8263611993273794\n",
      "Coefficients (Imputed): [-0.20888761  0.02372668 -0.02429554 -0.00725663  0.03501311  0.77819277\n",
      " -2.66219836]\n"
     ]
    }
   ],
   "source": [
    "from sklearn.impute import SimpleImputer\n",
    "\n",
    "# Check for missing values in the dataset\n",
    "missing_values = data.isnull().sum()\n",
    "print(\"Missing Values:\")\n",
    "print(missing_values)\n",
    "\n",
    "# Impute missing values\n",
    "imputer = SimpleImputer(strategy='mean')\n",
    "X_imputed = imputer.fit_transform(X)\n",
    "\n",
    "# Split the imputed data into training and testing sets\n",
    "X_train_imputed, X_test_imputed, y_train_imputed, y_test_imputed = train_test_split(X_imputed, y, test_size=0.2, random_state=42)\n",
    "\n",
    "# Create a linear regression model\n",
    "model_imputed = LinearRegression()\n",
    "\n",
    "# Train the model on the imputed data\n",
    "model_imputed.fit(X_train_imputed, y_train_imputed)\n",
    "\n",
    "# Make predictions on the test set\n",
    "y_pred_imputed = model_imputed.predict(X_test_imputed)\n",
    "\n",
    "# Evaluate the model\n",
    "mse_imputed = mean_squared_error(y_test_imputed, y_pred_imputed)\n",
    "r2_imputed = r2_score(y_test_imputed, y_pred_imputed)\n",
    "\n",
    "print(f'Mean Squared Error (Imputed): {mse_imputed}')\n",
    "print(f'R2 Score (Imputed): {r2_imputed}')\n",
    "print(f'Coefficients (Imputed): {model_imputed.coef_}')\n"
   ]
  },
  {
   "cell_type": "markdown",
   "id": "13bdf5e6-e7d5-4d25-b3f0-5cea49ccf1a8",
   "metadata": {},
   "source": [
    "## Part 3: Model Optimization"
   ]
  },
  {
   "cell_type": "markdown",
   "id": "2929ed71-3fbd-4a58-bc40-0bd0fdfd7c2d",
   "metadata": {},
   "source": [
    "### SelectKBest with the f_regression metric"
   ]
  },
  {
   "cell_type": "markdown",
   "id": "8835d5fb-6817-4052-a093-687233a15fdf",
   "metadata": {},
   "source": [
    "Let's try an alternative method for feature selection using scikit-learn's SelectKBest with the f_regression metric. This method selects the top k features based on univariate statistical tests."
   ]
  },
  {
   "cell_type": "code",
   "execution_count": 70,
   "id": "4e62f1aa-6f1e-4012-bc33-79a754034281",
   "metadata": {},
   "outputs": [
    {
     "name": "stdout",
     "output_type": "stream",
     "text": [
      "Mean Squared Error (Pipeline): 12.384830402316544\n",
      "R2 Score (Pipeline): 0.8104761301670094\n"
     ]
    },
    {
     "name": "stderr",
     "output_type": "stream",
     "text": [
      "/Users/abidikshit/opt/anaconda3/lib/python3.9/site-packages/sklearn/base.py:439: UserWarning: X does not have valid feature names, but SimpleImputer was fitted with feature names\n",
      "  warnings.warn(\n"
     ]
    }
   ],
   "source": [
    "from sklearn.pipeline import make_pipeline\n",
    "\n",
    "# Create a pipeline with imputer and SelectKBest\n",
    "pipeline = make_pipeline(SimpleImputer(strategy='mean'), SelectKBest(score_func=f_regression, k=5), LinearRegression())\n",
    "\n",
    "# Fit the pipeline on the original data\n",
    "pipeline.fit(X, y)\n",
    "\n",
    "# Make predictions on the test set\n",
    "y_pred_pipeline = pipeline.predict(X_test_imputed)\n",
    "\n",
    "# Evaluate the model from the pipeline\n",
    "mse_pipeline = mean_squared_error(y_test_imputed, y_pred_pipeline)\n",
    "r2_pipeline = r2_score(y_test_imputed, y_pred_pipeline)\n",
    "\n",
    "print(f'Mean Squared Error (Pipeline): {mse_pipeline}')\n",
    "print(f'R2 Score (Pipeline): {r2_pipeline}')\n"
   ]
  },
  {
   "cell_type": "code",
   "execution_count": null,
   "id": "4f392541-2373-434b-9dfc-c79ed106b8ee",
   "metadata": {},
   "outputs": [],
   "source": []
  },
  {
   "cell_type": "code",
   "execution_count": null,
   "id": "fe7b9071-5b59-4f18-b4a4-fc862873eb0e",
   "metadata": {},
   "outputs": [],
   "source": []
  },
  {
   "cell_type": "code",
   "execution_count": null,
   "id": "f2138563-f4f6-4d08-a1c8-fb75fea58b57",
   "metadata": {},
   "outputs": [],
   "source": []
  },
  {
   "cell_type": "code",
   "execution_count": null,
   "id": "1899d07d-f2e6-4f5c-8e6b-ab3740632326",
   "metadata": {},
   "outputs": [],
   "source": []
  },
  {
   "cell_type": "code",
   "execution_count": null,
   "id": "527bc922-d7d9-41e4-9798-7da2943baa2e",
   "metadata": {},
   "outputs": [],
   "source": []
  }
 ],
 "metadata": {
  "kernelspec": {
   "display_name": "Python 3 (ipykernel)",
   "language": "python",
   "name": "python3"
  },
  "language_info": {
   "codemirror_mode": {
    "name": "ipython",
    "version": 3
   },
   "file_extension": ".py",
   "mimetype": "text/x-python",
   "name": "python",
   "nbconvert_exporter": "python",
   "pygments_lexer": "ipython3",
   "version": "3.9.16"
  }
 },
 "nbformat": 4,
 "nbformat_minor": 5
}
