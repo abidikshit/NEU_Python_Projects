{
 "cells": [
  {
   "cell_type": "markdown",
   "id": "3522aa45-defd-4190-a214-00b3e7850e99",
   "metadata": {},
   "source": [
    "# <center>Final Exam</center>\n",
    "| **Course:** | **Instructor:** | **Full Name:**| **Student ID:** |**Date:**  |**Term**|\n",
    "| ----------- | -------------- | ---------------| ----------------|-------    |---------|\n",
    "| ALY6020     | Prof. Chinthaka Pathum Dinesh Herath Gedara  | Abhilash Dikshit| 002702209       |Feb 13, 2024|Winter |\n"
   ]
  },
  {
   "cell_type": "markdown",
   "id": "48d4ce66-8a99-4f82-9d58-d2a5d61b0818",
   "metadata": {},
   "source": [
    "## Question 1:\n",
    "Can a point in a Nearest Neighbors Model have different classification based on the value of K? If so, explain how this variability occurs."
   ]
  },
  {
   "cell_type": "markdown",
   "id": "e37aee51",
   "metadata": {},
   "source": [
    "### Answer for Question 1:\n",
    "\n"
   ]
  },
  {
   "cell_type": "markdown",
   "id": "5a439696-92d8-4ff0-bead-354087abfad4",
   "metadata": {
    "tags": []
   },
   "source": [
    "The number of categories assigned to a single data point in a Nearest Neighbors Model can vary depending on the value of K. The value of K determines how many nearby data points are considered when assigning a category to a new observation. As K increases or decreases, the set of neighboring data points used for classification changes, potentially resulting in different predicted classes. A smaller K may lead to a model that is more responsive to minor variations in the data but also more susceptible to noise or outliers. Conversely, a larger K may produce a smoother prediction by averaging out local patterns, but it may also fail to capture important details.\n",
    "\n",
    "Imagine a dataset consisting of points plotted in a two-dimensional space. Consider a particular point, called P, surrounded by various classifications of nearby points. The classification of point P can change depending on the value of K, which determines the number of surrounding points taken into account for classification purposes. When K is relatively small, the classification of point P is largely influenced by its closest neighbors, possibly leading to a different class assignment than when a larger value of K is used, which considers a broader range of nearby points, potentially resulting in a different classification outcome."
   ]
  },
  {
   "cell_type": "markdown",
   "id": "4bf1d471-e1fb-4896-a75e-434e1d659277",
   "metadata": {},
   "source": [
    "## Question 2:\n",
    "What is the difference between a random forest decision tree and a gradient boosting decision tree model?"
   ]
  },
  {
   "cell_type": "markdown",
   "id": "10e514f6",
   "metadata": {},
   "source": [
    "### Answer for Question 2:\n",
    "\n",
    "1. Random Forest is an ensemble learning method that generates multiple decision trees simultaneously, and then combining their predictions through voting or averaging. This approach allows for a diversity of decision boundaries, reducing overfitting and improving generalization.\n",
    "\n",
    "2. Gradient Boosting is another ensemble learning method that builds decision trees sequentially, with each tree attempting to correct the errors made by the previous one. By iteratively adding trees, the model adapts to the data and optimizes its performance by adjusting the weights of misclassified instances.\n",
    "\n",
    "Imagine a dataset of images with labels indicating whether they contain a cat or not. In a random forest, each decision tree is built independently, and their votes are combined to make a final prediction. In contrast, in a gradient boosting model, decision trees are built sequentially. Each subsequent tree corrects the errors of the previous ones, focusing on instances misclassified by the ensemble.\n"
   ]
  },
  {
   "cell_type": "markdown",
   "id": "6d073714-9431-464e-aae2-12465438538a",
   "metadata": {},
   "source": [
    "## Question 3:\n",
    "Logistic regression is one of the simple machine learning models used for binary classification problem. Provide two reasons why linear regression cannot be used for a binary classification problem in general "
   ]
  },
  {
   "cell_type": "markdown",
   "id": "1df85bd6",
   "metadata": {},
   "source": [
    "### Answer for Question 3:\n",
    "\n",
    "There are two primary reasons why linear regression is not well-suited for binary classification tasks:\n",
    "\n",
    "1. Continuous outputs: Linear regression models predict continuous values, which are not directly applicable to binary classification problems that require discrete outputs (e.g., 0 or 1). To overcome this limitation, additional techniques, such as thresholding, are needed to transform the continuous predictions into binary labels.\n",
    "2. Non-linear relationships: Binary classification problems often involve complex, non-linear relationships between the input features and the output variable. Linear regression assumes a linear relationship between the features and target, which may not accurately capture the underlying pattern in the data. As a result, linear regression may struggle to effectively model the decision boundary, leading to suboptimal performance.\n",
    "\n",
    "To illustrate these limitations, consider the examples below:\n",
    "\n",
    "* Output interpretation: In linear regression, the output is a continuous value, which can make it difficult to interpret in binary classification contexts. For instance, if we try to use linear regression to predict whether an email is spam or not (0 or 1), the model may produce values outside the [0, 1] range, rendering it challenging to determine the actual classification.\n",
    "* Assumption of linearity: Linear regression relies on a linear relationship between the features and the target variable. However, in binary classification problems, the decision boundary may not be linear. For example, the relationship between the features and the target variable may exhibit a non-linear curve or a complex interaction between features, which linear regression may not be able to capture adequately.\n"
   ]
  },
  {
   "cell_type": "markdown",
   "id": "9c1cf0e1-32ca-477d-8442-c60c743daff0",
   "metadata": {},
   "source": [
    "## Question 4: \n",
    "What is the relationship between entropy and the probability of a random event?\n",
    "Explain your answer using any simple random event, such as coin tossing"
   ]
  },
  {
   "cell_type": "markdown",
   "id": "051c3336",
   "metadata": {},
   "source": [
    "### Answer for Question 4:\n",
    "\n"
   ]
  },
  {
   "cell_type": "markdown",
   "id": "3637d45b-b46a-42cc-be37-4b394157e44b",
   "metadata": {},
   "source": [
    "In the context of a random event, entropy refers to the degree of uncertainty or unpredictability. When the probabilities of all possible outcomes are equal, entropy reaches its peak, as the outcome is uncertain. As the probability of a particular outcome increases, entropy decreases, indicating greater predictability.\n",
    "\n",
    "For instance, consider a coin flip. Prior to the flip, the probability of heads or tails is 0.5, and entropy is at its highest level, reflecting the maximum uncertainty about the outcome. Once the coin is flipped and the outcome is known, entropy decreases, as the probability of the observed outcome becomes 1, and the probability of the alternative outcome becomes 0. In this case, entropy drops to zero, signifying complete certainty about the outcome."
   ]
  },
  {
   "cell_type": "code",
   "execution_count": 10,
   "id": "bc6a8a4e",
   "metadata": {},
   "outputs": [],
   "source": [
    "# add all necssary libraries here: \n",
    "\n",
    "from sklearn import datasets\n",
    "from sklearn.datasets import load_wine\n",
    "import pandas as pd"
   ]
  },
  {
   "cell_type": "code",
   "execution_count": 11,
   "id": "27e8760e",
   "metadata": {},
   "outputs": [],
   "source": [
    "# load the dataset\n",
    "wine_data = load_wine()"
   ]
  },
  {
   "cell_type": "code",
   "execution_count": 12,
   "id": "313a1e2c",
   "metadata": {},
   "outputs": [],
   "source": [
    "# put all the features into a data frame\n",
    "data_df = pd.DataFrame(data = wine_data.data, \n",
    "                       columns = wine_data.feature_names) "
   ]
  },
  {
   "cell_type": "code",
   "execution_count": 13,
   "id": "2fa1447c",
   "metadata": {},
   "outputs": [
    {
     "data": {
      "text/html": [
       "<div>\n",
       "<style scoped>\n",
       "    .dataframe tbody tr th:only-of-type {\n",
       "        vertical-align: middle;\n",
       "    }\n",
       "\n",
       "    .dataframe tbody tr th {\n",
       "        vertical-align: top;\n",
       "    }\n",
       "\n",
       "    .dataframe thead th {\n",
       "        text-align: right;\n",
       "    }\n",
       "</style>\n",
       "<table border=\"1\" class=\"dataframe\">\n",
       "  <thead>\n",
       "    <tr style=\"text-align: right;\">\n",
       "      <th></th>\n",
       "      <th>alcohol</th>\n",
       "      <th>malic_acid</th>\n",
       "      <th>ash</th>\n",
       "      <th>alcalinity_of_ash</th>\n",
       "      <th>magnesium</th>\n",
       "      <th>total_phenols</th>\n",
       "      <th>flavanoids</th>\n",
       "      <th>nonflavanoid_phenols</th>\n",
       "      <th>proanthocyanins</th>\n",
       "      <th>color_intensity</th>\n",
       "      <th>hue</th>\n",
       "      <th>od280/od315_of_diluted_wines</th>\n",
       "      <th>proline</th>\n",
       "    </tr>\n",
       "  </thead>\n",
       "  <tbody>\n",
       "    <tr>\n",
       "      <th>0</th>\n",
       "      <td>14.23</td>\n",
       "      <td>1.71</td>\n",
       "      <td>2.43</td>\n",
       "      <td>15.6</td>\n",
       "      <td>127.0</td>\n",
       "      <td>2.80</td>\n",
       "      <td>3.06</td>\n",
       "      <td>0.28</td>\n",
       "      <td>2.29</td>\n",
       "      <td>5.64</td>\n",
       "      <td>1.04</td>\n",
       "      <td>3.92</td>\n",
       "      <td>1065.0</td>\n",
       "    </tr>\n",
       "    <tr>\n",
       "      <th>1</th>\n",
       "      <td>13.20</td>\n",
       "      <td>1.78</td>\n",
       "      <td>2.14</td>\n",
       "      <td>11.2</td>\n",
       "      <td>100.0</td>\n",
       "      <td>2.65</td>\n",
       "      <td>2.76</td>\n",
       "      <td>0.26</td>\n",
       "      <td>1.28</td>\n",
       "      <td>4.38</td>\n",
       "      <td>1.05</td>\n",
       "      <td>3.40</td>\n",
       "      <td>1050.0</td>\n",
       "    </tr>\n",
       "    <tr>\n",
       "      <th>2</th>\n",
       "      <td>13.16</td>\n",
       "      <td>2.36</td>\n",
       "      <td>2.67</td>\n",
       "      <td>18.6</td>\n",
       "      <td>101.0</td>\n",
       "      <td>2.80</td>\n",
       "      <td>3.24</td>\n",
       "      <td>0.30</td>\n",
       "      <td>2.81</td>\n",
       "      <td>5.68</td>\n",
       "      <td>1.03</td>\n",
       "      <td>3.17</td>\n",
       "      <td>1185.0</td>\n",
       "    </tr>\n",
       "    <tr>\n",
       "      <th>3</th>\n",
       "      <td>14.37</td>\n",
       "      <td>1.95</td>\n",
       "      <td>2.50</td>\n",
       "      <td>16.8</td>\n",
       "      <td>113.0</td>\n",
       "      <td>3.85</td>\n",
       "      <td>3.49</td>\n",
       "      <td>0.24</td>\n",
       "      <td>2.18</td>\n",
       "      <td>7.80</td>\n",
       "      <td>0.86</td>\n",
       "      <td>3.45</td>\n",
       "      <td>1480.0</td>\n",
       "    </tr>\n",
       "    <tr>\n",
       "      <th>4</th>\n",
       "      <td>13.24</td>\n",
       "      <td>2.59</td>\n",
       "      <td>2.87</td>\n",
       "      <td>21.0</td>\n",
       "      <td>118.0</td>\n",
       "      <td>2.80</td>\n",
       "      <td>2.69</td>\n",
       "      <td>0.39</td>\n",
       "      <td>1.82</td>\n",
       "      <td>4.32</td>\n",
       "      <td>1.04</td>\n",
       "      <td>2.93</td>\n",
       "      <td>735.0</td>\n",
       "    </tr>\n",
       "    <tr>\n",
       "      <th>...</th>\n",
       "      <td>...</td>\n",
       "      <td>...</td>\n",
       "      <td>...</td>\n",
       "      <td>...</td>\n",
       "      <td>...</td>\n",
       "      <td>...</td>\n",
       "      <td>...</td>\n",
       "      <td>...</td>\n",
       "      <td>...</td>\n",
       "      <td>...</td>\n",
       "      <td>...</td>\n",
       "      <td>...</td>\n",
       "      <td>...</td>\n",
       "    </tr>\n",
       "    <tr>\n",
       "      <th>173</th>\n",
       "      <td>13.71</td>\n",
       "      <td>5.65</td>\n",
       "      <td>2.45</td>\n",
       "      <td>20.5</td>\n",
       "      <td>95.0</td>\n",
       "      <td>1.68</td>\n",
       "      <td>0.61</td>\n",
       "      <td>0.52</td>\n",
       "      <td>1.06</td>\n",
       "      <td>7.70</td>\n",
       "      <td>0.64</td>\n",
       "      <td>1.74</td>\n",
       "      <td>740.0</td>\n",
       "    </tr>\n",
       "    <tr>\n",
       "      <th>174</th>\n",
       "      <td>13.40</td>\n",
       "      <td>3.91</td>\n",
       "      <td>2.48</td>\n",
       "      <td>23.0</td>\n",
       "      <td>102.0</td>\n",
       "      <td>1.80</td>\n",
       "      <td>0.75</td>\n",
       "      <td>0.43</td>\n",
       "      <td>1.41</td>\n",
       "      <td>7.30</td>\n",
       "      <td>0.70</td>\n",
       "      <td>1.56</td>\n",
       "      <td>750.0</td>\n",
       "    </tr>\n",
       "    <tr>\n",
       "      <th>175</th>\n",
       "      <td>13.27</td>\n",
       "      <td>4.28</td>\n",
       "      <td>2.26</td>\n",
       "      <td>20.0</td>\n",
       "      <td>120.0</td>\n",
       "      <td>1.59</td>\n",
       "      <td>0.69</td>\n",
       "      <td>0.43</td>\n",
       "      <td>1.35</td>\n",
       "      <td>10.20</td>\n",
       "      <td>0.59</td>\n",
       "      <td>1.56</td>\n",
       "      <td>835.0</td>\n",
       "    </tr>\n",
       "    <tr>\n",
       "      <th>176</th>\n",
       "      <td>13.17</td>\n",
       "      <td>2.59</td>\n",
       "      <td>2.37</td>\n",
       "      <td>20.0</td>\n",
       "      <td>120.0</td>\n",
       "      <td>1.65</td>\n",
       "      <td>0.68</td>\n",
       "      <td>0.53</td>\n",
       "      <td>1.46</td>\n",
       "      <td>9.30</td>\n",
       "      <td>0.60</td>\n",
       "      <td>1.62</td>\n",
       "      <td>840.0</td>\n",
       "    </tr>\n",
       "    <tr>\n",
       "      <th>177</th>\n",
       "      <td>14.13</td>\n",
       "      <td>4.10</td>\n",
       "      <td>2.74</td>\n",
       "      <td>24.5</td>\n",
       "      <td>96.0</td>\n",
       "      <td>2.05</td>\n",
       "      <td>0.76</td>\n",
       "      <td>0.56</td>\n",
       "      <td>1.35</td>\n",
       "      <td>9.20</td>\n",
       "      <td>0.61</td>\n",
       "      <td>1.60</td>\n",
       "      <td>560.0</td>\n",
       "    </tr>\n",
       "  </tbody>\n",
       "</table>\n",
       "<p>178 rows × 13 columns</p>\n",
       "</div>"
      ],
      "text/plain": [
       "     alcohol  malic_acid   ash  alcalinity_of_ash  magnesium  total_phenols  \\\n",
       "0      14.23        1.71  2.43               15.6      127.0           2.80   \n",
       "1      13.20        1.78  2.14               11.2      100.0           2.65   \n",
       "2      13.16        2.36  2.67               18.6      101.0           2.80   \n",
       "3      14.37        1.95  2.50               16.8      113.0           3.85   \n",
       "4      13.24        2.59  2.87               21.0      118.0           2.80   \n",
       "..       ...         ...   ...                ...        ...            ...   \n",
       "173    13.71        5.65  2.45               20.5       95.0           1.68   \n",
       "174    13.40        3.91  2.48               23.0      102.0           1.80   \n",
       "175    13.27        4.28  2.26               20.0      120.0           1.59   \n",
       "176    13.17        2.59  2.37               20.0      120.0           1.65   \n",
       "177    14.13        4.10  2.74               24.5       96.0           2.05   \n",
       "\n",
       "     flavanoids  nonflavanoid_phenols  proanthocyanins  color_intensity   hue  \\\n",
       "0          3.06                  0.28             2.29             5.64  1.04   \n",
       "1          2.76                  0.26             1.28             4.38  1.05   \n",
       "2          3.24                  0.30             2.81             5.68  1.03   \n",
       "3          3.49                  0.24             2.18             7.80  0.86   \n",
       "4          2.69                  0.39             1.82             4.32  1.04   \n",
       "..          ...                   ...              ...              ...   ...   \n",
       "173        0.61                  0.52             1.06             7.70  0.64   \n",
       "174        0.75                  0.43             1.41             7.30  0.70   \n",
       "175        0.69                  0.43             1.35            10.20  0.59   \n",
       "176        0.68                  0.53             1.46             9.30  0.60   \n",
       "177        0.76                  0.56             1.35             9.20  0.61   \n",
       "\n",
       "     od280/od315_of_diluted_wines  proline  \n",
       "0                            3.92   1065.0  \n",
       "1                            3.40   1050.0  \n",
       "2                            3.17   1185.0  \n",
       "3                            3.45   1480.0  \n",
       "4                            2.93    735.0  \n",
       "..                            ...      ...  \n",
       "173                          1.74    740.0  \n",
       "174                          1.56    750.0  \n",
       "175                          1.56    835.0  \n",
       "176                          1.62    840.0  \n",
       "177                          1.60    560.0  \n",
       "\n",
       "[178 rows x 13 columns]"
      ]
     },
     "execution_count": 13,
     "metadata": {},
     "output_type": "execute_result"
    }
   ],
   "source": [
    "data_df"
   ]
  },
  {
   "cell_type": "code",
   "execution_count": 14,
   "id": "149db8cf",
   "metadata": {},
   "outputs": [],
   "source": [
    "X = data_df # features\n",
    "y = wine_data.target # target variable"
   ]
  },
  {
   "cell_type": "markdown",
   "id": "c21a6af8-bd95-4c28-8154-59514cd3f3fd",
   "metadata": {},
   "source": [
    "## Question 5:\n",
    "Implement a KNN model with this dataset & find the optimal K value. Use three different performance metrics that you have learned in the class to evaluate the performance of your model."
   ]
  },
  {
   "cell_type": "markdown",
   "id": "2bc73a23",
   "metadata": {},
   "source": [
    "### Answer for Question 5:"
   ]
  },
  {
   "cell_type": "code",
   "execution_count": 30,
   "id": "42f8a90e-357c-43a5-a3a6-917e5128c321",
   "metadata": {},
   "outputs": [],
   "source": [
    "# add all necssary libraries here: \n",
    "from sklearn.model_selection import train_test_split, cross_val_score\n",
    "from sklearn.neighbors import KNeighborsClassifier\n",
    "from sklearn.metrics import accuracy_score, precision_score, recall_score"
   ]
  },
  {
   "cell_type": "code",
   "execution_count": 17,
   "id": "21428940",
   "metadata": {},
   "outputs": [
    {
     "name": "stdout",
     "output_type": "stream",
     "text": [
      "Optimal K value: 17\n",
      "Accuracy: 0.7778, Precision: 0.7923, Recall: 0.7778\n"
     ]
    }
   ],
   "source": [
    "# Split the data into training and testing sets\n",
    "X_train, X_test, y_train, y_test = train_test_split(X, y, test_size=0.2, random_state=42)\n",
    "\n",
    "# Implement KNN model and find optimal K value\n",
    "best_k = None\n",
    "best_score = 0\n",
    "\n",
    "for k in range(1, 21):\n",
    "    knn_model = KNeighborsClassifier(n_neighbors=k)\n",
    "    scores = cross_val_score(knn_model, X_train, y_train, cv=5)\n",
    "    avg_score = scores.mean()\n",
    "    \n",
    "    if avg_score > best_score:\n",
    "        best_score = avg_score\n",
    "        best_k = k\n",
    "\n",
    "# Train the final KNN model with the optimal K value\n",
    "final_knn_model = KNeighborsClassifier(n_neighbors=best_k)\n",
    "final_knn_model.fit(X_train, y_train)\n",
    "\n",
    "# Evaluate performance using three metrics\n",
    "y_pred = final_knn_model.predict(X_test)\n",
    "\n",
    "accuracy = accuracy_score(y_test, y_pred)\n",
    "precision = precision_score(y_test, y_pred, average='weighted')\n",
    "recall = recall_score(y_test, y_pred, average='weighted')\n",
    "\n",
    "print(f\"Optimal K value: {best_k}\")\n",
    "print(f\"Accuracy: {accuracy:.4f}, Precision: {precision:.4f}, Recall: {recall:.4f}\")\n"
   ]
  },
  {
   "cell_type": "markdown",
   "id": "e09e9f32-98ef-4442-99f2-9c79adc09569",
   "metadata": {},
   "source": [
    " - **K Value: 17**\n",
    "   - The optimal number of neighbors for the model was found to be 17, which resulted in the best performance.\n",
    "\n",
    "- **Model Accuracy: 77.78%**\n",
    "  - The model was able to correctly predict approximately 77.78% of the total instances.\n",
    "\n",
    "- **Precision: 79.23%**\n",
    "  - The precision of the model was around 79.23%, meaning that roughly 79.23% of the positive predictions made by the model were accurate.\n",
    "\n",
    "- **Recall: 77.78%**\n",
    "  - The recall of the model was approximately 77.78%, indicating that around 77.78% of the actual positive instances were successfully identified by the model."
   ]
  },
  {
   "cell_type": "markdown",
   "id": "83fa0445-2a02-4793-922d-6661813bc9a1",
   "metadata": {},
   "source": [
    "In conclusion, the model performed well across the board, with a strong overall accuracy and precise recall, demonstrating its proficiency in identifying positive instances. The optimal value of K, which was determined to be 17, contributed significantly to the model's success in accurately classifying instances."
   ]
  },
  {
   "cell_type": "markdown",
   "id": "5072881b-9950-448d-aa5f-3aedd91b5614",
   "metadata": {},
   "source": [
    "## Question 6:\n",
    "Implement a decision tree model for above dataset, taking necessary actions to avoid overfitting issues. Evaluate the performance of your model"
   ]
  },
  {
   "cell_type": "markdown",
   "id": "3891b335-c5b3-4bd9-981f-a113a1cd9df5",
   "metadata": {},
   "source": [
    "### Answer for Question 6:"
   ]
  },
  {
   "cell_type": "code",
   "execution_count": 20,
   "id": "6ff8ef20-e1fc-4d8c-af00-3596ce822ce0",
   "metadata": {},
   "outputs": [
    {
     "name": "stdout",
     "output_type": "stream",
     "text": [
      "Decision Tree - Accuracy: 0.9444, Precision: 0.9463, Recall: 0.9444\n"
     ]
    }
   ],
   "source": [
    "from sklearn.tree import DecisionTreeClassifier\n",
    "\n",
    "# Implement Decision Tree model\n",
    "decision_tree_model = DecisionTreeClassifier(max_depth=5, random_state=42)\n",
    "decision_tree_model.fit(X_train, y_train)\n",
    "\n",
    "# Evaluate performance\n",
    "y_pred_dt = decision_tree_model.predict(X_test)\n",
    "\n",
    "accuracy_dt = accuracy_score(y_test, y_pred_dt)\n",
    "precision_dt = precision_score(y_test, y_pred_dt, average='weighted')\n",
    "recall_dt = recall_score(y_test, y_pred_dt, average='weighted')\n",
    "\n",
    "print(f\"Decision Tree - Accuracy: {accuracy_dt:.4f}, Precision: {precision_dt:.4f}, Recall: {recall_dt:.4f}\")\n"
   ]
  },
  {
   "cell_type": "markdown",
   "id": "6da6fce7-e6c2-447d-8e13-4e2e4a56540f",
   "metadata": {},
   "source": [
    "The Decision Tree model delivered exceptional results, boasting a high accuracy of 94.44% and impressive precision of 94.63%. These figures suggest that nearly 95% of the model's predictions were spot on, with only a minuscule margin of error. \n",
    "\n",
    "Additionally, the recall rate of 94.44% underscores the model's ability to effectively detect genuine positive instances, further solidifying its reputation as a reliable and efficient classifier. Overall, the Decision Tree model's sterling performance across all three metrics reinforces its status as a top-notch choice for tackling classification tasks."
   ]
  },
  {
   "cell_type": "markdown",
   "id": "cf30c7e7-105e-4536-b2aa-2f74b16d083c",
   "metadata": {},
   "source": [
    "## Question 7:\n",
    "Based on your decision tree model, what are the five most important features in this dataset in-terms of the given classification problem?"
   ]
  },
  {
   "cell_type": "markdown",
   "id": "68808e87-cba0-44ec-987a-d32821e6664c",
   "metadata": {},
   "source": [
    "### Answer for Question 7:"
   ]
  },
  {
   "cell_type": "code",
   "execution_count": 25,
   "id": "3951cdc2-5526-405d-8bb1-27911539cc9b",
   "metadata": {},
   "outputs": [
    {
     "name": "stdout",
     "output_type": "stream",
     "text": [
      "Top 5 Important Features are based on decision tree are:\n",
      "1. flavanoids\n",
      "2. color_intensity\n",
      "3. proline\n",
      "4. ash\n",
      "5. alcohol\n"
     ]
    }
   ],
   "source": [
    "# Extract feature importances from the Decision Tree model\n",
    "feature_importances = decision_tree_model.feature_importances_\n",
    "\n",
    "# Get the five most important features\n",
    "top_features_indices = feature_importances.argsort()[-5:][::-1]\n",
    "top_features = X.columns[top_features_indices]\n",
    "\n",
    "print(\"Top 5 Important Features are based on decision tree are:\")\n",
    "for i, feature in enumerate(top_features, 1):\n",
    "    print(f\"{i}. {feature}\")\n"
   ]
  },
  {
   "cell_type": "markdown",
   "id": "0af2f967-a55c-4937-ab41-ff79ed96f272",
   "metadata": {},
   "source": [
    "## Question 8:\n",
    "Let’s suppose you are going to build a multilayer perceptron (MLP) neural network model the classification problem related to above dataset. What will be the number of nodes in the input layer and the output layer?"
   ]
  },
  {
   "cell_type": "markdown",
   "id": "25c16084-a09e-45d8-b799-1a04724bdc79",
   "metadata": {},
   "source": [
    "### Answer for Question 8:"
   ]
  },
  {
   "cell_type": "markdown",
   "id": "d305d386-6051-4b13-aaa7-22b6ad30092a",
   "metadata": {},
   "source": [
    "The number of nodes in the input and output layers of a multilayer perceptron (MLP) neural network model is discussed in relation to the wine dataset. The input layer has 13 nodes, corresponding to the 13 features of the dataset. The output layer has 3 nodes, representing the three classes of wine (targets) in the dataset. Therefore, the MLP model for wine classification using this dataset will have 13 input nodes and 3 output nodes. This configuration enables the network to process the 13 features and output a probability distribution over the three classes during training and prediction. Each output node represents a specific class, and the final prediction is based on the class with the highest probability."
   ]
  },
  {
   "cell_type": "markdown",
   "id": "cf1ca16b-6903-413e-a77c-df08f45c65b9",
   "metadata": {},
   "source": [
    "## Question 9:\n",
    "Implement an MLP neural network model with three hidden layers. You have the freedom to choose an appropriate number of nodes in each hidden layer. Evaluate the classification performance of your model"
   ]
  },
  {
   "cell_type": "markdown",
   "id": "c9b97818-3621-49d4-8c87-eec4d934afbb",
   "metadata": {},
   "source": [
    "### Answer for Question 9:"
   ]
  },
  {
   "cell_type": "code",
   "execution_count": 28,
   "id": "9a3b079b-9725-49cb-ae20-bda36f224f56",
   "metadata": {},
   "outputs": [
    {
     "name": "stdout",
     "output_type": "stream",
     "text": [
      "MLP Neural Network - Accuracy: 0.9722, Precision: 0.9741, Recall: 0.9722\n"
     ]
    },
    {
     "name": "stderr",
     "output_type": "stream",
     "text": [
      "/Users/abidikshit/opt/anaconda3/lib/python3.9/site-packages/sklearn/neural_network/_multilayer_perceptron.py:686: ConvergenceWarning: Stochastic Optimizer: Maximum iterations (1000) reached and the optimization hasn't converged yet.\n",
      "  warnings.warn(\n"
     ]
    }
   ],
   "source": [
    "from sklearn.neural_network import MLPClassifier\n",
    "\n",
    "# Implement MLP neural network model\n",
    "mlp_model = MLPClassifier(hidden_layer_sizes=(50, 30, 10), max_iter=1000, random_state=42)\n",
    "mlp_model.fit(X_train, y_train)\n",
    "\n",
    "# Evaluate performance\n",
    "y_pred_mlp = mlp_model.predict(X_test)\n",
    "\n",
    "accuracy_mlp = accuracy_score(y_test, y_pred_mlp)\n",
    "precision_mlp = precision_score(y_test, y_pred_mlp, average='weighted')\n",
    "recall_mlp = recall_score(y_test, y_pred_mlp, average='weighted')\n",
    "\n",
    "print(f\"MLP Neural Network - Accuracy: {accuracy_mlp:.4f}, Precision: {precision_mlp:.4f}, Recall: {recall_mlp:.4f}\")\n"
   ]
  },
  {
   "cell_type": "markdown",
   "id": "ebee3587-30fe-4495-a7ab-72ccdfba1b0f",
   "metadata": {},
   "source": [
    "The MLP Neural Network yielded remarkable results, boasting an accuracy of 97.22%, precision of 97.41%, and recall of 97.22%. \n",
    "\n",
    "These impressive figures demonstrate that the model excelled in correctly identifying positive instances, while concurrently minimizing false positives and false negatives. \n",
    "\n",
    "In essence, the model's high performance suggests that it efficiently distinguished between positive and negative instances, exemplifying its proficiency in classification tasks."
   ]
  },
  {
   "cell_type": "markdown",
   "id": "8ecde9cb-61eb-4357-9c21-73148399a360",
   "metadata": {},
   "source": [
    "## Question 10:\n",
    "What is the effect of the learning rate on the MLP model’s performance? Justify your answer using your implemented MLP model"
   ]
  },
  {
   "cell_type": "markdown",
   "id": "847027ca-b25b-4365-82ad-f66e3799a92b",
   "metadata": {},
   "source": [
    "### Answer for Question 10:"
   ]
  },
  {
   "cell_type": "code",
   "execution_count": 33,
   "id": "97ec5d17-cab2-471c-a89f-53acd4649a39",
   "metadata": {},
   "outputs": [
    {
     "name": "stderr",
     "output_type": "stream",
     "text": [
      "/Users/abidikshit/opt/anaconda3/lib/python3.9/site-packages/sklearn/neural_network/_multilayer_perceptron.py:686: ConvergenceWarning: Stochastic Optimizer: Maximum iterations (1000) reached and the optimization hasn't converged yet.\n",
      "  warnings.warn(\n"
     ]
    },
    {
     "name": "stdout",
     "output_type": "stream",
     "text": [
      "Learning Rate: 0.001, Accuracy: 0.9722\n",
      "Learning Rate: 0.01, Accuracy: 0.9722\n",
      "Learning Rate: 0.1, Accuracy: 0.3889\n"
     ]
    },
    {
     "data": {
      "image/png": "[encoded data removed]",
      "text/plain": [
       "<Figure size 800x600 with 1 Axes>"
      ]
     },
     "metadata": {},
     "output_type": "display_data"
    }
   ],
   "source": [
    "import matplotlib.pyplot as plt\n",
    "\n",
    "# Plotting the accuracy scores for different learning rates in MLP Neural Network\n",
    "learning_rates = [0.001, 0.01, 0.1]\n",
    "accuracy_scores_lr = []\n",
    "\n",
    "for lr in learning_rates:\n",
    "    mlp_model_lr = MLPClassifier(hidden_layer_sizes=(50, 30, 10), max_iter=1000, learning_rate_init=lr, random_state=42)\n",
    "    mlp_model_lr.fit(X_train, y_train)\n",
    "    \n",
    "    y_pred_lr = mlp_model_lr.predict(X_test)\n",
    "    \n",
    "    accuracy_lr = accuracy_score(y_test, y_pred_lr)\n",
    "    accuracy_scores_lr.append(accuracy_lr)\n",
    "    print(f\"Learning Rate: {lr}, Accuracy: {accuracy_lr:.4f}\")\n",
    "\n",
    "plt.figure(figsize=(8, 6))\n",
    "plt.plot(learning_rates, accuracy_scores_lr, marker='o')\n",
    "plt.title('MLP Neural Network Accuracy vs. Learning Rate')\n",
    "plt.xlabel('Learning Rate')\n",
    "plt.ylabel('Accuracy')\n",
    "plt.xticks(learning_rates)\n",
    "plt.grid(True)\n",
    "plt.show()\n"
   ]
  },
  {
   "cell_type": "markdown",
   "id": "71b76ff0-b9f0-4ae9-8dae-79bf772c375b",
   "metadata": {},
   "source": [
    "Fig: plots the accuracy scores for different learning rates in the MLP Neural Network model."
   ]
  },
  {
   "cell_type": "markdown",
   "id": "73630382-bdab-4a03-902b-5343c90e8a0a",
   "metadata": {},
   "source": [
    "The learning rate significantly impacted the MLP Neural Network's performance. A lower learning rate of 0.001 and 0.01 led to high accuracy of 97.22%, indicating that the model was able to learn the patterns in the data effectively. However, increasing the learning rate to 0.1 resulted in a significant drop in accuracy to 38.89%, suggesting that the model struggled to converge or overshot the optimal solution. This highlights the importance of choosing the right learning rate for optimal neural network training."
   ]
  },
  {
   "cell_type": "markdown",
   "id": "e873b9b8-802d-4789-9a82-af8f6a7cf399",
   "metadata": {},
   "source": [
    "## References:"
   ]
  },
  {
   "cell_type": "markdown",
   "id": "896340c8-4d3c-4eaa-bc50-4b4a5c8affee",
   "metadata": {},
   "source": [
    "sklearn.datasets.load_wine. (n.d.). Scikit-learn. https://scikit-learn.org/stable/modules/generated/sklearn.datasets.load_wine.html"
   ]
  }
 ],
 "metadata": {
  "kernelspec": {
   "display_name": "Python 3 (ipykernel)",
   "language": "python",
   "name": "python3"
  },
  "language_info": {
   "codemirror_mode": {
    "name": "ipython",
    "version": 3
   },
   "file_extension": ".py",
   "mimetype": "text/x-python",
   "name": "python",
   "nbconvert_exporter": "python",
   "pygments_lexer": "ipython3",
   "version": "3.9.16"
  }
 },
 "nbformat": 4,
 "nbformat_minor": 5
}
