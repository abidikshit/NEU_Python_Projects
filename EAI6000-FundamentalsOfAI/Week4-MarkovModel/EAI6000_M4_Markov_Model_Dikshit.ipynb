{
 "cells": [
  {
   "cell_type": "markdown",
   "metadata": {},
   "source": [
    "| Course | Submitted To | Submitted By | Date Submitted      | Term   |\n",
    "|--------|------------|-----------|------------|--------|\n",
    "| EAI6000 | Andrew Cattle (PhD), Faculty Lecturer | Abhilash Dikshit | Oct 17, 2023 | Fall 2023 |\n"
   ]
  },
  {
   "cell_type": "markdown",
   "metadata": {
    "id": "ptowb9ItHGHf"
   },
   "source": [
    "# Weather Model"
   ]
  },
  {
   "cell_type": "markdown",
   "metadata": {
    "id": "Xzbe41iVrdkn"
   },
   "source": [
    "## Directions\n",
    "\n",
    "For this project, you will need to implement a filtering  inference task on an HMM. These are described in Section 15.2 of the text.\n",
    "\n",
    "Denote the hidden states of the HMM by `S(t)` and the observations (evidence) by `E(t)`. In the weather problem from the HMM Tutorial, X(t) would be either sunny, rainy, or foggy, and `E(t)` is yes or no to indicate if an umbrella was observed. We will use this model with prior probabilities P(sunny) = 0.5, P(rainy) = 0.25, P(foggy) = 0.25. The remaining probilities you need are specified below in the emisssion (`P_emission`) and transition matrices (`P_transition`).\n",
    "\n",
    "## What you need to do\n",
    "\n",
    "You will need to fill in the missing implementations of the following functions in the code where specified by the comments (`### YOUR CODE HERE ###`) and answer the questions where indicated.\n",
    "\n",
    "In implementing the code for the filtering task, you will be computing the probability of rain given the observations of the umbrella."
   ]
  },
  {
   "cell_type": "markdown",
   "metadata": {
    "id": "lgFmif62JksI"
   },
   "source": [
    "## Probability Definitions\n",
    "Below you will find:\n",
    "- `P_init`: The initial probabilities of the weather state, whether sunny (0), rainy (1) or foggy (2) \n",
    "- `P_transition`: The transition probabilities or the probability that one weather state one day transitions to another weather state \n",
    "- `P_emission`: The 'emission' probabilities or the probabilities that an observation is made, conditioned on the underlying state."
   ]
  },
  {
   "cell_type": "code",
   "execution_count": 10,
   "metadata": {
    "id": "t3cwslrxsF_q"
   },
   "outputs": [],
   "source": [
    "### DO NOT CHANGE ###\n",
    "\n",
    "import numpy as np\n",
    "\n",
    "# prior probability on weather states\n",
    "# P(sunny) = 0.5  P(rainy) = 0.25  P(foggy) = 0.25\n",
    "P_init = np.array([0.5, 0.25, 0.25])\n",
    "\n",
    "# states (0=sunny, 1=rainy, 2=foggy)\n",
    "S = [0, 1, 2]\n",
    "\n",
    "# transition probabilities\n",
    "#                    tomorrrow\n",
    "#    today     sunny  rainy  foggy\n",
    "#    sunny      0.8    0.05   0.15\n",
    "#    rainy      0.2    0.6    0.2 \n",
    "#    foggy      0.2    0.3    0.5\n",
    "P_transition = np.array([ [0.8, 0.05, 0.15], [0.2, 0.6, 0.2], [0.2, 0.3, 0.5] ])\n",
    "\n",
    "# conditional probabilities of evidence (observations) given weather\n",
    "#                            sunny  rainy  foggy \n",
    "# P(weather | umbrella=no)    0.9    0.2    0.7\n",
    "# P(weather | umbrella=yes)   0.1    0.8    0.3\n",
    "P_emission = np.array([ [0.9, 0.2, 0.7], [0.1, 0.8, 0.3] ])"
   ]
  },
  {
   "cell_type": "markdown",
   "metadata": {
    "id": "PYM2_QgTKEZ2"
   },
   "source": [
    "### [Question - State Transitions]\n",
    "If today is sunny what is the most likely forecast for the next two days if you have no umbrella observations to work with?"
   ]
  },
  {
   "cell_type": "code",
   "execution_count": 11,
   "metadata": {
    "id": "mEx9muMVLH0U"
   },
   "outputs": [
    {
     "name": "stdout",
     "output_type": "stream",
     "text": [
      "The most likely forecast for the next two days if today is sunny is: 0\n"
     ]
    }
   ],
   "source": [
    "# Given that today is sunny (state 0), we want to find the most likely forecast for the next two days.\n",
    "# We can achieve this by using the transition probabilities.\n",
    "# P(sunny -> sunny) = P_transition[0, 0]\n",
    "# P(sunny -> rainy) = P_transition[0, 1]\n",
    "# P(sunny -> foggy) = P_transition[0, 2]\n",
    "\n",
    "# The most likely forecast for the next two days would be the state(s) with the highest transition probabilities.\n",
    "\n",
    "most_likely_forecast = np.argmax(P_transition[0]) \n",
    "print(f\"The most likely forecast for the next two days if today is sunny is: {most_likely_forecast}\")\n"
   ]
  },
  {
   "cell_type": "markdown",
   "metadata": {
    "id": "EP1-dHpnK_kn"
   },
   "source": [
    "### [Question - Emission probabilities ]\n",
    "If on the first day you see no umbrella, what is the probability that it is rainy, foggy or sunny (Hint: remember the importance of overall probability of each state)?\n",
    "\n",
    "What is the most likely weather (hidden state)?"
   ]
  },
  {
   "cell_type": "code",
   "execution_count": 12,
   "metadata": {
    "colab": {
     "base_uri": "https://localhost:8080/",
     "height": 131
    },
    "id": "cME3l65bLcjm",
    "outputId": "449cbf38-0699-45d1-a692-3052860c769f"
   },
   "outputs": [
    {
     "name": "stdout",
     "output_type": "stream",
     "text": [
      "The probabilities of rainy, foggy, and sunny given no umbrella are: [0.9 0.2 0.7]\n",
      "The most likely weather on the first day is: 0\n"
     ]
    }
   ],
   "source": [
    "P_state_day0_given_umbrella =P_emission[0]\n",
    "print(f\"The probabilities of rainy, foggy, and sunny given no umbrella are: {P_state_day0_given_umbrella}\")\n",
    "\n",
    "# To find the most likely weather state, we choose the one with the highest probability.\n",
    "most_likely_weather = np.argmax(P_state_day0_given_umbrella)\n",
    "print(f\"The most likely weather on the first day is: {most_likely_weather}\")"
   ]
  },
  {
   "cell_type": "markdown",
   "metadata": {
    "id": "6chDNxazJh4w"
   },
   "source": [
    "### Evidence / observations\n",
    "\n",
    "Now we will define the observations on each day - whether we observed an umbrella (1) or not (0). \n"
   ]
  },
  {
   "cell_type": "code",
   "execution_count": 13,
   "metadata": {
    "id": "2sTDhFyECedd"
   },
   "outputs": [],
   "source": [
    "### DO NOT CHANGE ###\n",
    "\n",
    "## 0 = no umbrella, 1 = umbrella\n",
    "E = [0, 0, 0, 1, 0, 0, 1, 1, 0, 1]"
   ]
  },
  {
   "cell_type": "markdown",
   "metadata": {
    "id": "43OFPj-erMWJ"
   },
   "source": [
    "## Filtering\n",
    "\n",
    "*As a reminder*\n",
    "\n",
    "**Filtering**:\n",
    "Given observation sequence E(0), E(1), ..., E(T-1), compute P(X(T-1)|E(0), ..., E(T-1)).\n",
    "\n",
    "So we are computing the probability of the final state given our observations or evidence to date.\n",
    "\n",
    "We do this with the *Forward Algorithm* (see 15.2 in the text), which requires that we initialize probabilities at the first step using our 'prior' probability values of each underlying state. Then we update probabilities at each step (`Recursion`) using the prior step probabilities and given new evidence. We do this until we reach the end and then compute the total probability of each underlying state at the finel step."
   ]
  },
  {
   "cell_type": "markdown",
   "metadata": {
    "id": "Hw-UXGgV0fOP"
   },
   "source": [
    "### Recursion (and initialization) function definition"
   ]
  },
  {
   "cell_type": "code",
   "execution_count": 14,
   "metadata": {
    "id": "WqYrklx1xETE"
   },
   "outputs": [],
   "source": [
    "### DO NOT CHANGE ###\n",
    "\n",
    "# Normalize a probability distribution\n",
    "def normalize(pdist):\n",
    "   s = sum(pdist)\n",
    "   for i in range(0,len(pdist)):\n",
    "      pdist[i] = pdist[i] / s\n",
    "   return pdist\n",
    "\n",
    "DEBUG=True\n",
    "\n",
    "def init_and_recursion(Obs, S, init_prob, P_emission, P_transition):\n",
    "  ## a has a \"row\" for every observation and a \"column\" for every possible state\n",
    "  a = np.zeros((len(Obs), len(S)))\n",
    "  for t in range(0, len(Obs)):\n",
    "    print(f\".. (time {t}) Observation: {Obs[t]}\")\n",
    "    ## probability of a[0,:] is computed by summing over probabilities of all the \n",
    "    ## ways we could get to this \"path\" given where we left off at the previous\n",
    "    ## time step\n",
    "    if t == 0:\n",
    "      ##### Initialization\n",
    "      for j in range(len(S)):\n",
    "        #print(f\"t={t}, j={j}, S[j]={S[j]}, Obs[t]={Obs[t]}\")\n",
    "        a[t, j] = init_prob[j] * P_emission[Obs[t], S[j]]\n",
    "        current_state_total_prob = a[t, j]\n",
    "        print(f\".... Probability at state {S[j]}: {current_state_total_prob:.4f} (initial state)\")\n",
    "    else:    \n",
    "      ## we need to compute a probability for each of the possible states\n",
    "      for j in range(len(S)): ## for each of the present states\n",
    "        S_curr = S[j]\n",
    "        ## we need to sum over all of the previous states to get current state prob\n",
    "        ## we'll keep track of that probability to sum up here\n",
    "        current_state_total_prob = 0.0\n",
    "        for k in range(len(S)): ## for each of the possible previous states\n",
    "          S_prev = S[k] ## possible previous state that we came from\n",
    "          if DEBUG:\n",
    "            print(f\"......Transition from state={S_prev} to state={S_prev}\")\n",
    "            print(f\"        Calculation: \")\n",
    "            print(f\"        {a[t-1, k]:.2f} * {P_emission[Obs[t], S[j]]:.2f} * {P_transition[S_prev, S_curr]:.2f}\")\n",
    "          current_state_total_prob += a[t-1, k] * P_emission[Obs[t], S[j]] * P_transition[S_prev, S_curr]\n",
    "        a[t, j] = current_state_total_prob\n",
    "    a[t,:] = normalize(a[t,:])\n",
    "    print(f\".... State probabilities: {a[t, :]}\")\n",
    "  return a"
   ]
  },
  {
   "cell_type": "markdown",
   "metadata": {
    "id": "R9w5b_dy0k-u"
   },
   "source": [
    "### Termination function definition"
   ]
  },
  {
   "cell_type": "code",
   "execution_count": 15,
   "metadata": {
    "id": "eaZ6eXNxxzjR"
   },
   "outputs": [],
   "source": [
    "### DO NOT CHANGE ###\n",
    "\n",
    "def termination(a):\n",
    "  total_ending_prob = 0\n",
    "  T = a.shape[0]-1 ## last time point\n",
    "  for i in range(len(a[T, :])):\n",
    "    total_ending_prob += a[T, i]\n",
    "  print(f\"\\nProbability of each potential state: {a[T]}\")"
   ]
  },
  {
   "cell_type": "markdown",
   "metadata": {
    "id": "HgSvmWiGPHof"
   },
   "source": [
    "### [Question - Final state]\n",
    "What is the most likely final state (most likely weather)? How much more likely is the final weather than the other two options?\n",
    "\n",
    "Use the above recursion and initialization function to compute the most likely state at the end (the filtering problem)."
   ]
  },
  {
   "cell_type": "code",
   "execution_count": 16,
   "metadata": {
    "id": "f6XyS-8pPS5z"
   },
   "outputs": [
    {
     "name": "stdout",
     "output_type": "stream",
     "text": [
      ".. (time 0) Observation: 0\n",
      ".... Probability at state 0: 0.4500 (initial state)\n",
      ".... Probability at state 1: 0.0500 (initial state)\n",
      ".... Probability at state 2: 0.1750 (initial state)\n",
      ".... State probabilities: [0.66666667 0.07407407 0.25925926]\n",
      ".. (time 1) Observation: 0\n",
      "......Transition from state=0 to state=0\n",
      "        Calculation: \n",
      "        0.67 * 0.90 * 0.80\n",
      "......Transition from state=1 to state=1\n",
      "        Calculation: \n",
      "        0.07 * 0.90 * 0.20\n",
      "......Transition from state=2 to state=2\n",
      "        Calculation: \n",
      "        0.26 * 0.90 * 0.20\n",
      "......Transition from state=0 to state=0\n",
      "        Calculation: \n",
      "        0.67 * 0.20 * 0.05\n",
      "......Transition from state=1 to state=1\n",
      "        Calculation: \n",
      "        0.07 * 0.20 * 0.60\n",
      "......Transition from state=2 to state=2\n",
      "        Calculation: \n",
      "        0.26 * 0.20 * 0.30\n",
      "......Transition from state=0 to state=0\n",
      "        Calculation: \n",
      "        0.67 * 0.70 * 0.15\n",
      "......Transition from state=1 to state=1\n",
      "        Calculation: \n",
      "        0.07 * 0.70 * 0.20\n",
      "......Transition from state=2 to state=2\n",
      "        Calculation: \n",
      "        0.26 * 0.70 * 0.50\n",
      ".... State probabilities: [0.72754491 0.04191617 0.23053892]\n",
      ".. (time 2) Observation: 0\n",
      "......Transition from state=0 to state=0\n",
      "        Calculation: \n",
      "        0.73 * 0.90 * 0.80\n",
      "......Transition from state=1 to state=1\n",
      "        Calculation: \n",
      "        0.04 * 0.90 * 0.20\n",
      "......Transition from state=2 to state=2\n",
      "        Calculation: \n",
      "        0.23 * 0.90 * 0.20\n",
      "......Transition from state=0 to state=0\n",
      "        Calculation: \n",
      "        0.73 * 0.20 * 0.05\n",
      "......Transition from state=1 to state=1\n",
      "        Calculation: \n",
      "        0.04 * 0.20 * 0.60\n",
      "......Transition from state=2 to state=2\n",
      "        Calculation: \n",
      "        0.23 * 0.20 * 0.30\n",
      "......Transition from state=0 to state=0\n",
      "        Calculation: \n",
      "        0.73 * 0.70 * 0.15\n",
      "......Transition from state=1 to state=1\n",
      "        Calculation: \n",
      "        0.04 * 0.70 * 0.20\n",
      "......Transition from state=2 to state=2\n",
      "        Calculation: \n",
      "        0.23 * 0.70 * 0.50\n",
      ".... State probabilities: [0.75184188 0.03430323 0.21385489]\n",
      ".. (time 3) Observation: 1\n",
      "......Transition from state=0 to state=0\n",
      "        Calculation: \n",
      "        0.75 * 0.10 * 0.80\n",
      "......Transition from state=1 to state=1\n",
      "        Calculation: \n",
      "        0.03 * 0.10 * 0.20\n",
      "......Transition from state=2 to state=2\n",
      "        Calculation: \n",
      "        0.21 * 0.10 * 0.20\n",
      "......Transition from state=0 to state=0\n",
      "        Calculation: \n",
      "        0.75 * 0.80 * 0.05\n",
      "......Transition from state=1 to state=1\n",
      "        Calculation: \n",
      "        0.03 * 0.80 * 0.60\n",
      "......Transition from state=2 to state=2\n",
      "        Calculation: \n",
      "        0.21 * 0.80 * 0.30\n",
      "......Transition from state=0 to state=0\n",
      "        Calculation: \n",
      "        0.75 * 0.30 * 0.15\n",
      "......Transition from state=1 to state=1\n",
      "        Calculation: \n",
      "        0.03 * 0.30 * 0.20\n",
      "......Transition from state=2 to state=2\n",
      "        Calculation: \n",
      "        0.21 * 0.30 * 0.50\n",
      ".... State probabilities: [0.28193177 0.42375772 0.29431051]\n",
      ".. (time 4) Observation: 0\n",
      "......Transition from state=0 to state=0\n",
      "        Calculation: \n",
      "        0.28 * 0.90 * 0.80\n",
      "......Transition from state=1 to state=1\n",
      "        Calculation: \n",
      "        0.42 * 0.90 * 0.20\n",
      "......Transition from state=2 to state=2\n",
      "        Calculation: \n",
      "        0.29 * 0.90 * 0.20\n",
      "......Transition from state=0 to state=0\n",
      "        Calculation: \n",
      "        0.28 * 0.20 * 0.05\n",
      "......Transition from state=1 to state=1\n",
      "        Calculation: \n",
      "        0.42 * 0.20 * 0.60\n",
      "......Transition from state=2 to state=2\n",
      "        Calculation: \n",
      "        0.29 * 0.20 * 0.30\n",
      "......Transition from state=0 to state=0\n",
      "        Calculation: \n",
      "        0.28 * 0.70 * 0.15\n",
      "......Transition from state=1 to state=1\n",
      "        Calculation: \n",
      "        0.42 * 0.70 * 0.20\n",
      "......Transition from state=2 to state=2\n",
      "        Calculation: \n",
      "        0.29 * 0.70 * 0.50\n",
      ".... State probabilities: [0.557914   0.11977787 0.32230813]\n",
      ".. (time 5) Observation: 0\n",
      "......Transition from state=0 to state=0\n",
      "        Calculation: \n",
      "        0.56 * 0.90 * 0.80\n",
      "......Transition from state=1 to state=1\n",
      "        Calculation: \n",
      "        0.12 * 0.90 * 0.20\n",
      "......Transition from state=2 to state=2\n",
      "        Calculation: \n",
      "        0.32 * 0.90 * 0.20\n",
      "......Transition from state=0 to state=0\n",
      "        Calculation: \n",
      "        0.56 * 0.20 * 0.05\n",
      "......Transition from state=1 to state=1\n",
      "        Calculation: \n",
      "        0.12 * 0.20 * 0.60\n",
      "......Transition from state=2 to state=2\n",
      "        Calculation: \n",
      "        0.32 * 0.20 * 0.30\n",
      "......Transition from state=0 to state=0\n",
      "        Calculation: \n",
      "        0.56 * 0.70 * 0.15\n",
      "......Transition from state=1 to state=1\n",
      "        Calculation: \n",
      "        0.12 * 0.70 * 0.20\n",
      "......Transition from state=2 to state=2\n",
      "        Calculation: \n",
      "        0.32 * 0.70 * 0.50\n",
      ".... State probabilities: [0.67907217 0.05543917 0.26548866]\n",
      ".. (time 6) Observation: 1\n",
      "......Transition from state=0 to state=0\n",
      "        Calculation: \n",
      "        0.68 * 0.10 * 0.80\n",
      "......Transition from state=1 to state=1\n",
      "        Calculation: \n",
      "        0.06 * 0.10 * 0.20\n",
      "......Transition from state=2 to state=2\n",
      "        Calculation: \n",
      "        0.27 * 0.10 * 0.20\n",
      "......Transition from state=0 to state=0\n",
      "        Calculation: \n",
      "        0.68 * 0.80 * 0.05\n",
      "......Transition from state=1 to state=1\n",
      "        Calculation: \n",
      "        0.06 * 0.80 * 0.60\n",
      "......Transition from state=2 to state=2\n",
      "        Calculation: \n",
      "        0.27 * 0.80 * 0.30\n",
      "......Transition from state=0 to state=0\n",
      "        Calculation: \n",
      "        0.68 * 0.30 * 0.15\n",
      "......Transition from state=1 to state=1\n",
      "        Calculation: \n",
      "        0.06 * 0.30 * 0.20\n",
      "......Transition from state=2 to state=2\n",
      "        Calculation: \n",
      "        0.27 * 0.30 * 0.50\n",
      ".... State probabilities: [0.24110328 0.46633912 0.2925576 ]\n",
      ".. (time 7) Observation: 1\n",
      "......Transition from state=0 to state=0\n",
      "        Calculation: \n",
      "        0.24 * 0.10 * 0.80\n",
      "......Transition from state=1 to state=1\n",
      "        Calculation: \n",
      "        0.47 * 0.10 * 0.20\n",
      "......Transition from state=2 to state=2\n",
      "        Calculation: \n",
      "        0.29 * 0.10 * 0.20\n",
      "......Transition from state=0 to state=0\n",
      "        Calculation: \n",
      "        0.24 * 0.80 * 0.05\n",
      "......Transition from state=1 to state=1\n",
      "        Calculation: \n",
      "        0.47 * 0.80 * 0.60\n",
      "......Transition from state=2 to state=2\n",
      "        Calculation: \n",
      "        0.29 * 0.80 * 0.30\n",
      "......Transition from state=0 to state=0\n",
      "        Calculation: \n",
      "        0.24 * 0.30 * 0.15\n",
      "......Transition from state=1 to state=1\n",
      "        Calculation: \n",
      "        0.47 * 0.30 * 0.20\n",
      "......Transition from state=2 to state=2\n",
      "        Calculation: \n",
      "        0.29 * 0.30 * 0.50\n",
      ".... State probabilities: [0.08189068 0.72158412 0.1965252 ]\n",
      ".. (time 8) Observation: 0\n",
      "......Transition from state=0 to state=0\n",
      "        Calculation: \n",
      "        0.08 * 0.90 * 0.80\n",
      "......Transition from state=1 to state=1\n",
      "        Calculation: \n",
      "        0.72 * 0.90 * 0.20\n",
      "......Transition from state=2 to state=2\n",
      "        Calculation: \n",
      "        0.20 * 0.90 * 0.20\n",
      "......Transition from state=0 to state=0\n",
      "        Calculation: \n",
      "        0.08 * 0.20 * 0.05\n",
      "......Transition from state=1 to state=1\n",
      "        Calculation: \n",
      "        0.72 * 0.20 * 0.60\n",
      "......Transition from state=2 to state=2\n",
      "        Calculation: \n",
      "        0.20 * 0.20 * 0.30\n",
      "......Transition from state=0 to state=0\n",
      "        Calculation: \n",
      "        0.08 * 0.70 * 0.15\n",
      "......Transition from state=1 to state=1\n",
      "        Calculation: \n",
      "        0.72 * 0.70 * 0.20\n",
      "......Transition from state=2 to state=2\n",
      "        Calculation: \n",
      "        0.20 * 0.70 * 0.50\n",
      ".... State probabilities: [0.44681054 0.19767926 0.3555102 ]\n",
      ".. (time 9) Observation: 1\n",
      "......Transition from state=0 to state=0\n",
      "        Calculation: \n",
      "        0.45 * 0.10 * 0.80\n",
      "......Transition from state=1 to state=1\n",
      "        Calculation: \n",
      "        0.20 * 0.10 * 0.20\n",
      "......Transition from state=2 to state=2\n",
      "        Calculation: \n",
      "        0.36 * 0.10 * 0.20\n",
      "......Transition from state=0 to state=0\n",
      "        Calculation: \n",
      "        0.45 * 0.80 * 0.05\n",
      "......Transition from state=1 to state=1\n",
      "        Calculation: \n",
      "        0.20 * 0.80 * 0.60\n",
      "......Transition from state=2 to state=2\n",
      "        Calculation: \n",
      "        0.36 * 0.80 * 0.30\n",
      "......Transition from state=0 to state=0\n",
      "        Calculation: \n",
      "        0.45 * 0.30 * 0.15\n",
      "......Transition from state=1 to state=1\n",
      "        Calculation: \n",
      "        0.20 * 0.30 * 0.20\n",
      "......Transition from state=2 to state=2\n",
      "        Calculation: \n",
      "        0.36 * 0.30 * 0.50\n",
      ".... State probabilities: [0.14176559 0.59991196 0.25832245]\n",
      "The most likely final state (weather) is: 1\n",
      "The final weather is 34.16% more likely than the other two options.\n"
     ]
    }
   ],
   "source": [
    "### YOUR CODE HERE ###\n",
    "# Apply the init_and_recursion function\n",
    "final_state_probabilities = init_and_recursion(E, S, P_init, P_emission, P_transition)[-1]\n",
    "\n",
    "# Find the most likely final state\n",
    "most_likely_final_state = np.argmax(final_state_probabilities)\n",
    "print(f\"The most likely final state (weather) is: {most_likely_final_state}\")\n",
    "\n",
    "# Calculate the difference in probabilities between the most likely final state and the other two options\n",
    "other_states = [i for i in range(len(S)) if i != most_likely_final_state]\n",
    "probability_difference = final_state_probabilities[most_likely_final_state] - max(final_state_probabilities[other_states])\n",
    "\n",
    "print(f\"The final weather is {probability_difference:.2%} more likely than the other two options.\")\n"
   ]
  },
  {
   "cell_type": "markdown",
   "metadata": {
    "id": "i0NImz58WoFK"
   },
   "source": [
    "### [Question - Plot probabilities ]\n",
    "\n",
    "Use the [PyPlot](https://matplotlib.org/stable/tutorials/introductory/pyplot.html#:~:text=the%20pyplot%20interface.-,Intro%20to%20pyplot,the%20plot%20with%20labels%2C%20etc.) library to plot the transition probabilities over time."
   ]
  },
  {
   "cell_type": "code",
   "execution_count": 19,
   "metadata": {
    "id": "y12aUJ0rWmtK"
   },
   "outputs": [
    {
     "data": {
      "image/png": "[encoded data removed]",
      "text/plain": [
       "<Figure size 640x480 with 1 Axes>"
      ]
     },
     "metadata": {},
     "output_type": "display_data"
    }
   ],
   "source": [
    "import matplotlib.pyplot as plt\n",
    "\n",
    "# Assuming you have P_transition defined\n",
    "transition_probabilities = P_transition.flatten()  # Flatten the transition matrix\n",
    "\n",
    "# Create corresponding time steps (for example, if you have 3 states over 3 time steps)\n",
    "time_steps = [f\"Time {t}\" for t in range(3) for _ in range(3)]\n",
    "\n",
    "# Plot the transition probabilities\n",
    "plt.bar(time_steps, transition_probabilities, color='skyblue')\n",
    "plt.xlabel('Time Steps')\n",
    "plt.ylabel('Transition Probabilities')\n",
    "plt.title('Transition Probabilities Over Time')\n",
    "# Add labels to each bar\n",
    "for i, prob in enumerate(transition_probabilities):\n",
    "    plt.text(time_steps[i], prob, f'{prob:.2f}', ha='center', va='bottom')\n",
    "\n",
    "plt.show()"
   ]
  },
  {
   "cell_type": "code",
   "execution_count": null,
   "metadata": {},
   "outputs": [],
   "source": []
  },
  {
   "cell_type": "code",
   "execution_count": null,
   "metadata": {},
   "outputs": [],
   "source": []
  }
 ],
 "metadata": {
  "colab": {
   "collapsed_sections": [],
   "name": "eai6000-m04-hw.ipynb",
   "provenance": [],
   "toc_visible": true
  },
  "kernelspec": {
   "display_name": "Python 3 (ipykernel)",
   "language": "python",
   "name": "python3"
  },
  "language_info": {
   "codemirror_mode": {
    "name": "ipython",
    "version": 3
   },
   "file_extension": ".py",
   "mimetype": "text/x-python",
   "name": "python",
   "nbconvert_exporter": "python",
   "pygments_lexer": "ipython3",
   "version": "3.9.13"
  }
 },
 "nbformat": 4,
 "nbformat_minor": 4
}
