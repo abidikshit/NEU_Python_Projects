{
 "cells": [
  {
   "cell_type": "markdown",
   "id": "8bff5f63-e4dd-4be8-bb73-da39a9da15d0",
   "metadata": {},
   "source": [
    "| Course | Submitted To | Submitted By | Date Submitted      | Term   |\n",
    "|--------|------------|-----------|------------|--------|\n",
    "| EAI6000 | Andrew Cattle (PhD), Faculty Lecturer | Abhilash Dikshit | Oct 22, 2023 | Fall 2023 |\n"
   ]
  },
  {
   "cell_type": "markdown",
   "id": "46f7e774-9cf4-4455-ae94-afad924f8a37",
   "metadata": {},
   "source": [
    "# Repeated k-Fold Cross-Validation for Model Evaluation in Python"
   ]
  },
  {
   "cell_type": "markdown",
   "id": "16b9c049-79f0-48ba-8e1c-e80f7a74dbd9",
   "metadata": {},
   "source": [
    "### Lets Understand first what is Overfitting?\n",
    "In the part of building a model for supervised machine learning, our goal is to make the model learn the best settings for its internal parameters, like weights and biases, by showing it some labeled examples. Now, if we test the model with the exact same examples we used for training, it's a bit like cheating because the model already knows the answers. It might seem perfect on these examples, but it won't do well on new ones we haven't shown it before. This is what we call \"overfitting.\"\n",
    "\n",
    "To prevent overfitting, we use a technique called cross-validation. Instead of testing on the same data we used for training, we split our data into different parts. We train on some and test on others. This way, we can check how well our model performs on new, unseen data, which is the real test of its ability."
   ]
  },
  {
   "cell_type": "markdown",
   "id": "1ea2f629-edf7-4096-b2de-6dfb5aa05bd5",
   "metadata": {},
   "source": [
    "### How does Cross-Validation help prevent overfitting?\n",
    "\n",
    "Cross-Validation is like having several rounds of training and testing with our data. \n",
    "\n",
    "First, we split our data into smaller groups, sort of like creating different test papers. Then, we train our model on most of these groups and use one group as a test to see how well our model does. \n",
    "\n",
    "We do this several times, each time using a different group as a test. This way, our model gets tested on fresh data it has never seen before. It's like taking multiple quizzes to make sure we really understand the material."
   ]
  },
  {
   "cell_type": "markdown",
   "id": "0fcc94db-30b9-41dd-93ea-d078bea2cd1f",
   "metadata": {},
   "source": [
    "### For this assignment, we'll exclusively focus on doing repeated k-fold cross-validation based on the below link:\n",
    "\n",
    "### [Repeated k-Fold Cross-Validation for Model Evaluation in Python](https://machinelearningmastery.com/repeated-k-fold-cross-validation-with-python/)"
   ]
  },
  {
   "cell_type": "markdown",
   "id": "6aeaa337-1ea1-4978-b45e-40c7495ef4ce",
   "metadata": {},
   "source": [
    "## K-Fold Cross-Validation\n",
    "\n",
    "Imagine we have a big pile of data. With K-Fold Cross-Validation, we divide this data into smaller pieces, let's call them \"Folds.\" If we have K of these Folds, we simply call it \"K-Folds.\"\n",
    "\n",
    "Now, we do a cool trick. We take one Fold and say, \"Hey, Fold, you're the special one for now. You'll be the **test group.**\" \n",
    "\n",
    "The other K-1 Folds become the **training group**.\n",
    "\n",
    "We repeat this trick K times. Each time, a different Fold gets to be the test group, and the rest are the training group. It's like taking turns.\n",
    "\n",
    "Finally, we look at all the test results and find the average accuracy. That's our model's overall accuracy. This way, we make sure our model works well with different parts of the data.\n",
    "\n",
    "So, K-Fold Cross-Validation is like taking turns to test our model with different slices of our data and then averaging the results to see how good our model really is.\n"
   ]
  },
  {
   "cell_type": "code",
   "execution_count": 3,
   "id": "3083cd9f-060f-43de-9f96-27af14b37b34",
   "metadata": {},
   "outputs": [],
   "source": [
    "### Let's do some coding now"
   ]
  },
  {
   "cell_type": "markdown",
   "id": "624fc2c0-9ae3-4437-a3aa-d8ecd5a1a378",
   "metadata": {},
   "source": [
    "To begin, we'll create a pretend dataset for our classification experiment.\n",
    "\n",
    "We'll use a function called **make_classification()** to make this dataset. We'll set it up to make 1,000 samples, each having 20 different features. Out of these features, 15 will affect the outcome we're interested in."
   ]
  },
  {
   "cell_type": "code",
   "execution_count": 5,
   "id": "7d8f3cfc-908b-45dc-9a4d-f093fbf2daae",
   "metadata": {},
   "outputs": [
    {
     "name": "stdout",
     "output_type": "stream",
     "text": [
      "(1000, 20) (1000,)\n"
     ]
    }
   ],
   "source": [
    "# test classification dataset\n",
    "from sklearn.datasets import make_classification\n",
    "# define dataset\n",
    "X, y = make_classification(n_samples=1000, n_features=20, n_informative=15, n_redundant=5, random_state=1)\n",
    "# summarize the dataset\n",
    "print(X.shape, y.shape)"
   ]
  },
  {
   "cell_type": "markdown",
   "id": "bfb263be-dead-49d7-8c1e-da12ed15c776",
   "metadata": {},
   "source": [
    "Next, we can test how well a model works on this dataset using a method called \"k-fold cross-validation.\"\n",
    "\n",
    "To do this, we'll try out a **LogisticRegression model** and apply k-fold cross-validation. This means we'll divide the data into 10 parts, and we'll mix it up each time (shuffle it) to make sure our results are reliable.\n",
    "\n",
    "We'll use a function called **cross_val_score()** to do this job. It will take the dataset and our cross-validation setup, and then it will give us a list of scores that tell us how well the model performed in each round of the cross-validation."
   ]
  },
  {
   "cell_type": "markdown",
   "id": "eb4355c1-57aa-4c8b-9671-97aaa5fd75f5",
   "metadata": {},
   "source": [
    "### Initial Logistic Regression model"
   ]
  },
  {
   "cell_type": "code",
   "execution_count": 18,
   "id": "ebaed784-d8d1-492a-9c24-40395fa05339",
   "metadata": {},
   "outputs": [
    {
     "name": "stdout",
     "output_type": "stream",
     "text": [
      "Initial Accuracy: 0.868 (0.032)\n"
     ]
    }
   ],
   "source": [
    "# evaluate a logistic regression model using k-fold cross-validation\n",
    "from numpy import mean\n",
    "from numpy import std\n",
    "from sklearn.datasets import make_classification\n",
    "from sklearn.model_selection import KFold\n",
    "from sklearn.model_selection import cross_val_score\n",
    "from sklearn.linear_model import LogisticRegression\n",
    "# create dataset\n",
    "X, y = make_classification(n_samples=1000, n_features=20, n_informative=15, n_redundant=5, random_state=1)\n",
    "# prepare the cross-validation procedure\n",
    "cv = KFold(n_splits=10, random_state=1, shuffle=True)\n",
    "# create model\n",
    "model = LogisticRegression()\n",
    "# evaluate model\n",
    "scores = cross_val_score(model, X, y, scoring='accuracy', cv=cv, n_jobs=-1)\n",
    "# report performance\n",
    "print('Initial Accuracy: %.3f (%.3f)' % (mean(scores), std(scores)))"
   ]
  },
  {
   "cell_type": "markdown",
   "id": "14ceb8bc-8b3c-46b3-aabd-fe4dc2d77ec5",
   "metadata": {},
   "source": [
    "### Improved Logistic Regression model"
   ]
  },
  {
   "cell_type": "code",
   "execution_count": 9,
   "id": "c5df9647-2499-471e-834f-1cdf8b92ca96",
   "metadata": {},
   "outputs": [
    {
     "name": "stdout",
     "output_type": "stream",
     "text": [
      "Improved Accuracy: 0.869 (0.029)\n"
     ]
    }
   ],
   "source": [
    "# Improved Logistic Regression model\n",
    "\n",
    "from sklearn.datasets import make_classification\n",
    "from sklearn.model_selection import KFold\n",
    "from sklearn.model_selection import cross_val_score\n",
    "from sklearn.linear_model import LogisticRegression\n",
    "from sklearn.model_selection import GridSearchCV\n",
    "\n",
    "# create dataset\n",
    "X, y = make_classification(n_samples=1000, n_features=20, n_informative=15, n_redundant=5, random_state=1)\n",
    "\n",
    "# Hyperparameter tuning\n",
    "param_grid = {\n",
    "    'C': [0.001, 0.01, 0.1, 1, 10],\n",
    "    'solver': ['lbfgs', 'liblinear'],\n",
    "    'max_iter': [100, 1000, 10000]\n",
    "}\n",
    "\n",
    "grid_search = GridSearchCV(LogisticRegression(), param_grid, cv=5, scoring='accuracy')\n",
    "grid_search.fit(X, y)\n",
    "best_model = grid_search.best_estimator_\n",
    "\n",
    "# prepare the cross-validation procedure\n",
    "cv = KFold(n_splits=10, random_state=1, shuffle=True)\n",
    "\n",
    "# evaluate model\n",
    "scores = cross_val_score(best_model, X, y, scoring='accuracy', cv=cv, n_jobs=-1)\n",
    "\n",
    "# report performance\n",
    "print('Improved Accuracy: %.3f (%.3f)' % (mean(scores), std(scores)))\n"
   ]
  },
  {
   "cell_type": "markdown",
   "id": "20aa5b0b-5c37-47c9-8fbd-df073fa465fb",
   "metadata": {},
   "source": [
    "We did **Hyperparameter Tuning** with the **GridSearchCV** function which helps to automate this process by searching for the best combination of hyperparameters."
   ]
  },
  {
   "cell_type": "markdown",
   "id": "af3bcb97-0a6a-47e8-b2e6-aa47c4bf0f45",
   "metadata": {},
   "source": [
    "## Repeated k-Fold Cross-Validation"
   ]
  },
  {
   "cell_type": "markdown",
   "id": "b7e43825-feda-49c3-8f76-ad8465f72ca1",
   "metadata": {},
   "source": [
    "Imagine you have a big box of colorful candies, and you want to know which candies are the tastiest. You can't eat all of them at once, so you decide to do a fun game. Here's how it works:\n",
    "\n",
    "1. You take your big box of candies and split it into several smaller boxes, let's say 10 smaller boxes.\n",
    "\n",
    "2. You pick one of the smaller boxes, try the candies inside, and decide which ones you like the most. You write down your preferences.\n",
    "\n",
    "3. Now, you put back the candies, mix them up, and close the box.\n",
    "\n",
    "4. You repeat steps 2 and 3 nine more times, trying different boxes each time.\n",
    "\n",
    "5. After trying all the smaller boxes, you look at your notes and see which candies you liked the most overall.\n",
    "\n",
    "Repeating this process multiple times helps make sure your decision about the tastiest candies is fair and not just based on trying one set of candies. It's like playing the candy-tasting game many times to be really sure about your favorites.\n",
    "\n",
    "So, Repeated k-Fold Cross-Validation is a way for computers to make sure they understand data really well by testing it in different ways multiple times, just like you did with your candies!"
   ]
  },
  {
   "cell_type": "markdown",
   "id": "72bbffe7-fe06-40ae-9364-056013485687",
   "metadata": {},
   "source": [
    "### Repeated k-Fold Cross-Validation is useful for a few reasons:\n",
    "\n",
    "1. **Variability in Data:** Sometimes, our dataset may have variability, meaning it can produce different results based on how we split the data. Repeating the cross-validation process multiple times with different data splits helps ensure that the model's performance is consistent and not just dependent on a specific split.\n",
    "\n",
    "2. **Robustness Testing:** By repeating the cross-validation process, we test our model's performance under various conditions. This can help you identify if our model works well on average or if it's sensitive to the specific data used for training and testing.\n",
    "\n",
    "3. **Better Generalization:** Repeated cross-validation helps us estimate how well our model will perform on new, unseen data. This is important because we want our model to make accurate predictions in the real world, not just on the data it was trained on. Repeated cross-validation provides a more robust estimate of our model's generalization performance.\n",
    "\n",
    "4. **Reducing Overfitting:** It can help us detect overfitting, where our model is too complex and fits the training data too closely. By averaging the results of multiple runs, we can get a more stable estimate of our model's performance and whether it's overfitting.\n",
    "\n",
    "In summary, Repeated k-Fold Cross-Validation is a technique to ensure the reliability and robustness of our machine learning models, especially in situations where the data can vary or when we need to assess how well our model will perform on new, unseen data."
   ]
  },
  {
   "cell_type": "markdown",
   "id": "9246d186-52a8-4415-a3c4-b3343106c2e3",
   "metadata": {},
   "source": [
    "### Initial logistic regression model using repeated k-fold cross-validation"
   ]
  },
  {
   "cell_type": "code",
   "execution_count": 17,
   "id": "eb8ee3eb-0f39-4a4b-8c9b-74f5cb56701e",
   "metadata": {},
   "outputs": [
    {
     "name": "stdout",
     "output_type": "stream",
     "text": [
      "Initial Accuracy: 0.867 (0.031)\n"
     ]
    }
   ],
   "source": [
    "# evaluate a logistic regression model using repeated k-fold cross-validation\n",
    "from numpy import mean\n",
    "from numpy import std\n",
    "from sklearn.datasets import make_classification\n",
    "from sklearn.model_selection import RepeatedKFold\n",
    "from sklearn.model_selection import cross_val_score\n",
    "from sklearn.linear_model import LogisticRegression\n",
    "# create dataset\n",
    "X, y = make_classification(n_samples=1000, n_features=20, n_informative=15, n_redundant=5, random_state=1)\n",
    "# prepare the cross-validation procedure\n",
    "cv = RepeatedKFold(n_splits=10, n_repeats=3, random_state=1)\n",
    "# create model\n",
    "model = LogisticRegression()\n",
    "# evaluate model\n",
    "scores = cross_val_score(model, X, y, scoring='accuracy', cv=cv, n_jobs=-1)\n",
    "# report performance\n",
    "print('Initial Accuracy: %.3f (%.3f)' % (mean(scores), std(scores)))"
   ]
  },
  {
   "cell_type": "markdown",
   "id": "baf40300-5762-4dc7-9221-4adf374f6f26",
   "metadata": {},
   "source": [
    "### Improved logistic regression model using repeated k-fold cross-validation"
   ]
  },
  {
   "cell_type": "code",
   "execution_count": 23,
   "id": "5e725ccd-bdb4-45a2-b972-71550dd1fc3b",
   "metadata": {},
   "outputs": [
    {
     "name": "stdout",
     "output_type": "stream",
     "text": [
      "Improved Accuracy with lbfgs solver: 0.872\n"
     ]
    }
   ],
   "source": [
    "from sklearn.model_selection import GridSearchCV\n",
    "\n",
    "# Define hyperparameters to search\n",
    "\n",
    "param_grid = {\n",
    "    'C': [0.001, 0.01, 0.1, 1, 10, 100],\n",
    "    'penalty': ['l2'],  # Use only 'l2' penalty for lbfgs solver\n",
    "    'solver': ['lbfgs']  # Use 'lbfgs' solver\n",
    "}\n",
    "\n",
    "# Create the grid search\n",
    "grid_search = GridSearchCV(LogisticRegression(), param_grid, cv=cv, scoring='accuracy', n_jobs=-1)\n",
    "\n",
    "# Fit the grid search to your data\n",
    "grid_search.fit(X, y)\n",
    "\n",
    "# Get the best parameters\n",
    "best_params = grid_search.best_params_\n",
    "\n",
    "# Create a logistic regression model with the best parameters\n",
    "best_model = LogisticRegression(**best_params)\n",
    "\n",
    "# Fit the best model with the best parameters\n",
    "best_model.fit(X, y)\n",
    "\n",
    "# Predict the target values using the best model\n",
    "y_pred = best_model.predict(X)\n",
    "\n",
    "# Calculate accuracy by comparing predicted values with actual values\n",
    "accuracy = (y_pred == y).mean()\n",
    "\n",
    "# Print the accuracy\n",
    "print(f'Improved Accuracy with lbfgs solver: {accuracy:.3f}')\n"
   ]
  },
  {
   "cell_type": "code",
   "execution_count": 25,
   "id": "9e2cd660-4a8b-440f-a864-cf0db473795a",
   "metadata": {},
   "outputs": [
    {
     "name": "stdout",
     "output_type": "stream",
     "text": [
      "Improved Accuracy with liblinear solver: 0.873\n"
     ]
    }
   ],
   "source": [
    "from sklearn.model_selection import GridSearchCV\n",
    "\n",
    "# Define hyperparameters to search\n",
    "\n",
    "param_grid = {\n",
    "    'C': [0.001, 0.01, 0.1, 1, 10, 100],\n",
    "    'penalty': ['l1'],  # Use only 'l1' penalty for lbfgs solver\n",
    "    'solver': ['liblinear']  # Use 'liblinear' solver\n",
    "}\n",
    "\n",
    "# Create the grid search\n",
    "grid_search = GridSearchCV(LogisticRegression(), param_grid, cv=cv, scoring='accuracy', n_jobs=-1)\n",
    "\n",
    "# Fit the grid search to your data\n",
    "grid_search.fit(X, y)\n",
    "\n",
    "# Get the best parameters\n",
    "best_params = grid_search.best_params_\n",
    "\n",
    "# Create a logistic regression model with the best parameters\n",
    "best_model = LogisticRegression(**best_params)\n",
    "\n",
    "# Fit the best model with the best parameters\n",
    "best_model.fit(X, y)\n",
    "\n",
    "# Predict the target values using the best model\n",
    "y_pred = best_model.predict(X)\n",
    "\n",
    "# Calculate accuracy by comparing predicted values with actual values\n",
    "accuracy = (y_pred == y).mean()\n",
    "\n",
    "# Print the accuracy\n",
    "print(f'Improved Accuracy with liblinear solver: {accuracy:.3f}')\n"
   ]
  },
  {
   "cell_type": "markdown",
   "id": "73ed2507-f66e-4c73-b32b-5195ae3432f1",
   "metadata": {},
   "source": [
    "We performed Hyperparameter Tuning: \n",
    "\n",
    "We experiment with different hyperparameters of the logistic regression model. \n",
    "One can use tools like GridSearchCV or RandomizedSearchCV to systematically search for the best combination of hyperparameters. Tried different values for the regularization strength (C), penalty type (L1 or L2), and solver type."
   ]
  },
  {
   "cell_type": "markdown",
   "id": "51c9e45c-225c-4aec-8407-412bd86ddac0",
   "metadata": {},
   "source": [
    "### Standard Error"
   ]
  },
  {
   "cell_type": "markdown",
   "id": "50db7a98-9e65-41b6-917c-e9c46916f601",
   "metadata": {},
   "source": [
    "Imagine you're playing a game, and you're really good at it. Now, you play this game many times to see how well you do each time. Standard error is like a little helper that tells us how much your score might wiggle up and down when you play the game over and over.\n",
    "\n",
    "If the standard error is big, it means your scores are all over the place, like a bouncy ball. But if the standard error is small, it means your scores stay close together, like a line of toy soldiers. So, standard error helps us know if your game skills are consistent or all over the map.\n",
    "\n",
    "**Formula:\n",
    "standard_error = sample_standard_deviation / sqrt(number of repeats)**"
   ]
  },
  {
   "cell_type": "markdown",
   "id": "c671da4f-bd22-44c1-aee1-a5b7e06a78c3",
   "metadata": {},
   "source": [
    "To find out how consistent a sample is, we use the \"standard error,\" which we can calculate with a function called **\"sem().\"** \n",
    "\n",
    "Our goal is to pick the right number of times to repeat a process. This number should make the standard error small and keep the average performance stable when compared to other repeat numbers.\n",
    "\n",
    "In the example below, we try this with 10-fold cross-validation and repeat it from 1 to 50 times. We might think that repeating more times will give us a better average performance, but it's not always that simple due to some tricky statistical stuff."
   ]
  },
  {
   "cell_type": "code",
   "execution_count": 45,
   "id": "3380e8f8-3817-481b-a2c7-317bc19e2236",
   "metadata": {},
   "outputs": [
    {
     "name": "stdout",
     "output_type": "stream",
     "text": [
      ">1 mean=0.8680 se=0.011\n",
      ">2 mean=0.8675 se=0.008\n",
      ">3 mean=0.8673 se=0.006\n",
      ">4 mean=0.8670 se=0.006\n",
      ">5 mean=0.8658 se=0.005\n",
      ">6 mean=0.8655 se=0.004\n",
      ">7 mean=0.8651 se=0.004\n",
      ">8 mean=0.8651 se=0.004\n",
      ">9 mean=0.8656 se=0.003\n",
      ">10 mean=0.8658 se=0.003\n",
      ">11 mean=0.8655 se=0.003\n",
      ">12 mean=0.8654 se=0.003\n",
      ">13 mean=0.8652 se=0.003\n",
      ">14 mean=0.8651 se=0.003\n",
      ">15 mean=0.8653 se=0.003\n",
      ">16 mean=0.8652 se=0.002\n",
      ">17 mean=0.8651 se=0.002\n",
      ">18 mean=0.8651 se=0.002\n",
      ">19 mean=0.8649 se=0.002\n",
      ">20 mean=0.8649 se=0.002\n",
      ">21 mean=0.8649 se=0.002\n",
      ">22 mean=0.8650 se=0.002\n",
      ">23 mean=0.8652 se=0.002\n",
      ">24 mean=0.8651 se=0.002\n",
      ">25 mean=0.8652 se=0.002\n",
      ">26 mean=0.8652 se=0.002\n",
      ">27 mean=0.8652 se=0.002\n",
      ">28 mean=0.8652 se=0.002\n",
      ">29 mean=0.8651 se=0.002\n",
      ">30 mean=0.8651 se=0.002\n",
      ">31 mean=0.8651 se=0.002\n",
      ">32 mean=0.8649 se=0.002\n",
      ">33 mean=0.8648 se=0.002\n",
      ">34 mean=0.8648 se=0.002\n",
      ">35 mean=0.8648 se=0.002\n",
      ">36 mean=0.8648 se=0.002\n",
      ">37 mean=0.8648 se=0.002\n",
      ">38 mean=0.8649 se=0.002\n",
      ">39 mean=0.8650 se=0.002\n",
      ">40 mean=0.8650 se=0.001\n",
      ">41 mean=0.8650 se=0.002\n",
      ">42 mean=0.8649 se=0.001\n",
      ">43 mean=0.8648 se=0.001\n",
      ">44 mean=0.8649 se=0.001\n",
      ">45 mean=0.8649 se=0.001\n",
      ">46 mean=0.8649 se=0.001\n",
      ">47 mean=0.8649 se=0.001\n",
      ">48 mean=0.8650 se=0.001\n",
      ">49 mean=0.8650 se=0.001\n"
     ]
    },
    {
     "data": {
      "image/png": "[encoded data removed]",
      "text/plain": [
       "<Figure size 640x480 with 1 Axes>"
      ]
     },
     "metadata": {},
     "output_type": "display_data"
    }
   ],
   "source": [
    "# compare the number of repeats for repeated k-fold cross-validation\n",
    "from scipy.stats import sem\n",
    "from numpy import mean\n",
    "from numpy import std\n",
    "from sklearn.datasets import make_classification\n",
    "from sklearn.model_selection import RepeatedKFold\n",
    "from sklearn.model_selection import cross_val_score\n",
    "from sklearn.linear_model import LogisticRegression\n",
    "from matplotlib import pyplot\n",
    "import numpy as np\n",
    "import matplotlib.pyplot as plt\n",
    "\n",
    "# evaluate a model with a given number of repeats\n",
    "def evaluate_model(X, y, repeats):\n",
    "\t# prepare the cross-validation procedure\n",
    "\tcv = RepeatedKFold(n_splits=10, n_repeats=repeats, random_state=1)\n",
    "\t# create model\n",
    "\tmodel = LogisticRegression()\n",
    "\t# evaluate model\n",
    "\tscores = cross_val_score(model, X, y, scoring='accuracy', cv=cv, n_jobs=-1)\n",
    "\treturn scores\n",
    "\n",
    "# create dataset\n",
    "X, y = make_classification(n_samples=1000, n_features=20, n_informative=15, n_redundant=5, random_state=1)\n",
    "# configurations to test\n",
    "repeats = range(1,50) # Repeated from 1 to 50 times\n",
    "results = list()\n",
    "for r in repeats:\n",
    "\t# evaluate using a given number of repeats\n",
    "\tscores = evaluate_model(X, y, r)\n",
    "\t# summarize\n",
    "\tprint('>%d mean=%.4f se=%.3f' % (r, mean(scores), sem(scores)))\n",
    "\t# store\n",
    "\tresults.append(scores)\n",
    "# plot the results\n",
    "# pyplot.boxplot(results, labels=[str(r) for r in repeats], showmeans=True)\n",
    "# pyplot.show()ression model using repeated k-fold cross-validation\n",
    "\n",
    "pyplot.boxplot(results, labels=[str(r) for r in repeats], showmeans=True)\n",
    "pyplot.show()"
   ]
  },
  {
   "cell_type": "markdown",
   "id": "f3109c04-5f46-4c1d-a58d-48c47a0031d3",
   "metadata": {},
   "source": [
    "The standard error is a measure of how reliable our results are. We want it to be as small as possible. In this code, we've tested our model repeatedly, and you can see that as we increased the number of repeats, the standard error (se) became smaller to **0.1** when we repeated from **1 to 50 times.**\n",
    "\n",
    "A smaller standard error means our results are more consistent and reliable. So, by increasing the number of repeats, we improved the standard error, which is a good thing when evaluating our model's performance."
   ]
  },
  {
   "cell_type": "markdown",
   "id": "59c7360a-4956-4283-a9b0-b855ee5eb0b0",
   "metadata": {},
   "source": [
    "## References:\n",
    "1. Brownlee, J. (2020). Repeated K-Fold Cross-Validation for model evaluation in Python. MachineLearningMastery.com. https://machinelearningmastery.com/repeated-k-fold-cross-validation-with-python/\n",
    "\n",
    "2. sklearn.model_selection.RepeatedKFold. (n.d.). Scikit-learn. https://scikit-learn.org/stable/modules/generated/sklearn.model_selection.RepeatedKFold.html\n",
    "\n",
    "3. Hazra, A. (2022). Top 7 Cross-Validation Techniques with Python Code. Analytics Vidhya. https://www.analyticsvidhya.com/blog/2021/11/top-7-cross-validation-techniques-with-python-code/"
   ]
  }
 ],
 "metadata": {
  "kernelspec": {
   "display_name": "Python 3 (ipykernel)",
   "language": "python",
   "name": "python3"
  },
  "language_info": {
   "codemirror_mode": {
    "name": "ipython",
    "version": 3
   },
   "file_extension": ".py",
   "mimetype": "text/x-python",
   "name": "python",
   "nbconvert_exporter": "python",
   "pygments_lexer": "ipython3",
   "version": "3.9.13"
  }
 },
 "nbformat": 4,
 "nbformat_minor": 5
}
