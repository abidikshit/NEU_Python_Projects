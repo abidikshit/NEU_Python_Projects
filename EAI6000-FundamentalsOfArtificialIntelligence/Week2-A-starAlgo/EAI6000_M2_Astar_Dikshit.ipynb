{
 "cells": [
  {
   "cell_type": "markdown",
   "metadata": {
    "id": "dB4_y4GBm0tt"
   },
   "source": [
    "# A-Star Search Algorithm"
   ]
  },
  {
   "cell_type": "markdown",
   "metadata": {},
   "source": [
    "| Course | Submitted To | Submitted By | Date Submitted      | Term   |\n",
    "|--------|------------|-----------|------------|--------|\n",
    "| EAI6000 | Andrew Cattle (PhD), Faculty Lecturer | Abhilash Dikshit | Oct 01, 2023 | Fall 2023 |\n"
   ]
  },
  {
   "cell_type": "markdown",
   "metadata": {
    "id": "hRmWMPwTm5Ob"
   },
   "source": [
    "This notebook complements the walkthrough article [here](https://towardsdatascience.com/a-star-a-search-algorithm-eb495fb156bb) on the A-Star search algorithm."
   ]
  },
  {
   "cell_type": "markdown",
   "metadata": {
    "id": "auBnTGWHoMle"
   },
   "source": [
    "## Question 1: What is A* Search algorithm"
   ]
  },
  {
   "cell_type": "markdown",
   "metadata": {},
   "source": [
    "The A-Star (A*) Search Algorithm is a popular and efficient pathfinding algorithm used in artificial intelligence and computer science. It's designed to find the shortest path from a starting point to a goal point in a graph or grid-like environment, while considering both the cost to reach the current point and an estimate of the cost to reach the goal from that point.\n",
    "\n",
    "Here's how A* works:\n",
    "\n",
    "1. **Initialization**: Start at the initial node and add it to the open set. Set the initial node's cost to reach (known as \"g-cost\") to 0.\n",
    "\n",
    "2. **Evaluation**: While there are nodes in the open set, continue the search. Pick the node with the lowest combined cost (g-cost + estimated cost to the goal, known as \"f-cost\") and move it from the open set to the closed set, marking it as visited.\n",
    "\n",
    "3. **Expansion**: Expand the current node by considering its neighbors (adjacent nodes). For each neighbor, calculate its g-cost (the cost to reach it from the current node) and its h-cost (heuristic estimate of the cost from the neighbor to the goal). Add the neighbor to the open set if it's not already there or update its g-cost if a shorter path is found.\n",
    "\n",
    "4. **Termination**: Continue this process until the goal node is reached or there are no more nodes in the open set. If the goal is reached, reconstruct the path from the goal node back to the start by following the parent pointers.\n",
    "\n",
    "A* is considered optimal because it guarantees finding the shortest path if certain conditions are met, mainly that the heuristic (h-cost) is admissible (never overestimates the true cost) and consistent (obeys the triangle inequality). It's widely used in various applications, including robotics, video games, and route planning, due to its efficiency and accuracy in finding optimal paths."
   ]
  },
  {
   "cell_type": "markdown",
   "metadata": {
    "id": "FsP7pSLAoooN"
   },
   "source": [
    "## Question 2: Two key elements of *f(n)* and their representation and differences in the algorithm"
   ]
  },
  {
   "cell_type": "markdown",
   "metadata": {},
   "source": [
    "In the A* search algorithm, the key elements of the cost function f(n) are h(n) and g(n), which are used to estimate the total cost of reaching the goal node from the current node. These two components represent different aspects of the search process:\n",
    "\n",
    "1. **g(n) (Cost So Far):** This represents the actual cost incurred to reach the current node from the starting node. In other words, it's the cumulative cost of the path taken to get to this node. This cost is known and is based on the actual actions or steps required to reach the current node from the initial node.\n",
    "\n",
    "2. **h(n) (Heuristic Estimate):** This represents an estimate of the cost required to reach the goal node from the current node. It's a heuristic, meaning it's an educated guess or approximation of the actual cost. The heuristic function h(n) provides an optimistic estimate; it should never overestimate the true cost to the goal.\n",
    "\n",
    "The key difference between these two components is that g(n) deals with known, concrete, and actual costs, while h(n) provides an estimate of future, potential costs. To determine the overall cost of a path, you simply sum g(n) and h(n), which gives you f(n):\n",
    "\n",
    "f(n) = g(n) + h(n)\n",
    "\n",
    "****A real-life example to understand this better is route planning:****\n",
    "\n",
    "Imagine you're using a navigation app to find the fastest route from your current location (Node A) to a restaurant (Node B).\n",
    "\n",
    "- **g(n):** This represents the actual distance you've traveled on the road so far, measured in miles or kilometers. It accounts for the real-time distance covered on the path you've taken.\n",
    "\n",
    "- **h(n):** This is the estimated remaining distance from your current location to the restaurant as the crow flies, disregarding any road network. It's a rough estimate of the \"as-the-crow-flies\" or Euclidean distance.\n",
    "\n",
    "- **f(n):** The sum of g(n) and h(n) represents the total expected distance of your journey. It's the distance you've already covered plus the estimated remaining straight-line distance to your destination.\n",
    "\n",
    "The navigation app uses this information to guide you efficiently. The A* algorithm, in a similar way, uses g(n) and h(n) to find the optimal path that balances actual costs (g(n)) and estimated remaining costs (h(n)) to reach the goal."
   ]
  },
  {
   "cell_type": "markdown",
   "metadata": {
    "id": "-_VkEgNWuMDK"
   },
   "source": [
    "## [Activity - run Node]\n",
    "Examine and run the below code."
   ]
  },
  {
   "cell_type": "code",
   "execution_count": 18,
   "metadata": {
    "id": "ufRvBVJBmmxA"
   },
   "outputs": [],
   "source": [
    "\n",
    "class Node():\n",
    "    \"\"\"A node class for A* Pathfinding\"\"\"\n",
    "\n",
    "    def __init__(self, parent=None, position=None):\n",
    "        self.parent = parent\n",
    "        self.position = position\n",
    "\n",
    "        self.g = 0\n",
    "        self.h = 0\n",
    "        self.f = 0\n",
    "\n",
    "    def __eq__(self, other):\n",
    "        return self.position == other.position"
   ]
  },
  {
   "cell_type": "markdown",
   "metadata": {
    "id": "Ucsmb_lfuTrp",
    "tags": []
   },
   "source": [
    "## Question 3: Purpose of 'Node' class and initialization of a 'parent' and 'position' attributes"
   ]
  },
  {
   "cell_type": "markdown",
   "metadata": {},
   "source": [
    "The purpose of the `Node` class in the A* pathfinding algorithm is to represent individual nodes or points within a search space, typically used for finding the shortest path from a starting point to a goal point. This class is essential for constructing and maintaining the search tree during the algorithm's execution.\n",
    "\n",
    "Here's an explanation of the attributes and their purposes within the `Node` class:\n",
    "\n",
    "1. **parent:** This attribute represents the parent node in the search tree. In the context of A* search, it stores a reference to the node that leads to the current node. This is crucial for tracing the final path once the goal node is reached. By following the chain of parents backward from the goal node to the start node, you can reconstruct the optimal path.\n",
    "\n",
    "2. **position:** This attribute holds the position or coordinates of the node in the search space. It is typically a tuple (x, y) or any other suitable data structure representing the node's location. Knowing the position is essential for calculating various metrics, such as the heuristic function (h(n)), which estimates the cost from the current node to the goal node.\n",
    "\n",
    "3. **g, h, f:** These attributes are used to store various cost values associated with the node:\n",
    "   - `g` represents the actual cost from the start node to the current node. It is the sum of the costs along the path from the start node to the current node.\n",
    "   - `h` represents the heuristic cost estimate from the current node to the goal node. It is typically calculated using a heuristic function.\n",
    "   - `f` is the total estimated cost of the path through the current node to the goal. It's the sum of `g` and `h` (f = g + h).\n",
    "\n",
    "Initializing a `parent` and a `position` in the `Node` class is necessary because these attributes are fundamental to the A* search algorithm's functioning. The `parent` attribute allows the algorithm to backtrack and construct the optimal path once the goal is reached. The `position` attribute specifies the location of the node in the search space, facilitating calculations of costs and heuristic estimates. These attributes work together to navigate and evaluate nodes efficiently during the search process."
   ]
  },
  {
   "cell_type": "markdown",
   "metadata": {
    "id": "B6s0TVMuur8t"
   },
   "source": [
    "## [Activity - Run astar() ]"
   ]
  },
  {
   "cell_type": "code",
   "execution_count": 19,
   "metadata": {
    "id": "wYzrkdjZpxZs"
   },
   "outputs": [],
   "source": [
    "def astar(maze, start, end):\n",
    "    \"\"\"Returns a list of tuples as a path from the given start to the given end in the given maze\"\"\"\n",
    "\n",
    "    # Create start and end node\n",
    "    start_node = Node(None, start)\n",
    "    start_node.g = start_node.h = start_node.f = 0\n",
    "    end_node = Node(None, end)\n",
    "    end_node.g = end_node.h = end_node.f = 0\n",
    "\n",
    "    # Initialize both open and closed list\n",
    "    open_list = []\n",
    "    closed_list = []\n",
    "\n",
    "    # Add the start node\n",
    "    open_list.append(start_node)\n",
    "\n",
    "    # Loop until you find the end\n",
    "    while len(open_list) > 0:\n",
    "\n",
    "        # Get the current node\n",
    "        current_node = open_list[0]\n",
    "        current_index = 0\n",
    "        for index, item in enumerate(open_list):\n",
    "            if item.f < current_node.f:\n",
    "                current_node = item\n",
    "                current_index = index\n",
    "\n",
    "        # Pop current off open list, add to closed list\n",
    "        open_list.pop(current_index)\n",
    "        closed_list.append(current_node)\n",
    "\n",
    "        # Found the goal\n",
    "        if current_node == end_node:\n",
    "            path = []\n",
    "            current = current_node\n",
    "            while current is not None:\n",
    "                path.append(current.position)\n",
    "                current = current.parent\n",
    "            return path[::-1] # Return reversed path\n",
    "\n",
    "        # Generate children\n",
    "        children = []\n",
    "        for new_position in [(0, -1), (0, 1), (-1, 0), (1, 0), (-1, -1), (-1, 1), (1, -1), (1, 1)]: # Adjacent squares\n",
    "\n",
    "            # Get node position\n",
    "            node_position = (current_node.position[0] + new_position[0], current_node.position[1] + new_position[1])\n",
    "\n",
    "            # Make sure within range\n",
    "            if node_position[0] > (len(maze) - 1) or node_position[0] < 0 or node_position[1] > (len(maze[len(maze)-1]) -1) or node_position[1] < 0:\n",
    "                continue\n",
    "\n",
    "            # Make sure walkable terrain\n",
    "            if maze[node_position[0]][node_position[1]] != 0:\n",
    "                continue\n",
    "\n",
    "            # Create new node\n",
    "            new_node = Node(current_node, node_position)\n",
    "\n",
    "            # Append\n",
    "            children.append(new_node)\n",
    "\n",
    "        # Loop through children\n",
    "        for child in children:\n",
    "\n",
    "            # Child is on the closed list\n",
    "            if child in closed_list:\n",
    "              continue\n",
    "\n",
    "            # Create the f, g, and h values\n",
    "            child.g = current_node.g + 1\n",
    "            child.h = ((child.position[0] - end_node.position[0]) ** 2) + ((child.position[1] - end_node.position[1]) ** 2)\n",
    "            child.f = child.g + child.h\n",
    "\n",
    "            # Child is already in the open list\n",
    "            for open_node in open_list:\n",
    "                if child == open_node and child.g > open_node.g:\n",
    "                    continue\n",
    "\n",
    "            # Add the child to the open list\n",
    "            open_list.append(child)\n"
   ]
  },
  {
   "cell_type": "markdown",
   "metadata": {
    "id": "hral7UX2vF0z"
   },
   "source": [
    "## Question 4- Explain maze. \n",
    "## What type of input should value of *maze* be?"
   ]
  },
  {
   "cell_type": "markdown",
   "metadata": {},
   "source": [
    "The `maze` in the `astar` function represents the environment or the map through which the A* search algorithm will find a path from the `start` position to the `end` position. \n",
    "\n",
    "The `maze` should be a two-dimensional list (a list of lists) where each element of the list represents a cell or location within the environment. The elements of this 2D list typically use integer values to indicate different aspects of the environment, such as obstacles, clear paths, or other features.\n",
    "\n",
    "Here's a breakdown of what the integer values in the `maze` might typically mean:\n",
    "\n",
    "- **0:** This value typically represents a clear or walkable path. It indicates that the agent can move freely through this cell.\n",
    "\n",
    "- **1:** This value often represents an obstacle or an impassable cell. It indicates that the agent cannot move through this cell.\n",
    "\n",
    "The `maze` serves as the terrain or layout within which the A* algorithm searches for a path. It should accurately represent the environment, including obstacles and open areas, to allow the algorithm to find a valid path from `start` to `end`."
   ]
  },
  {
   "cell_type": "markdown",
   "metadata": {
    "id": "EcB70Wbet1-w"
   },
   "source": [
    "## Question 5- Build Main. \n",
    "## Use the above code that uses the astar() function to define a path from the beginning to the end of a maze. You can choose how the maze looks and where the start and end are."
   ]
  },
  {
   "cell_type": "markdown",
   "metadata": {},
   "source": [
    "Let's define a simple maze and find a path from the start to the end using the astar() function."
   ]
  },
  {
   "cell_type": "code",
   "execution_count": 20,
   "metadata": {
    "id": "MY8tTsSbt1XE"
   },
   "outputs": [],
   "source": [
    "maze = [\n",
    "    [0, 1, 0, 0, 0, 0],\n",
    "    [0, 1, 0, 1, 1, 0],\n",
    "    [0, 0, 0, 0, 1, 0],\n",
    "    [0, 1, 1, 1, 1, 0],\n",
    "    [0, 0, 0, 0, 0, 0]\n",
    "]"
   ]
  },
  {
   "cell_type": "markdown",
   "metadata": {},
   "source": [
    "In this maze:\n",
    "\n",
    "- 0 represents a clear path.\n",
    "- 1 represents an obstacle.\n",
    "\n",
    "Let's set the start and end positions:"
   ]
  },
  {
   "cell_type": "code",
   "execution_count": 21,
   "metadata": {},
   "outputs": [
    {
     "name": "stdout",
     "output_type": "stream",
     "text": [
      "Path from start to end: [(0, 0), (1, 0), (2, 1), (1, 2), (0, 3), (0, 4), (1, 5), (2, 5), (3, 5), (4, 5)]\n"
     ]
    }
   ],
   "source": [
    "start = (0, 0)  # Start position\n",
    "end = (4, 5)    # End position\n",
    "\n",
    "# Now, we can call the astar() function to find the path:\n",
    "\n",
    "path = astar(maze, start, end)\n",
    "print(\"Path from start to end:\", path)\n"
   ]
  },
  {
   "cell_type": "markdown",
   "metadata": {},
   "source": [
    "The astar() function will compute the path from the start position (0, 0) to the end position (4, 5) in the provided maze while avoiding obstacles. It will return a list of tuples representing the path.\n",
    "\n",
    "This output represents the path from the start to the end, navigating through the maze while avoiding obstacles. The list of tuples indicates the coordinates of each step in the path."
   ]
  },
  {
   "cell_type": "markdown",
   "metadata": {
    "id": "_t_M9LWSwc79"
   },
   "source": [
    "## Question 6- Impossible Maze\n",
    "## Now create a maze that the algorithm cannot solve. What is the output of the algorithm?"
   ]
  },
  {
   "cell_type": "markdown",
   "metadata": {},
   "source": [
    "To create a maze that the A* algorithm cannot solve, we can design a maze where there is no clear path from the start to the end, or the end is entirely blocked by obstacles. Here's an example of such a maze:"
   ]
  },
  {
   "cell_type": "code",
   "execution_count": 22,
   "metadata": {
    "id": "yoQ3fuVbwnuv"
   },
   "outputs": [],
   "source": [
    "unsolvable_maze = [\n",
    "    [0, 1, 0, 0, 0, 0],\n",
    "    [0, 1, 0, 1, 1, 0],\n",
    "    [0, 0, 0, 0, 1, 0],\n",
    "    [0, 1, 1, 1, 1, 0],\n",
    "    [0, 0, 0, 0, 0, 1]  # End position blocked by obstacles\n",
    "]"
   ]
  },
  {
   "cell_type": "markdown",
   "metadata": {},
   "source": [
    "In this maze, there is no clear path from the start to the end, as the end position at (4, 5) is entirely blocked by obstacles.\n",
    "\n",
    "Now, let's use the astar() function to find a path in this unsolvable maze:"
   ]
  },
  {
   "cell_type": "code",
   "execution_count": 23,
   "metadata": {},
   "outputs": [
    {
     "name": "stdout",
     "output_type": "stream",
     "text": [
      "Path from start to end: None\n"
     ]
    }
   ],
   "source": [
    "start = (0, 0)  # Start position\n",
    "end = (4, 5)    # End position (blocked by obstacles)\n",
    "\n",
    "path = astar(unsolvable_maze, start, end)\n",
    "print(\"Path from start to end:\", path)\n"
   ]
  },
  {
   "cell_type": "markdown",
   "metadata": {},
   "source": [
    "The output of the algorithm in this case will be None because it cannot find a valid path from the start to the end due to the end position being blocked by obstacles.\n",
    "\n",
    "In an unsolvable maze, the A* algorithm will return an empty path, indicating that no valid path exists from the start to the end."
   ]
  }
 ],
 "metadata": {
  "colab": {
   "collapsed_sections": [],
   "name": "eai6000-m02-hw.ipynb",
   "provenance": [],
   "toc_visible": true
  },
  "kernelspec": {
   "display_name": "Python 3 (ipykernel)",
   "language": "python",
   "name": "python3"
  },
  "language_info": {
   "codemirror_mode": {
    "name": "ipython",
    "version": 3
   },
   "file_extension": ".py",
   "mimetype": "text/x-python",
   "name": "python",
   "nbconvert_exporter": "python",
   "pygments_lexer": "ipython3",
   "version": "3.9.13"
  }
 },
 "nbformat": 4,
 "nbformat_minor": 4
}
