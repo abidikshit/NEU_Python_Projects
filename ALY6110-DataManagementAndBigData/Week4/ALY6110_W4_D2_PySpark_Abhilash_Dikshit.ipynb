{
 "cells": [
  {
   "cell_type": "markdown",
   "id": "32e9ee42-92b8-4e8b-9504-4cfe6e806097",
   "metadata": {},
   "source": [
    "# <center>PySpark Project: HPI_AT_BDL_ZIP3</center>"
   ]
  },
  {
   "cell_type": "markdown",
   "id": "786c332a-1d74-4f29-a7a4-1a7884be7cf5",
   "metadata": {},
   "source": [
    "| Course | Instructor | Full Name | Date       | Term   |\n",
    "|--------|------------|-----------|------------|--------|\n",
    "| ALY6110 | Prof Andy Chan, Faculty Lecturer | Abhilash Dikshit | Jun 24, 2023 | Spring |\n"
   ]
  },
  {
   "cell_type": "code",
   "execution_count": null,
   "id": "a9f001f1-167f-4b0c-9731-2a5565e0f21d",
   "metadata": {},
   "outputs": [],
   "source": [
    "#!pip install pyspark"
   ]
  },
  {
   "cell_type": "code",
   "execution_count": null,
   "id": "cc0bdd7a-4f72-4417-b997-7ae92eb69762",
   "metadata": {},
   "outputs": [],
   "source": [
    "from pyspark.sql import SparkSession\n",
    "import pyspark.sql.functions as F\n",
    "import matplotlib.pyplot as plt"
   ]
  },
  {
   "cell_type": "code",
   "execution_count": null,
   "id": "7ddc105d-cc9c-4c7f-a37f-dc5dcbb40e92",
   "metadata": {
    "tags": []
   },
   "outputs": [],
   "source": [
    "# Create SparkSession\n",
    "spark = SparkSession.builder.appName(\"ZIP Code Housing Price Analysis\").getOrCreate()"
   ]
  },
  {
   "cell_type": "code",
   "execution_count": null,
   "id": "a715b604-562d-445a-b27a-92ab896a6bdf",
   "metadata": {
    "tags": []
   },
   "outputs": [],
   "source": [
    "# Load the dataset\n",
    "df = spark.read.format(\"csv\").option(\"header\", \"true\").load(\"/Users/abidikshit/GitProjects/Datasets/HPI_AT_BDL_ZIP3.csv\")"
   ]
  },
  {
   "cell_type": "code",
   "execution_count": null,
   "id": "73e27d59-4ba6-483b-844e-1130ed716526",
   "metadata": {
    "tags": []
   },
   "outputs": [],
   "source": [
    "# Print the schema of the DataFrame\n",
    "df.printSchema()"
   ]
  },
  {
   "cell_type": "code",
   "execution_count": null,
   "id": "a8da921c-2564-4725-ae0b-ec8e78387e65",
   "metadata": {
    "tags": []
   },
   "outputs": [],
   "source": [
    "# Drop columns _c6\n",
    "df = df.drop(\"_c6\")\n",
    "\n",
    "# Print the updated schema of the DataFrame\n",
    "df.printSchema()"
   ]
  },
  {
   "cell_type": "code",
   "execution_count": null,
   "id": "95771c85-6231-48eb-b3a1-bb5907d2b75e",
   "metadata": {
    "tags": []
   },
   "outputs": [],
   "source": [
    "from pyspark.sql.functions import col\n",
    "\n",
    "# Convert columns to appropriate data types\n",
    "df = df.withColumn(\"Year\", col(\"Year\").cast(\"integer\"))\n",
    "df = df.withColumn(\"Annual Change (%)\", col(\"Annual Change (%)\").cast(\"double\"))\n",
    "df = df.withColumn(\"HPI\", col(\"HPI\").cast(\"double\"))\n",
    "df = df.withColumn(\"HPI with 1990 base\", col(\"HPI with 1990 base\").cast(\"double\"))\n",
    "df = df.withColumn(\"HPI with 2000 base\", col(\"HPI with 2000 base\").cast(\"double\"))"
   ]
  },
  {
   "cell_type": "code",
   "execution_count": null,
   "id": "817ff6a1-3b9c-40f8-b5d2-8f6bf1dac057",
   "metadata": {
    "tags": []
   },
   "outputs": [],
   "source": [
    "# Data Exploration\n",
    "df.printSchema()\n",
    "df.show()"
   ]
  },
  {
   "cell_type": "code",
   "execution_count": null,
   "id": "22f37420-8e93-439f-95eb-5c0167e25aa8",
   "metadata": {},
   "outputs": [],
   "source": [
    "# Descriptive Statistics\n",
    "df.describe().show()"
   ]
  },
  {
   "cell_type": "code",
   "execution_count": null,
   "id": "e0cfb321-2b22-4bd4-8325-8b669b660339",
   "metadata": {},
   "outputs": [],
   "source": [
    "# Time Series Analysis\n",
    "time_series_data = df.select(\"Year\", \"HPI\").orderBy(\"Year\")\n",
    "years = [row[\"Year\"] for row in time_series_data.collect()]\n",
    "hpi_values = [row[\"HPI\"] for row in time_series_data.collect()]\n",
    "plt.plot(years, hpi_values)\n",
    "plt.xlabel(\"Year\")\n",
    "plt.ylabel(\"HPI\")\n",
    "plt.title(\"Housing Price Index Over Time\")\n",
    "plt.show()"
   ]
  },
  {
   "cell_type": "code",
   "execution_count": null,
   "id": "0e341477-ab19-4bc6-b908-a014c9b2d705",
   "metadata": {},
   "outputs": [],
   "source": [
    "# Group by year and calculate average HPI for each year\n",
    "seasonal_data = df.groupBy(\"Year\").agg(F.avg(\"HPI\").alias(\"Average HPI\"))\n",
    "\n",
    "# Order the data by year\n",
    "seasonal_data = seasonal_data.orderBy(\"Year\")\n",
    "\n",
    "# Extract year and average HPI values\n",
    "years = [row[\"Year\"] for row in seasonal_data.collect()]\n",
    "hpi_values = [row[\"Average HPI\"] for row in seasonal_data.collect()]\n",
    "\n",
    "# Plot the seasonality pattern\n",
    "plt.plot(years, hpi_values)\n",
    "plt.xlabel(\"Year\")\n",
    "plt.ylabel(\"Average HPI\")\n",
    "plt.title(\"Seasonality Patterns in HPI\")\n",
    "plt.show()\n"
   ]
  },
  {
   "cell_type": "code",
   "execution_count": null,
   "id": "a74af55b-068d-4254-bd46-8ef1ea4b2f8c",
   "metadata": {},
   "outputs": [],
   "source": [
    "# Correlation Analysis\n",
    "correlation = df.stat.corr(\"Annual Change (%)\", \"HPI with 2000 base\")\n",
    "print(\"Correlation between Annual Change (%) and HPI with 2000 base:\", correlation)"
   ]
  },
  {
   "cell_type": "code",
   "execution_count": null,
   "id": "99066e47-427a-466f-a761-3a6c88ff56e1",
   "metadata": {},
   "outputs": [],
   "source": [
    "# Close SparkSession\n",
    "spark.stop()"
   ]
  }
 ],
 "metadata": {
  "kernelspec": {
   "display_name": "Python 3 (ipykernel)",
   "language": "python",
   "name": "python3"
  },
  "language_info": {
   "codemirror_mode": {
    "name": "ipython",
    "version": 3
   },
   "file_extension": ".py",
   "mimetype": "text/x-python",
   "name": "python",
   "nbconvert_exporter": "python",
   "pygments_lexer": "ipython3",
   "version": "3.9.13"
  }
 },
 "nbformat": 4,
 "nbformat_minor": 5
}
