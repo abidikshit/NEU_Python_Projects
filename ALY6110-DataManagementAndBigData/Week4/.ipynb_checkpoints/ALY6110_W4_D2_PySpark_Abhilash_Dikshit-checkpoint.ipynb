{
 "cells": [
  {
   "cell_type": "markdown",
   "id": "32e9ee42-92b8-4e8b-9504-4cfe6e806097",
   "metadata": {},
   "source": [
    "# <center>PySpark Project: HPI_AT_BDL_ZIP5 And HPI_AT_BDL_ZIP3</center>"
   ]
  },
  {
   "cell_type": "markdown",
   "id": "786c332a-1d74-4f29-a7a4-1a7884be7cf5",
   "metadata": {},
   "source": [
    "| Course | Instructor | Full Name | Date       | Term   |\n",
    "|--------|------------|-----------|------------|--------|\n",
    "| ALY6110 | Prof Andy Chan, Faculty Lecturer | Abhilash Dikshit | Jun 24, 2023 | Spring |\n"
   ]
  },
  {
   "cell_type": "code",
   "execution_count": 26,
   "id": "a9f001f1-167f-4b0c-9731-2a5565e0f21d",
   "metadata": {},
   "outputs": [
    {
     "name": "stdout",
     "output_type": "stream",
     "text": [
      "Requirement already satisfied: pyspark in /Users/abidikshit/opt/anaconda3/lib/python3.9/site-packages (3.4.0)\n",
      "Requirement already satisfied: py4j==0.10.9.7 in /Users/abidikshit/opt/anaconda3/lib/python3.9/site-packages (from pyspark) (0.10.9.7)\n"
     ]
    }
   ],
   "source": [
    "#!pip install pyspark"
   ]
  },
  {
   "cell_type": "code",
   "execution_count": 2,
   "id": "cc0bdd7a-4f72-4417-b997-7ae92eb69762",
   "metadata": {},
   "outputs": [],
   "source": [
    "from pyspark.sql import SparkSession\n",
    "import pyspark.sql.functions as F\n",
    "import matplotlib.pyplot as plt"
   ]
  },
  {
   "cell_type": "code",
   "execution_count": 3,
   "id": "7ddc105d-cc9c-4c7f-a37f-dc5dcbb40e92",
   "metadata": {},
   "outputs": [
    {
     "name": "stderr",
     "output_type": "stream",
     "text": [
      "Setting default log level to \"WARN\".\n",
      "To adjust logging level use sc.setLogLevel(newLevel). For SparkR, use setLogLevel(newLevel).\n",
      "23/06/24 19:32:56 WARN NativeCodeLoader: Unable to load native-hadoop library for your platform... using builtin-java classes where applicable\n",
      "23/06/24 19:32:57 WARN Utils: Service 'SparkUI' could not bind on port 4040. Attempting port 4041.\n"
     ]
    }
   ],
   "source": [
    "# Create SparkSession\n",
    "spark = SparkSession.builder.appName(\"ZIP Code Housing Price Analysis\").getOrCreate()"
   ]
  },
  {
   "cell_type": "code",
   "execution_count": 4,
   "id": "a715b604-562d-445a-b27a-92ab896a6bdf",
   "metadata": {},
   "outputs": [
    {
     "name": "stderr",
     "output_type": "stream",
     "text": [
      "                                                                                \r"
     ]
    }
   ],
   "source": [
    "# Load the dataset\n",
    "df = spark.read.format(\"csv\").option(\"header\", \"true\").load(\"/Users/abidikshit/GitProjects/Datasets/HPI_AT_BDL_ZIP3.csv\")"
   ]
  },
  {
   "cell_type": "code",
   "execution_count": 5,
   "id": "73e27d59-4ba6-483b-844e-1130ed716526",
   "metadata": {},
   "outputs": [
    {
     "name": "stdout",
     "output_type": "stream",
     "text": [
      "root\n",
      " |-- Five-Digit ZIP Code: string (nullable = true)\n",
      " |-- Year: string (nullable = true)\n",
      " |-- Annual Change (%): string (nullable = true)\n",
      " |-- HPI: string (nullable = true)\n",
      " |-- HPI with 1990 base: string (nullable = true)\n",
      " |-- HPI with 2000 base: string (nullable = true)\n",
      " |-- _c6: string (nullable = true)\n",
      " |-- _c7: string (nullable = true)\n",
      "\n"
     ]
    }
   ],
   "source": [
    "# Print the schema of the DataFrame\n",
    "df.printSchema()"
   ]
  },
  {
   "cell_type": "code",
   "execution_count": 6,
   "id": "a8da921c-2564-4725-ae0b-ec8e78387e65",
   "metadata": {},
   "outputs": [
    {
     "name": "stdout",
     "output_type": "stream",
     "text": [
      "root\n",
      " |-- Five-Digit ZIP Code: string (nullable = true)\n",
      " |-- Year: string (nullable = true)\n",
      " |-- Annual Change (%): string (nullable = true)\n",
      " |-- HPI: string (nullable = true)\n",
      " |-- HPI with 1990 base: string (nullable = true)\n",
      " |-- HPI with 2000 base: string (nullable = true)\n",
      "\n"
     ]
    }
   ],
   "source": [
    "# Drop columns _c6 and _c7\n",
    "df = df.drop(\"_c6\", \"_c7\")\n",
    "\n",
    "# Print the updated schema of the DataFrame\n",
    "df.printSchema()"
   ]
  },
  {
   "cell_type": "code",
   "execution_count": 7,
   "id": "95771c85-6231-48eb-b3a1-bb5907d2b75e",
   "metadata": {},
   "outputs": [],
   "source": [
    "from pyspark.sql.functions import col\n",
    "\n",
    "# Convert columns to appropriate data types\n",
    "df = df.withColumn(\"Year\", col(\"Year\").cast(\"integer\"))\n",
    "df = df.withColumn(\"Annual Change (%)\", col(\"Annual Change (%)\").cast(\"double\"))\n",
    "df = df.withColumn(\"HPI\", col(\"HPI\").cast(\"double\"))\n",
    "df = df.withColumn(\"HPI with 1990 base\", col(\"HPI with 1990 base\").cast(\"double\"))\n",
    "df = df.withColumn(\"HPI with 2000 base\", col(\"HPI with 2000 base\").cast(\"double\"))"
   ]
  },
  {
   "cell_type": "code",
   "execution_count": 8,
   "id": "817ff6a1-3b9c-40f8-b5d2-8f6bf1dac057",
   "metadata": {},
   "outputs": [
    {
     "name": "stdout",
     "output_type": "stream",
     "text": [
      "root\n",
      " |-- Five-Digit ZIP Code: string (nullable = true)\n",
      " |-- Year: integer (nullable = true)\n",
      " |-- Annual Change (%): double (nullable = true)\n",
      " |-- HPI: double (nullable = true)\n",
      " |-- HPI with 1990 base: double (nullable = true)\n",
      " |-- HPI with 2000 base: double (nullable = true)\n",
      "\n",
      "+-------------------+----+-----------------+------+------------------+------------------+\n",
      "|Five-Digit ZIP Code|Year|Annual Change (%)|   HPI|HPI with 1990 base|HPI with 2000 base|\n",
      "+-------------------+----+-----------------+------+------------------+------------------+\n",
      "|              01001|1985|             null| 100.0|             62.15|             61.41|\n",
      "|              01001|1986|            13.67|113.67|             70.65|              69.8|\n",
      "|              01001|1987|             21.2|137.77|             85.63|              84.6|\n",
      "|              01001|1988|            17.38|161.72|            100.52|             99.31|\n",
      "|              01001|1989|             1.14|163.57|            101.67|            100.45|\n",
      "|              01001|1990|            -1.64|160.89|             100.0|              98.8|\n",
      "|              01001|1991|             -5.6|151.88|              94.4|             93.27|\n",
      "|              01001|1992|            -1.32|149.88|             93.16|             92.04|\n",
      "|              01001|1993|            -0.21|149.56|             92.96|             91.84|\n",
      "|              01001|1994|            -2.52|145.79|             90.62|             89.53|\n",
      "|              01001|1995|             2.21|149.01|             92.62|             91.51|\n",
      "|              01001|1996|             0.06|149.11|             92.68|             91.56|\n",
      "|              01001|1997|            -1.54| 146.8|             91.24|             90.15|\n",
      "|              01001|1998|             4.29| 153.1|             95.16|             94.02|\n",
      "|              01001|1999|             1.98|156.13|             97.04|             95.88|\n",
      "|              01001|2000|              4.3|162.85|            101.22|             100.0|\n",
      "|              01001|2001|             6.82|173.96|            108.12|            106.82|\n",
      "|              01001|2002|              7.7|187.36|            116.45|            115.05|\n",
      "|              01001|2003|             8.59|203.45|            126.46|            124.94|\n",
      "|              01001|2004|            11.84|227.54|            141.43|            139.73|\n",
      "+-------------------+----+-----------------+------+------------------+------------------+\n",
      "only showing top 20 rows\n",
      "\n"
     ]
    }
   ],
   "source": [
    "# Data Exploration\n",
    "df.printSchema()\n",
    "df.show()"
   ]
  },
  {
   "cell_type": "code",
   "execution_count": 9,
   "id": "22f37420-8e93-439f-95eb-5c0167e25aa8",
   "metadata": {},
   "outputs": [
    {
     "name": "stderr",
     "output_type": "stream",
     "text": [
      "23/06/24 19:34:02 WARN package: Truncated the string representation of a plan since it was too large. This behavior can be adjusted by setting 'spark.sql.debug.maxToStringFields'.\n",
      "[Stage 4:>                                                          (0 + 1) / 1]\r"
     ]
    },
    {
     "name": "stdout",
     "output_type": "stream",
     "text": [
      "+-------+-------------------+------------------+------------------+------------------+------------------+------------------+\n",
      "|summary|Five-Digit ZIP Code|              Year| Annual Change (%)|               HPI|HPI with 1990 base|HPI with 2000 base|\n",
      "+-------+-------------------+------------------+------------------+------------------+------------------+------------------+\n",
      "|  count|             583050|            583050|            550695|            574712|            355693|            509884|\n",
      "|   mean|  49105.33072292256|2003.4646668381786|3.6875284685715584|231.92593147524414|  152.142214859443|112.99945554282924|\n",
      "| stddev|  28744.63026274373|11.061539156110683|7.5356645410384235|180.76179019482916| 72.06262025591505| 45.23156716825102|\n",
      "|    min|              01001|              1975|            -59.22|             41.35|             15.62|              8.94|\n",
      "|    max|              99901|              2020|             94.74|           2681.75|            943.04|            553.61|\n",
      "+-------+-------------------+------------------+------------------+------------------+------------------+------------------+\n",
      "\n"
     ]
    },
    {
     "name": "stderr",
     "output_type": "stream",
     "text": [
      "                                                                                \r"
     ]
    }
   ],
   "source": [
    "# Descriptive Statistics\n",
    "df.describe().show()"
   ]
  },
  {
   "cell_type": "code",
   "execution_count": 10,
   "id": "e0cfb321-2b22-4bd4-8325-8b669b660339",
   "metadata": {},
   "outputs": [
    {
     "name": "stderr",
     "output_type": "stream",
     "text": [
      "                                                                                \r"
     ]
    },
    {
     "data": {
      "image/png": "[encoded data removed]",
      "text/plain": [
       "<Figure size 640x480 with 1 Axes>"
      ]
     },
     "metadata": {},
     "output_type": "display_data"
    }
   ],
   "source": [
    "# Time Series Analysis\n",
    "time_series_data = df.select(\"Year\", \"HPI\").orderBy(\"Year\")\n",
    "years = [row[\"Year\"] for row in time_series_data.collect()]\n",
    "hpi_values = [row[\"HPI\"] for row in time_series_data.collect()]\n",
    "plt.plot(years, hpi_values)\n",
    "plt.xlabel(\"Year\")\n",
    "plt.ylabel(\"HPI\")\n",
    "plt.title(\"Housing Price Index Over Time\")\n",
    "plt.show()"
   ]
  },
  {
   "cell_type": "code",
   "execution_count": 62,
   "id": "a74af55b-068d-4254-bd46-8ef1ea4b2f8c",
   "metadata": {},
   "outputs": [
    {
     "name": "stderr",
     "output_type": "stream",
     "text": [
      "[Stage 12:================================================>         (5 + 1) / 6]\r"
     ]
    },
    {
     "name": "stdout",
     "output_type": "stream",
     "text": [
      "Correlation between Annual Change (%) and HPI with 2000 base: 0.05646698557809872\n"
     ]
    },
    {
     "name": "stderr",
     "output_type": "stream",
     "text": [
      "                                                                                \r"
     ]
    }
   ],
   "source": [
    "# Correlation Analysis\n",
    "correlation = df.stat.corr(\"Annual Change (%)\", \"HPI with 2000 base\")\n",
    "print(\"Correlation between Annual Change (%) and HPI with 2000 base:\", correlation)"
   ]
  },
  {
   "cell_type": "code",
   "execution_count": 12,
   "id": "99066e47-427a-466f-a761-3a6c88ff56e1",
   "metadata": {},
   "outputs": [],
   "source": [
    "# Close SparkSession\n",
    "spark.stop()"
   ]
  },
  {
   "cell_type": "code",
   "execution_count": null,
   "id": "46f58c3f-86c9-4a5b-b5dc-a883aadedd5b",
   "metadata": {},
   "outputs": [],
   "source": []
  }
 ],
 "metadata": {
  "kernelspec": {
   "display_name": "Python 3 (ipykernel)",
   "language": "python",
   "name": "python3"
  },
  "language_info": {
   "codemirror_mode": {
    "name": "ipython",
    "version": 3
   },
   "file_extension": ".py",
   "mimetype": "text/x-python",
   "name": "python",
   "nbconvert_exporter": "python",
   "pygments_lexer": "ipython3",
   "version": "3.9.13"
  }
 },
 "nbformat": 4,
 "nbformat_minor": 5
}
