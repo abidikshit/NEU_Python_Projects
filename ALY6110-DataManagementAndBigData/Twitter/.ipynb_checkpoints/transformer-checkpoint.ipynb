{
 "cells": [
  {
   "cell_type": "code",
   "execution_count": null,
   "id": "b4eef2eb",
   "metadata": {},
   "outputs": [],
   "source": [
    "import numpy as np\n",
    "import pandas as pd\n",
    "import re\n",
    "import html\n",
    "from collections import Counter\n",
    "\n",
    "import matplotlib.pyplot as plt\n",
    "import seaborn as sns\n",
    "from wordcloud import WordCloud\n",
    "\n",
    "import nltk\n",
    "from nltk.corpus import stopwords \n",
    "nltk.download('stopwords')\n",
    "from nltk.tokenize import RegexpTokenizer\n",
    "from nltk.stem.porter import PorterStemmer\n",
    "from nltk.stem.lancaster import LancasterStemmer\n"
   ]
  },
  {
   "cell_type": "code",
   "execution_count": null,
   "id": "26027590",
   "metadata": {},
   "outputs": [],
   "source": [
    "from pyspark.ml.feature import VectorAssembler\n",
    "from pyspark.ml.classification import LogisticRegression\n",
    "from pyspark.ml.evaluation import BinaryClassificationEvaluator\n"
   ]
  },
  {
   "cell_type": "code",
   "execution_count": null,
   "id": "d1f085c0",
   "metadata": {},
   "outputs": [],
   "source": [
    "dataset = pd.read_csv(\"sentiment_analysis.csv\") "
   ]
  },
  {
   "cell_type": "code",
   "execution_count": null,
   "id": "637d8208",
   "metadata": {},
   "outputs": [],
   "source": [
    "dataset = dataset.dropna()"
   ]
  },
  {
   "cell_type": "code",
   "execution_count": null,
   "id": "ec6e704a",
   "metadata": {},
   "outputs": [],
   "source": []
  },
  {
   "cell_type": "code",
   "execution_count": null,
   "id": "9f125971",
   "metadata": {},
   "outputs": [],
   "source": [
    "from sklearn.linear_model import LogisticRegression\n",
    "from sklearn.model_selection import train_test_split\n",
    "from sklearn.metrics import accuracy_score\n",
    "cv = TfidfVectorizer(max_features=50)\n",
    "X = cv.fit_transform(dataset['text'] ).toarray()\n",
    "from sklearn.model_selection import train_test_split\n",
    "from sklearn.metrics import accuracy_score\n",
    "x_train ,x_test,y_train,y_test=train_test_split(X,dataset['label'],\n",
    "                                                test_size=0.3 ,\n",
    "                                                random_state=42)"
   ]
  },
  {
   "cell_type": "code",
   "execution_count": null,
   "id": "3b93b0b7",
   "metadata": {},
   "outputs": [],
   "source": [
    "from sklearn.model_selection import train_test_split\n",
    "from sklearn.metrics import accuracy_score\n",
    "from transformers import BertTokenizer, BertForSequenceClassification\n",
    "import torch\n",
    "\n",
    "# Assuming you have the dataset, cv, X, y, x_train, x_test, y_train, y_test from your existing code\n",
    "\n",
    "# Tokenize the input sentences using BERT tokenizer\n",
    "tokenizer = BertTokenizer.from_pretrained('bert-base-uncased')\n",
    "tokenized_inputs = [tokenizer.encode(sentence, add_special_tokens=True) for sentence in dataset['text']]\n",
    "\n",
    "# Pad the tokenized sentences to a fixed length\n",
    "max_length = max(len(sentence) for sentence in tokenized_inputs)\n",
    "padded_inputs = [sentence + [tokenizer.pad_token_id] * (max_length - len(sentence)) for sentence in tokenized_inputs]\n",
    "\n",
    "# Convert the padded inputs to tensors\n",
    "input_ids = torch.tensor(padded_inputs)\n",
    "\n",
    "# Split the data into training and testing sets\n",
    "X_train, X_test, y_train, y_test = train_test_split(input_ids, dataset['label'], test_size=0.3, random_state=42)\n",
    "\n",
    "# Load pre-trained BERT model for sequence classification\n",
    "model = BertForSequenceClassification.from_pretrained('bert-base-uncased')\n",
    "\n",
    "# Model fitting\n",
    "model.fit(X_train, y_train)\n",
    "\n",
    "# Testing the model\n",
    "with torch.no_grad():\n",
    "    logits = model(X_test)[0]\n",
    "    predicted_labels = torch.argmax(logits, dim=1)\n",
    "\n",
    "# Convert the predicted labels to numpy array\n",
    "predicted_labels = predicted_labels.numpy()\n",
    "\n",
    "# Model accuracy\n",
    "accuracy = accuracy_score(y_test, predicted_labels)\n",
    "print(\"Accuracy:\", accuracy * 100)\n"
   ]
  }
 ],
 "metadata": {
  "kernelspec": {
   "display_name": "Python 3 (ipykernel)",
   "language": "python",
   "name": "python3"
  },
  "language_info": {
   "codemirror_mode": {
    "name": "ipython",
    "version": 3
   },
   "file_extension": ".py",
   "mimetype": "text/x-python",
   "name": "python",
   "nbconvert_exporter": "python",
   "pygments_lexer": "ipython3",
   "version": "3.9.13"
  }
 },
 "nbformat": 4,
 "nbformat_minor": 5
}
